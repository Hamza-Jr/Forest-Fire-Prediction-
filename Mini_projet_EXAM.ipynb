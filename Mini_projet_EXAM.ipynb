{
  "cells": [
    {
      "cell_type": "markdown",
      "id": "91c48266",
      "metadata": {
        "id": "91c48266"
      },
      "source": [
        "# 1-import the libraries important  to work  "
      ]
    },
    {
      "cell_type": "code",
      "execution_count": 27,
      "id": "1a3ad6bd",
      "metadata": {
        "id": "1a3ad6bd"
      },
      "outputs": [],
      "source": [
        "import numpy as np\n",
        "import pandas as pd\n",
        "\n",
        "from sklearn.metrics import precision_score,accuracy_score,recall_score,f1_score\n",
        "from sklearn.metrics import classification_report, confusion_matrix\n",
        "\n",
        "from sklearn import metrics\n",
        "from sklearn.model_selection import train_test_split\n",
        "\n",
        "from sklearn.linear_model import LogisticRegression\n",
        "from sklearn.ensemble import RandomForestClassifier\n",
        "from sklearn.svm import SVC\n",
        "from sklearn.neural_network import MLPClassifier\n",
        "from sklearn.neighbors import KNeighborsClassifier\n",
        "from sklearn.tree import DecisionTreeClassifier\n",
        "from sklearn.naive_bayes import GaussianNB\n",
        "\n",
        "from sklearn.model_selection import cross_val_score\n",
        "from sklearn.model_selection import GridSearchCV\n",
        "\n",
        "from sklearn.preprocessing import StandardScaler\n",
        "\n",
        "from sklearn.model_selection import KFold, cross_val_score\n",
        "\n",
        "import seaborn as sns\n",
        "import matplotlib.pyplot as plt\n"
      ]
    },
    {
      "cell_type": "markdown",
      "id": "175640fc",
      "metadata": {
        "id": "175640fc"
      },
      "source": [
        "# 2 -- Loading data  into a DataFrame using a pd.read_csv()"
      ]
    },
    {
      "cell_type": "code",
      "execution_count": 113,
      "id": "2ac24734",
      "metadata": {
        "id": "2ac24734"
      },
      "outputs": [],
      "source": [
        "dataset_interpol = pd.read_csv('/content/WildFires_DataSet_a_interpoler.csv',sep=\";\")\n"
      ]
    },
    {
      "cell_type": "code",
      "source": [
        "dataset_interpol2 = pd.read_csv('/content/WildFires_DataSet_a_interpoler.csv',sep=\";\")"
      ],
      "metadata": {
        "id": "jkYjuCk21z-R"
      },
      "id": "jkYjuCk21z-R",
      "execution_count": 54,
      "outputs": []
    },
    {
      "cell_type": "markdown",
      "id": "1is3T6kap1KE",
      "metadata": {
        "id": "1is3T6kap1KE"
      },
      "source": [
        "#  **3-- Data Exploration :**"
      ]
    },
    {
      "cell_type": "markdown",
      "id": "iSyrMwxtBAHE",
      "metadata": {
        "id": "iSyrMwxtBAHE"
      },
      "source": [
        "### a-- Summary statistics"
      ]
    },
    {
      "cell_type": "code",
      "execution_count": 29,
      "id": "PMo0zRnCp6BU",
      "metadata": {
        "colab": {
          "base_uri": "https://localhost:8080/"
        },
        "id": "PMo0zRnCp6BU",
        "outputId": "2631711f-b3b7-4d88-cd93-278b6280793f"
      },
      "outputs": [
        {
          "output_type": "execute_result",
          "data": {
            "text/plain": [
              "(1713, 4)"
            ]
          },
          "metadata": {},
          "execution_count": 29
        }
      ],
      "source": [
        "#number of row and coloumn\n",
        "dataset_interpol.shape"
      ]
    },
    {
      "cell_type": "code",
      "execution_count": 30,
      "id": "yhYfCBRgBHi8",
      "metadata": {
        "colab": {
          "base_uri": "https://localhost:8080/"
        },
        "id": "yhYfCBRgBHi8",
        "outputId": "7dd18fbe-4b99-4058-ef6b-7e6401c4fb43"
      },
      "outputs": [
        {
          "output_type": "stream",
          "name": "stdout",
          "text": [
            "<class 'pandas.core.frame.DataFrame'>\n",
            "RangeIndex: 1713 entries, 0 to 1712\n",
            "Data columns (total 4 columns):\n",
            " #   Column       Non-Null Count  Dtype  \n",
            "---  ------       --------------  -----  \n",
            " 0   NDVI         1636 non-null   float64\n",
            " 1   LST          1668 non-null   float64\n",
            " 2   BURNED_AREA  1667 non-null   float64\n",
            " 3   CLASS        1713 non-null   object \n",
            "dtypes: float64(3), object(1)\n",
            "memory usage: 53.7+ KB\n"
          ]
        }
      ],
      "source": [
        "# # Get basic info about the dataset\n",
        "dataset_interpol.info()"
      ]
    },
    {
      "cell_type": "code",
      "execution_count": 31,
      "id": "fJDI_5cgqAxM",
      "metadata": {
        "colab": {
          "base_uri": "https://localhost:8080/",
          "height": 300
        },
        "id": "fJDI_5cgqAxM",
        "outputId": "b58bd85f-729f-4da9-e09b-3ea664de5572"
      },
      "outputs": [
        {
          "output_type": "execute_result",
          "data": {
            "text/plain": [
              "              NDVI           LST  BURNED_AREA\n",
              "count  1636.000000   1668.000000  1667.000000\n",
              "mean      0.555346  14620.883140     4.674627\n",
              "std       0.093223    365.701396     0.584025\n",
              "min       0.030735  13137.000000     3.000000\n",
              "25%       0.500080  14402.670779     4.519508\n",
              "50%       0.564792  14644.124439     4.916339\n",
              "75%       0.622227  14875.508123     5.000000\n",
              "max       0.781723  15611.570513     9.000000"
            ],
            "text/html": [
              "\n",
              "  <div id=\"df-122c2e2c-0464-4ca9-9141-acc6323dac0c\" class=\"colab-df-container\">\n",
              "    <div>\n",
              "<style scoped>\n",
              "    .dataframe tbody tr th:only-of-type {\n",
              "        vertical-align: middle;\n",
              "    }\n",
              "\n",
              "    .dataframe tbody tr th {\n",
              "        vertical-align: top;\n",
              "    }\n",
              "\n",
              "    .dataframe thead th {\n",
              "        text-align: right;\n",
              "    }\n",
              "</style>\n",
              "<table border=\"1\" class=\"dataframe\">\n",
              "  <thead>\n",
              "    <tr style=\"text-align: right;\">\n",
              "      <th></th>\n",
              "      <th>NDVI</th>\n",
              "      <th>LST</th>\n",
              "      <th>BURNED_AREA</th>\n",
              "    </tr>\n",
              "  </thead>\n",
              "  <tbody>\n",
              "    <tr>\n",
              "      <th>count</th>\n",
              "      <td>1636.000000</td>\n",
              "      <td>1668.000000</td>\n",
              "      <td>1667.000000</td>\n",
              "    </tr>\n",
              "    <tr>\n",
              "      <th>mean</th>\n",
              "      <td>0.555346</td>\n",
              "      <td>14620.883140</td>\n",
              "      <td>4.674627</td>\n",
              "    </tr>\n",
              "    <tr>\n",
              "      <th>std</th>\n",
              "      <td>0.093223</td>\n",
              "      <td>365.701396</td>\n",
              "      <td>0.584025</td>\n",
              "    </tr>\n",
              "    <tr>\n",
              "      <th>min</th>\n",
              "      <td>0.030735</td>\n",
              "      <td>13137.000000</td>\n",
              "      <td>3.000000</td>\n",
              "    </tr>\n",
              "    <tr>\n",
              "      <th>25%</th>\n",
              "      <td>0.500080</td>\n",
              "      <td>14402.670779</td>\n",
              "      <td>4.519508</td>\n",
              "    </tr>\n",
              "    <tr>\n",
              "      <th>50%</th>\n",
              "      <td>0.564792</td>\n",
              "      <td>14644.124439</td>\n",
              "      <td>4.916339</td>\n",
              "    </tr>\n",
              "    <tr>\n",
              "      <th>75%</th>\n",
              "      <td>0.622227</td>\n",
              "      <td>14875.508123</td>\n",
              "      <td>5.000000</td>\n",
              "    </tr>\n",
              "    <tr>\n",
              "      <th>max</th>\n",
              "      <td>0.781723</td>\n",
              "      <td>15611.570513</td>\n",
              "      <td>9.000000</td>\n",
              "    </tr>\n",
              "  </tbody>\n",
              "</table>\n",
              "</div>\n",
              "    <div class=\"colab-df-buttons\">\n",
              "\n",
              "  <div class=\"colab-df-container\">\n",
              "    <button class=\"colab-df-convert\" onclick=\"convertToInteractive('df-122c2e2c-0464-4ca9-9141-acc6323dac0c')\"\n",
              "            title=\"Convert this dataframe to an interactive table.\"\n",
              "            style=\"display:none;\">\n",
              "\n",
              "  <svg xmlns=\"http://www.w3.org/2000/svg\" height=\"24px\" viewBox=\"0 -960 960 960\">\n",
              "    <path d=\"M120-120v-720h720v720H120Zm60-500h600v-160H180v160Zm220 220h160v-160H400v160Zm0 220h160v-160H400v160ZM180-400h160v-160H180v160Zm440 0h160v-160H620v160ZM180-180h160v-160H180v160Zm440 0h160v-160H620v160Z\"/>\n",
              "  </svg>\n",
              "    </button>\n",
              "\n",
              "  <style>\n",
              "    .colab-df-container {\n",
              "      display:flex;\n",
              "      gap: 12px;\n",
              "    }\n",
              "\n",
              "    .colab-df-convert {\n",
              "      background-color: #E8F0FE;\n",
              "      border: none;\n",
              "      border-radius: 50%;\n",
              "      cursor: pointer;\n",
              "      display: none;\n",
              "      fill: #1967D2;\n",
              "      height: 32px;\n",
              "      padding: 0 0 0 0;\n",
              "      width: 32px;\n",
              "    }\n",
              "\n",
              "    .colab-df-convert:hover {\n",
              "      background-color: #E2EBFA;\n",
              "      box-shadow: 0px 1px 2px rgba(60, 64, 67, 0.3), 0px 1px 3px 1px rgba(60, 64, 67, 0.15);\n",
              "      fill: #174EA6;\n",
              "    }\n",
              "\n",
              "    .colab-df-buttons div {\n",
              "      margin-bottom: 4px;\n",
              "    }\n",
              "\n",
              "    [theme=dark] .colab-df-convert {\n",
              "      background-color: #3B4455;\n",
              "      fill: #D2E3FC;\n",
              "    }\n",
              "\n",
              "    [theme=dark] .colab-df-convert:hover {\n",
              "      background-color: #434B5C;\n",
              "      box-shadow: 0px 1px 3px 1px rgba(0, 0, 0, 0.15);\n",
              "      filter: drop-shadow(0px 1px 2px rgba(0, 0, 0, 0.3));\n",
              "      fill: #FFFFFF;\n",
              "    }\n",
              "  </style>\n",
              "\n",
              "    <script>\n",
              "      const buttonEl =\n",
              "        document.querySelector('#df-122c2e2c-0464-4ca9-9141-acc6323dac0c button.colab-df-convert');\n",
              "      buttonEl.style.display =\n",
              "        google.colab.kernel.accessAllowed ? 'block' : 'none';\n",
              "\n",
              "      async function convertToInteractive(key) {\n",
              "        const element = document.querySelector('#df-122c2e2c-0464-4ca9-9141-acc6323dac0c');\n",
              "        const dataTable =\n",
              "          await google.colab.kernel.invokeFunction('convertToInteractive',\n",
              "                                                    [key], {});\n",
              "        if (!dataTable) return;\n",
              "\n",
              "        const docLinkHtml = 'Like what you see? Visit the ' +\n",
              "          '<a target=\"_blank\" href=https://colab.research.google.com/notebooks/data_table.ipynb>data table notebook</a>'\n",
              "          + ' to learn more about interactive tables.';\n",
              "        element.innerHTML = '';\n",
              "        dataTable['output_type'] = 'display_data';\n",
              "        await google.colab.output.renderOutput(dataTable, element);\n",
              "        const docLink = document.createElement('div');\n",
              "        docLink.innerHTML = docLinkHtml;\n",
              "        element.appendChild(docLink);\n",
              "      }\n",
              "    </script>\n",
              "  </div>\n",
              "\n",
              "\n",
              "<div id=\"df-9799e3f7-b6df-4c17-890f-8f063338c606\">\n",
              "  <button class=\"colab-df-quickchart\" onclick=\"quickchart('df-9799e3f7-b6df-4c17-890f-8f063338c606')\"\n",
              "            title=\"Suggest charts\"\n",
              "            style=\"display:none;\">\n",
              "\n",
              "<svg xmlns=\"http://www.w3.org/2000/svg\" height=\"24px\"viewBox=\"0 0 24 24\"\n",
              "     width=\"24px\">\n",
              "    <g>\n",
              "        <path d=\"M19 3H5c-1.1 0-2 .9-2 2v14c0 1.1.9 2 2 2h14c1.1 0 2-.9 2-2V5c0-1.1-.9-2-2-2zM9 17H7v-7h2v7zm4 0h-2V7h2v10zm4 0h-2v-4h2v4z\"/>\n",
              "    </g>\n",
              "</svg>\n",
              "  </button>\n",
              "\n",
              "<style>\n",
              "  .colab-df-quickchart {\n",
              "      --bg-color: #E8F0FE;\n",
              "      --fill-color: #1967D2;\n",
              "      --hover-bg-color: #E2EBFA;\n",
              "      --hover-fill-color: #174EA6;\n",
              "      --disabled-fill-color: #AAA;\n",
              "      --disabled-bg-color: #DDD;\n",
              "  }\n",
              "\n",
              "  [theme=dark] .colab-df-quickchart {\n",
              "      --bg-color: #3B4455;\n",
              "      --fill-color: #D2E3FC;\n",
              "      --hover-bg-color: #434B5C;\n",
              "      --hover-fill-color: #FFFFFF;\n",
              "      --disabled-bg-color: #3B4455;\n",
              "      --disabled-fill-color: #666;\n",
              "  }\n",
              "\n",
              "  .colab-df-quickchart {\n",
              "    background-color: var(--bg-color);\n",
              "    border: none;\n",
              "    border-radius: 50%;\n",
              "    cursor: pointer;\n",
              "    display: none;\n",
              "    fill: var(--fill-color);\n",
              "    height: 32px;\n",
              "    padding: 0;\n",
              "    width: 32px;\n",
              "  }\n",
              "\n",
              "  .colab-df-quickchart:hover {\n",
              "    background-color: var(--hover-bg-color);\n",
              "    box-shadow: 0 1px 2px rgba(60, 64, 67, 0.3), 0 1px 3px 1px rgba(60, 64, 67, 0.15);\n",
              "    fill: var(--button-hover-fill-color);\n",
              "  }\n",
              "\n",
              "  .colab-df-quickchart-complete:disabled,\n",
              "  .colab-df-quickchart-complete:disabled:hover {\n",
              "    background-color: var(--disabled-bg-color);\n",
              "    fill: var(--disabled-fill-color);\n",
              "    box-shadow: none;\n",
              "  }\n",
              "\n",
              "  .colab-df-spinner {\n",
              "    border: 2px solid var(--fill-color);\n",
              "    border-color: transparent;\n",
              "    border-bottom-color: var(--fill-color);\n",
              "    animation:\n",
              "      spin 1s steps(1) infinite;\n",
              "  }\n",
              "\n",
              "  @keyframes spin {\n",
              "    0% {\n",
              "      border-color: transparent;\n",
              "      border-bottom-color: var(--fill-color);\n",
              "      border-left-color: var(--fill-color);\n",
              "    }\n",
              "    20% {\n",
              "      border-color: transparent;\n",
              "      border-left-color: var(--fill-color);\n",
              "      border-top-color: var(--fill-color);\n",
              "    }\n",
              "    30% {\n",
              "      border-color: transparent;\n",
              "      border-left-color: var(--fill-color);\n",
              "      border-top-color: var(--fill-color);\n",
              "      border-right-color: var(--fill-color);\n",
              "    }\n",
              "    40% {\n",
              "      border-color: transparent;\n",
              "      border-right-color: var(--fill-color);\n",
              "      border-top-color: var(--fill-color);\n",
              "    }\n",
              "    60% {\n",
              "      border-color: transparent;\n",
              "      border-right-color: var(--fill-color);\n",
              "    }\n",
              "    80% {\n",
              "      border-color: transparent;\n",
              "      border-right-color: var(--fill-color);\n",
              "      border-bottom-color: var(--fill-color);\n",
              "    }\n",
              "    90% {\n",
              "      border-color: transparent;\n",
              "      border-bottom-color: var(--fill-color);\n",
              "    }\n",
              "  }\n",
              "</style>\n",
              "\n",
              "  <script>\n",
              "    async function quickchart(key) {\n",
              "      const quickchartButtonEl =\n",
              "        document.querySelector('#' + key + ' button');\n",
              "      quickchartButtonEl.disabled = true;  // To prevent multiple clicks.\n",
              "      quickchartButtonEl.classList.add('colab-df-spinner');\n",
              "      try {\n",
              "        const charts = await google.colab.kernel.invokeFunction(\n",
              "            'suggestCharts', [key], {});\n",
              "      } catch (error) {\n",
              "        console.error('Error during call to suggestCharts:', error);\n",
              "      }\n",
              "      quickchartButtonEl.classList.remove('colab-df-spinner');\n",
              "      quickchartButtonEl.classList.add('colab-df-quickchart-complete');\n",
              "    }\n",
              "    (() => {\n",
              "      let quickchartButtonEl =\n",
              "        document.querySelector('#df-9799e3f7-b6df-4c17-890f-8f063338c606 button');\n",
              "      quickchartButtonEl.style.display =\n",
              "        google.colab.kernel.accessAllowed ? 'block' : 'none';\n",
              "    })();\n",
              "  </script>\n",
              "</div>\n",
              "\n",
              "    </div>\n",
              "  </div>\n"
            ],
            "application/vnd.google.colaboratory.intrinsic+json": {
              "type": "dataframe",
              "summary": "{\n  \"name\": \"dataset\",\n  \"rows\": 8,\n  \"fields\": [\n    {\n      \"column\": \"NDVI\",\n      \"properties\": {\n        \"dtype\": \"number\",\n        \"std\": 578.2544006972438,\n        \"min\": 0.030735,\n        \"max\": 1636.0,\n        \"num_unique_values\": 8,\n        \"samples\": [\n          0.5553457426650367,\n          0.5647915,\n          1636.0\n        ],\n        \"semantic_type\": \"\",\n        \"description\": \"\"\n      }\n    },\n    {\n      \"column\": \"LST\",\n      \"properties\": {\n        \"dtype\": \"number\",\n        \"std\": 6310.721565062637,\n        \"min\": 365.7013956068058,\n        \"max\": 15611.570513,\n        \"num_unique_values\": 8,\n        \"samples\": [\n          14620.883140046162,\n          14644.1244395,\n          1668.0\n        ],\n        \"semantic_type\": \"\",\n        \"description\": \"\"\n      }\n    },\n    {\n      \"column\": \"BURNED_AREA\",\n      \"properties\": {\n        \"dtype\": \"number\",\n        \"std\": 587.7773405553129,\n        \"min\": 0.5840249136912425,\n        \"max\": 1667.0,\n        \"num_unique_values\": 8,\n        \"samples\": [\n          4.674626982003599,\n          4.916339,\n          1667.0\n        ],\n        \"semantic_type\": \"\",\n        \"description\": \"\"\n      }\n    }\n  ]\n}"
            }
          },
          "metadata": {},
          "execution_count": 31
        }
      ],
      "source": [
        "#get mean and min and max...\n",
        "dataset_interpol.describe()"
      ]
    },
    {
      "cell_type": "code",
      "execution_count": 32,
      "id": "79d46936",
      "metadata": {
        "colab": {
          "base_uri": "https://localhost:8080/",
          "height": 143
        },
        "id": "79d46936",
        "outputId": "6f7bce3d-80bc-48a3-f4f6-2c7946018d5d"
      },
      "outputs": [
        {
          "output_type": "execute_result",
          "data": {
            "text/plain": [
              "             NDVI           LST  BURNED_AREA\n",
              "CLASS                                       \n",
              "fire     0.533820  14818.074189     4.759683\n",
              "no_fire  0.561593  14563.101577     4.649855"
            ],
            "text/html": [
              "\n",
              "  <div id=\"df-5370dd64-aa02-4789-b58d-13a43cde7137\" class=\"colab-df-container\">\n",
              "    <div>\n",
              "<style scoped>\n",
              "    .dataframe tbody tr th:only-of-type {\n",
              "        vertical-align: middle;\n",
              "    }\n",
              "\n",
              "    .dataframe tbody tr th {\n",
              "        vertical-align: top;\n",
              "    }\n",
              "\n",
              "    .dataframe thead th {\n",
              "        text-align: right;\n",
              "    }\n",
              "</style>\n",
              "<table border=\"1\" class=\"dataframe\">\n",
              "  <thead>\n",
              "    <tr style=\"text-align: right;\">\n",
              "      <th></th>\n",
              "      <th>NDVI</th>\n",
              "      <th>LST</th>\n",
              "      <th>BURNED_AREA</th>\n",
              "    </tr>\n",
              "    <tr>\n",
              "      <th>CLASS</th>\n",
              "      <th></th>\n",
              "      <th></th>\n",
              "      <th></th>\n",
              "    </tr>\n",
              "  </thead>\n",
              "  <tbody>\n",
              "    <tr>\n",
              "      <th>fire</th>\n",
              "      <td>0.533820</td>\n",
              "      <td>14818.074189</td>\n",
              "      <td>4.759683</td>\n",
              "    </tr>\n",
              "    <tr>\n",
              "      <th>no_fire</th>\n",
              "      <td>0.561593</td>\n",
              "      <td>14563.101577</td>\n",
              "      <td>4.649855</td>\n",
              "    </tr>\n",
              "  </tbody>\n",
              "</table>\n",
              "</div>\n",
              "    <div class=\"colab-df-buttons\">\n",
              "\n",
              "  <div class=\"colab-df-container\">\n",
              "    <button class=\"colab-df-convert\" onclick=\"convertToInteractive('df-5370dd64-aa02-4789-b58d-13a43cde7137')\"\n",
              "            title=\"Convert this dataframe to an interactive table.\"\n",
              "            style=\"display:none;\">\n",
              "\n",
              "  <svg xmlns=\"http://www.w3.org/2000/svg\" height=\"24px\" viewBox=\"0 -960 960 960\">\n",
              "    <path d=\"M120-120v-720h720v720H120Zm60-500h600v-160H180v160Zm220 220h160v-160H400v160Zm0 220h160v-160H400v160ZM180-400h160v-160H180v160Zm440 0h160v-160H620v160ZM180-180h160v-160H180v160Zm440 0h160v-160H620v160Z\"/>\n",
              "  </svg>\n",
              "    </button>\n",
              "\n",
              "  <style>\n",
              "    .colab-df-container {\n",
              "      display:flex;\n",
              "      gap: 12px;\n",
              "    }\n",
              "\n",
              "    .colab-df-convert {\n",
              "      background-color: #E8F0FE;\n",
              "      border: none;\n",
              "      border-radius: 50%;\n",
              "      cursor: pointer;\n",
              "      display: none;\n",
              "      fill: #1967D2;\n",
              "      height: 32px;\n",
              "      padding: 0 0 0 0;\n",
              "      width: 32px;\n",
              "    }\n",
              "\n",
              "    .colab-df-convert:hover {\n",
              "      background-color: #E2EBFA;\n",
              "      box-shadow: 0px 1px 2px rgba(60, 64, 67, 0.3), 0px 1px 3px 1px rgba(60, 64, 67, 0.15);\n",
              "      fill: #174EA6;\n",
              "    }\n",
              "\n",
              "    .colab-df-buttons div {\n",
              "      margin-bottom: 4px;\n",
              "    }\n",
              "\n",
              "    [theme=dark] .colab-df-convert {\n",
              "      background-color: #3B4455;\n",
              "      fill: #D2E3FC;\n",
              "    }\n",
              "\n",
              "    [theme=dark] .colab-df-convert:hover {\n",
              "      background-color: #434B5C;\n",
              "      box-shadow: 0px 1px 3px 1px rgba(0, 0, 0, 0.15);\n",
              "      filter: drop-shadow(0px 1px 2px rgba(0, 0, 0, 0.3));\n",
              "      fill: #FFFFFF;\n",
              "    }\n",
              "  </style>\n",
              "\n",
              "    <script>\n",
              "      const buttonEl =\n",
              "        document.querySelector('#df-5370dd64-aa02-4789-b58d-13a43cde7137 button.colab-df-convert');\n",
              "      buttonEl.style.display =\n",
              "        google.colab.kernel.accessAllowed ? 'block' : 'none';\n",
              "\n",
              "      async function convertToInteractive(key) {\n",
              "        const element = document.querySelector('#df-5370dd64-aa02-4789-b58d-13a43cde7137');\n",
              "        const dataTable =\n",
              "          await google.colab.kernel.invokeFunction('convertToInteractive',\n",
              "                                                    [key], {});\n",
              "        if (!dataTable) return;\n",
              "\n",
              "        const docLinkHtml = 'Like what you see? Visit the ' +\n",
              "          '<a target=\"_blank\" href=https://colab.research.google.com/notebooks/data_table.ipynb>data table notebook</a>'\n",
              "          + ' to learn more about interactive tables.';\n",
              "        element.innerHTML = '';\n",
              "        dataTable['output_type'] = 'display_data';\n",
              "        await google.colab.output.renderOutput(dataTable, element);\n",
              "        const docLink = document.createElement('div');\n",
              "        docLink.innerHTML = docLinkHtml;\n",
              "        element.appendChild(docLink);\n",
              "      }\n",
              "    </script>\n",
              "  </div>\n",
              "\n",
              "\n",
              "<div id=\"df-9944ceef-3bdb-4a2d-9a52-60fcf01d876f\">\n",
              "  <button class=\"colab-df-quickchart\" onclick=\"quickchart('df-9944ceef-3bdb-4a2d-9a52-60fcf01d876f')\"\n",
              "            title=\"Suggest charts\"\n",
              "            style=\"display:none;\">\n",
              "\n",
              "<svg xmlns=\"http://www.w3.org/2000/svg\" height=\"24px\"viewBox=\"0 0 24 24\"\n",
              "     width=\"24px\">\n",
              "    <g>\n",
              "        <path d=\"M19 3H5c-1.1 0-2 .9-2 2v14c0 1.1.9 2 2 2h14c1.1 0 2-.9 2-2V5c0-1.1-.9-2-2-2zM9 17H7v-7h2v7zm4 0h-2V7h2v10zm4 0h-2v-4h2v4z\"/>\n",
              "    </g>\n",
              "</svg>\n",
              "  </button>\n",
              "\n",
              "<style>\n",
              "  .colab-df-quickchart {\n",
              "      --bg-color: #E8F0FE;\n",
              "      --fill-color: #1967D2;\n",
              "      --hover-bg-color: #E2EBFA;\n",
              "      --hover-fill-color: #174EA6;\n",
              "      --disabled-fill-color: #AAA;\n",
              "      --disabled-bg-color: #DDD;\n",
              "  }\n",
              "\n",
              "  [theme=dark] .colab-df-quickchart {\n",
              "      --bg-color: #3B4455;\n",
              "      --fill-color: #D2E3FC;\n",
              "      --hover-bg-color: #434B5C;\n",
              "      --hover-fill-color: #FFFFFF;\n",
              "      --disabled-bg-color: #3B4455;\n",
              "      --disabled-fill-color: #666;\n",
              "  }\n",
              "\n",
              "  .colab-df-quickchart {\n",
              "    background-color: var(--bg-color);\n",
              "    border: none;\n",
              "    border-radius: 50%;\n",
              "    cursor: pointer;\n",
              "    display: none;\n",
              "    fill: var(--fill-color);\n",
              "    height: 32px;\n",
              "    padding: 0;\n",
              "    width: 32px;\n",
              "  }\n",
              "\n",
              "  .colab-df-quickchart:hover {\n",
              "    background-color: var(--hover-bg-color);\n",
              "    box-shadow: 0 1px 2px rgba(60, 64, 67, 0.3), 0 1px 3px 1px rgba(60, 64, 67, 0.15);\n",
              "    fill: var(--button-hover-fill-color);\n",
              "  }\n",
              "\n",
              "  .colab-df-quickchart-complete:disabled,\n",
              "  .colab-df-quickchart-complete:disabled:hover {\n",
              "    background-color: var(--disabled-bg-color);\n",
              "    fill: var(--disabled-fill-color);\n",
              "    box-shadow: none;\n",
              "  }\n",
              "\n",
              "  .colab-df-spinner {\n",
              "    border: 2px solid var(--fill-color);\n",
              "    border-color: transparent;\n",
              "    border-bottom-color: var(--fill-color);\n",
              "    animation:\n",
              "      spin 1s steps(1) infinite;\n",
              "  }\n",
              "\n",
              "  @keyframes spin {\n",
              "    0% {\n",
              "      border-color: transparent;\n",
              "      border-bottom-color: var(--fill-color);\n",
              "      border-left-color: var(--fill-color);\n",
              "    }\n",
              "    20% {\n",
              "      border-color: transparent;\n",
              "      border-left-color: var(--fill-color);\n",
              "      border-top-color: var(--fill-color);\n",
              "    }\n",
              "    30% {\n",
              "      border-color: transparent;\n",
              "      border-left-color: var(--fill-color);\n",
              "      border-top-color: var(--fill-color);\n",
              "      border-right-color: var(--fill-color);\n",
              "    }\n",
              "    40% {\n",
              "      border-color: transparent;\n",
              "      border-right-color: var(--fill-color);\n",
              "      border-top-color: var(--fill-color);\n",
              "    }\n",
              "    60% {\n",
              "      border-color: transparent;\n",
              "      border-right-color: var(--fill-color);\n",
              "    }\n",
              "    80% {\n",
              "      border-color: transparent;\n",
              "      border-right-color: var(--fill-color);\n",
              "      border-bottom-color: var(--fill-color);\n",
              "    }\n",
              "    90% {\n",
              "      border-color: transparent;\n",
              "      border-bottom-color: var(--fill-color);\n",
              "    }\n",
              "  }\n",
              "</style>\n",
              "\n",
              "  <script>\n",
              "    async function quickchart(key) {\n",
              "      const quickchartButtonEl =\n",
              "        document.querySelector('#' + key + ' button');\n",
              "      quickchartButtonEl.disabled = true;  // To prevent multiple clicks.\n",
              "      quickchartButtonEl.classList.add('colab-df-spinner');\n",
              "      try {\n",
              "        const charts = await google.colab.kernel.invokeFunction(\n",
              "            'suggestCharts', [key], {});\n",
              "      } catch (error) {\n",
              "        console.error('Error during call to suggestCharts:', error);\n",
              "      }\n",
              "      quickchartButtonEl.classList.remove('colab-df-spinner');\n",
              "      quickchartButtonEl.classList.add('colab-df-quickchart-complete');\n",
              "    }\n",
              "    (() => {\n",
              "      let quickchartButtonEl =\n",
              "        document.querySelector('#df-9944ceef-3bdb-4a2d-9a52-60fcf01d876f button');\n",
              "      quickchartButtonEl.style.display =\n",
              "        google.colab.kernel.accessAllowed ? 'block' : 'none';\n",
              "    })();\n",
              "  </script>\n",
              "</div>\n",
              "\n",
              "    </div>\n",
              "  </div>\n"
            ],
            "application/vnd.google.colaboratory.intrinsic+json": {
              "type": "dataframe",
              "summary": "{\n  \"name\": \"dataset\",\n  \"rows\": 2,\n  \"fields\": [\n    {\n      \"column\": \"CLASS\",\n      \"properties\": {\n        \"dtype\": \"string\",\n        \"num_unique_values\": 2,\n        \"samples\": [\n          \"no_fire\",\n          \"fire\"\n        ],\n        \"semantic_type\": \"\",\n        \"description\": \"\"\n      }\n    },\n    {\n      \"column\": \"NDVI\",\n      \"properties\": {\n        \"dtype\": \"number\",\n        \"std\": 0.0196388757210432,\n        \"min\": 0.5338195326086956,\n        \"max\": 0.5615930970031546,\n        \"num_unique_values\": 2,\n        \"samples\": [\n          0.5615930970031546,\n          0.5338195326086956\n        ],\n        \"semantic_type\": \"\",\n        \"description\": \"\"\n      }\n    },\n    {\n      \"column\": \"LST\",\n      \"properties\": {\n        \"dtype\": \"number\",\n        \"std\": 180.29286269273234,\n        \"min\": 14563.101576981397,\n        \"max\": 14818.074188600529,\n        \"num_unique_values\": 2,\n        \"samples\": [\n          14563.101576981397,\n          14818.074188600529\n        ],\n        \"semantic_type\": \"\",\n        \"description\": \"\"\n      }\n    },\n    {\n      \"column\": \"BURNED_AREA\",\n      \"properties\": {\n        \"dtype\": \"number\",\n        \"std\": 0.07766000431119198,\n        \"min\": 4.649854777691712,\n        \"max\": 4.759682609042553,\n        \"num_unique_values\": 2,\n        \"samples\": [\n          4.649854777691712,\n          4.759682609042553\n        ],\n        \"semantic_type\": \"\",\n        \"description\": \"\"\n      }\n    }\n  ]\n}"
            }
          },
          "metadata": {},
          "execution_count": 32
        }
      ],
      "source": [
        "dataset_interpol.groupby('CLASS').mean()"
      ]
    },
    {
      "cell_type": "code",
      "execution_count": 33,
      "id": "NVhm_-DHqGb0",
      "metadata": {
        "colab": {
          "base_uri": "https://localhost:8080/"
        },
        "id": "NVhm_-DHqGb0",
        "outputId": "aabe31b8-7df9-4f02-9c55-2bac142c9c75"
      },
      "outputs": [
        {
          "output_type": "execute_result",
          "data": {
            "text/plain": [
              "CLASS\n",
              "no_fire    1327\n",
              "fire        386\n",
              "Name: count, dtype: int64"
            ]
          },
          "metadata": {},
          "execution_count": 33
        }
      ],
      "source": [
        "#checking the distribution of rows\n",
        "dataset_interpol['CLASS'].value_counts()"
      ]
    },
    {
      "cell_type": "markdown",
      "id": "DaeeynngCA4T",
      "metadata": {
        "id": "DaeeynngCA4T"
      },
      "source": [
        "### b-- Data visualization"
      ]
    },
    {
      "cell_type": "code",
      "execution_count": 34,
      "id": "LYyYtTjOCHcU",
      "metadata": {
        "colab": {
          "base_uri": "https://localhost:8080/",
          "height": 206
        },
        "id": "LYyYtTjOCHcU",
        "outputId": "9855612f-c6b9-4e2c-94c2-424e706a1059"
      },
      "outputs": [
        {
          "output_type": "execute_result",
          "data": {
            "text/plain": [
              "       NDVI           LST  BURNED_AREA    CLASS\n",
              "0  0.506782  14584.272727     4.692308  no_fire\n",
              "1  0.522150  14655.833333     5.000000  no_fire\n",
              "2  0.682284  14780.000000     5.000000     fire\n",
              "3       NaN  13298.500000     3.500000  no_fire\n",
              "4       NaN  14743.000000     5.000000  no_fire"
            ],
            "text/html": [
              "\n",
              "  <div id=\"df-10109e29-8792-4c1e-83f7-41893d9aab03\" class=\"colab-df-container\">\n",
              "    <div>\n",
              "<style scoped>\n",
              "    .dataframe tbody tr th:only-of-type {\n",
              "        vertical-align: middle;\n",
              "    }\n",
              "\n",
              "    .dataframe tbody tr th {\n",
              "        vertical-align: top;\n",
              "    }\n",
              "\n",
              "    .dataframe thead th {\n",
              "        text-align: right;\n",
              "    }\n",
              "</style>\n",
              "<table border=\"1\" class=\"dataframe\">\n",
              "  <thead>\n",
              "    <tr style=\"text-align: right;\">\n",
              "      <th></th>\n",
              "      <th>NDVI</th>\n",
              "      <th>LST</th>\n",
              "      <th>BURNED_AREA</th>\n",
              "      <th>CLASS</th>\n",
              "    </tr>\n",
              "  </thead>\n",
              "  <tbody>\n",
              "    <tr>\n",
              "      <th>0</th>\n",
              "      <td>0.506782</td>\n",
              "      <td>14584.272727</td>\n",
              "      <td>4.692308</td>\n",
              "      <td>no_fire</td>\n",
              "    </tr>\n",
              "    <tr>\n",
              "      <th>1</th>\n",
              "      <td>0.522150</td>\n",
              "      <td>14655.833333</td>\n",
              "      <td>5.000000</td>\n",
              "      <td>no_fire</td>\n",
              "    </tr>\n",
              "    <tr>\n",
              "      <th>2</th>\n",
              "      <td>0.682284</td>\n",
              "      <td>14780.000000</td>\n",
              "      <td>5.000000</td>\n",
              "      <td>fire</td>\n",
              "    </tr>\n",
              "    <tr>\n",
              "      <th>3</th>\n",
              "      <td>NaN</td>\n",
              "      <td>13298.500000</td>\n",
              "      <td>3.500000</td>\n",
              "      <td>no_fire</td>\n",
              "    </tr>\n",
              "    <tr>\n",
              "      <th>4</th>\n",
              "      <td>NaN</td>\n",
              "      <td>14743.000000</td>\n",
              "      <td>5.000000</td>\n",
              "      <td>no_fire</td>\n",
              "    </tr>\n",
              "  </tbody>\n",
              "</table>\n",
              "</div>\n",
              "    <div class=\"colab-df-buttons\">\n",
              "\n",
              "  <div class=\"colab-df-container\">\n",
              "    <button class=\"colab-df-convert\" onclick=\"convertToInteractive('df-10109e29-8792-4c1e-83f7-41893d9aab03')\"\n",
              "            title=\"Convert this dataframe to an interactive table.\"\n",
              "            style=\"display:none;\">\n",
              "\n",
              "  <svg xmlns=\"http://www.w3.org/2000/svg\" height=\"24px\" viewBox=\"0 -960 960 960\">\n",
              "    <path d=\"M120-120v-720h720v720H120Zm60-500h600v-160H180v160Zm220 220h160v-160H400v160Zm0 220h160v-160H400v160ZM180-400h160v-160H180v160Zm440 0h160v-160H620v160ZM180-180h160v-160H180v160Zm440 0h160v-160H620v160Z\"/>\n",
              "  </svg>\n",
              "    </button>\n",
              "\n",
              "  <style>\n",
              "    .colab-df-container {\n",
              "      display:flex;\n",
              "      gap: 12px;\n",
              "    }\n",
              "\n",
              "    .colab-df-convert {\n",
              "      background-color: #E8F0FE;\n",
              "      border: none;\n",
              "      border-radius: 50%;\n",
              "      cursor: pointer;\n",
              "      display: none;\n",
              "      fill: #1967D2;\n",
              "      height: 32px;\n",
              "      padding: 0 0 0 0;\n",
              "      width: 32px;\n",
              "    }\n",
              "\n",
              "    .colab-df-convert:hover {\n",
              "      background-color: #E2EBFA;\n",
              "      box-shadow: 0px 1px 2px rgba(60, 64, 67, 0.3), 0px 1px 3px 1px rgba(60, 64, 67, 0.15);\n",
              "      fill: #174EA6;\n",
              "    }\n",
              "\n",
              "    .colab-df-buttons div {\n",
              "      margin-bottom: 4px;\n",
              "    }\n",
              "\n",
              "    [theme=dark] .colab-df-convert {\n",
              "      background-color: #3B4455;\n",
              "      fill: #D2E3FC;\n",
              "    }\n",
              "\n",
              "    [theme=dark] .colab-df-convert:hover {\n",
              "      background-color: #434B5C;\n",
              "      box-shadow: 0px 1px 3px 1px rgba(0, 0, 0, 0.15);\n",
              "      filter: drop-shadow(0px 1px 2px rgba(0, 0, 0, 0.3));\n",
              "      fill: #FFFFFF;\n",
              "    }\n",
              "  </style>\n",
              "\n",
              "    <script>\n",
              "      const buttonEl =\n",
              "        document.querySelector('#df-10109e29-8792-4c1e-83f7-41893d9aab03 button.colab-df-convert');\n",
              "      buttonEl.style.display =\n",
              "        google.colab.kernel.accessAllowed ? 'block' : 'none';\n",
              "\n",
              "      async function convertToInteractive(key) {\n",
              "        const element = document.querySelector('#df-10109e29-8792-4c1e-83f7-41893d9aab03');\n",
              "        const dataTable =\n",
              "          await google.colab.kernel.invokeFunction('convertToInteractive',\n",
              "                                                    [key], {});\n",
              "        if (!dataTable) return;\n",
              "\n",
              "        const docLinkHtml = 'Like what you see? Visit the ' +\n",
              "          '<a target=\"_blank\" href=https://colab.research.google.com/notebooks/data_table.ipynb>data table notebook</a>'\n",
              "          + ' to learn more about interactive tables.';\n",
              "        element.innerHTML = '';\n",
              "        dataTable['output_type'] = 'display_data';\n",
              "        await google.colab.output.renderOutput(dataTable, element);\n",
              "        const docLink = document.createElement('div');\n",
              "        docLink.innerHTML = docLinkHtml;\n",
              "        element.appendChild(docLink);\n",
              "      }\n",
              "    </script>\n",
              "  </div>\n",
              "\n",
              "\n",
              "<div id=\"df-8d4a13e5-0791-4d66-906e-f0715453941f\">\n",
              "  <button class=\"colab-df-quickchart\" onclick=\"quickchart('df-8d4a13e5-0791-4d66-906e-f0715453941f')\"\n",
              "            title=\"Suggest charts\"\n",
              "            style=\"display:none;\">\n",
              "\n",
              "<svg xmlns=\"http://www.w3.org/2000/svg\" height=\"24px\"viewBox=\"0 0 24 24\"\n",
              "     width=\"24px\">\n",
              "    <g>\n",
              "        <path d=\"M19 3H5c-1.1 0-2 .9-2 2v14c0 1.1.9 2 2 2h14c1.1 0 2-.9 2-2V5c0-1.1-.9-2-2-2zM9 17H7v-7h2v7zm4 0h-2V7h2v10zm4 0h-2v-4h2v4z\"/>\n",
              "    </g>\n",
              "</svg>\n",
              "  </button>\n",
              "\n",
              "<style>\n",
              "  .colab-df-quickchart {\n",
              "      --bg-color: #E8F0FE;\n",
              "      --fill-color: #1967D2;\n",
              "      --hover-bg-color: #E2EBFA;\n",
              "      --hover-fill-color: #174EA6;\n",
              "      --disabled-fill-color: #AAA;\n",
              "      --disabled-bg-color: #DDD;\n",
              "  }\n",
              "\n",
              "  [theme=dark] .colab-df-quickchart {\n",
              "      --bg-color: #3B4455;\n",
              "      --fill-color: #D2E3FC;\n",
              "      --hover-bg-color: #434B5C;\n",
              "      --hover-fill-color: #FFFFFF;\n",
              "      --disabled-bg-color: #3B4455;\n",
              "      --disabled-fill-color: #666;\n",
              "  }\n",
              "\n",
              "  .colab-df-quickchart {\n",
              "    background-color: var(--bg-color);\n",
              "    border: none;\n",
              "    border-radius: 50%;\n",
              "    cursor: pointer;\n",
              "    display: none;\n",
              "    fill: var(--fill-color);\n",
              "    height: 32px;\n",
              "    padding: 0;\n",
              "    width: 32px;\n",
              "  }\n",
              "\n",
              "  .colab-df-quickchart:hover {\n",
              "    background-color: var(--hover-bg-color);\n",
              "    box-shadow: 0 1px 2px rgba(60, 64, 67, 0.3), 0 1px 3px 1px rgba(60, 64, 67, 0.15);\n",
              "    fill: var(--button-hover-fill-color);\n",
              "  }\n",
              "\n",
              "  .colab-df-quickchart-complete:disabled,\n",
              "  .colab-df-quickchart-complete:disabled:hover {\n",
              "    background-color: var(--disabled-bg-color);\n",
              "    fill: var(--disabled-fill-color);\n",
              "    box-shadow: none;\n",
              "  }\n",
              "\n",
              "  .colab-df-spinner {\n",
              "    border: 2px solid var(--fill-color);\n",
              "    border-color: transparent;\n",
              "    border-bottom-color: var(--fill-color);\n",
              "    animation:\n",
              "      spin 1s steps(1) infinite;\n",
              "  }\n",
              "\n",
              "  @keyframes spin {\n",
              "    0% {\n",
              "      border-color: transparent;\n",
              "      border-bottom-color: var(--fill-color);\n",
              "      border-left-color: var(--fill-color);\n",
              "    }\n",
              "    20% {\n",
              "      border-color: transparent;\n",
              "      border-left-color: var(--fill-color);\n",
              "      border-top-color: var(--fill-color);\n",
              "    }\n",
              "    30% {\n",
              "      border-color: transparent;\n",
              "      border-left-color: var(--fill-color);\n",
              "      border-top-color: var(--fill-color);\n",
              "      border-right-color: var(--fill-color);\n",
              "    }\n",
              "    40% {\n",
              "      border-color: transparent;\n",
              "      border-right-color: var(--fill-color);\n",
              "      border-top-color: var(--fill-color);\n",
              "    }\n",
              "    60% {\n",
              "      border-color: transparent;\n",
              "      border-right-color: var(--fill-color);\n",
              "    }\n",
              "    80% {\n",
              "      border-color: transparent;\n",
              "      border-right-color: var(--fill-color);\n",
              "      border-bottom-color: var(--fill-color);\n",
              "    }\n",
              "    90% {\n",
              "      border-color: transparent;\n",
              "      border-bottom-color: var(--fill-color);\n",
              "    }\n",
              "  }\n",
              "</style>\n",
              "\n",
              "  <script>\n",
              "    async function quickchart(key) {\n",
              "      const quickchartButtonEl =\n",
              "        document.querySelector('#' + key + ' button');\n",
              "      quickchartButtonEl.disabled = true;  // To prevent multiple clicks.\n",
              "      quickchartButtonEl.classList.add('colab-df-spinner');\n",
              "      try {\n",
              "        const charts = await google.colab.kernel.invokeFunction(\n",
              "            'suggestCharts', [key], {});\n",
              "      } catch (error) {\n",
              "        console.error('Error during call to suggestCharts:', error);\n",
              "      }\n",
              "      quickchartButtonEl.classList.remove('colab-df-spinner');\n",
              "      quickchartButtonEl.classList.add('colab-df-quickchart-complete');\n",
              "    }\n",
              "    (() => {\n",
              "      let quickchartButtonEl =\n",
              "        document.querySelector('#df-8d4a13e5-0791-4d66-906e-f0715453941f button');\n",
              "      quickchartButtonEl.style.display =\n",
              "        google.colab.kernel.accessAllowed ? 'block' : 'none';\n",
              "    })();\n",
              "  </script>\n",
              "</div>\n",
              "\n",
              "    </div>\n",
              "  </div>\n"
            ],
            "application/vnd.google.colaboratory.intrinsic+json": {
              "type": "dataframe",
              "variable_name": "dataset",
              "summary": "{\n  \"name\": \"dataset\",\n  \"rows\": 1713,\n  \"fields\": [\n    {\n      \"column\": \"NDVI\",\n      \"properties\": {\n        \"dtype\": \"number\",\n        \"std\": 0.09322333287346629,\n        \"min\": 0.030735,\n        \"max\": 0.781723,\n        \"num_unique_values\": 1385,\n        \"samples\": [\n          0.61489,\n          0.499069,\n          0.572342\n        ],\n        \"semantic_type\": \"\",\n        \"description\": \"\"\n      }\n    },\n    {\n      \"column\": \"LST\",\n      \"properties\": {\n        \"dtype\": \"number\",\n        \"std\": 365.7013956068058,\n        \"min\": 13137.0,\n        \"max\": 15611.570513,\n        \"num_unique_values\": 1324,\n        \"samples\": [\n          14755.0,\n          14622.5,\n          14597.126506\n        ],\n        \"semantic_type\": \"\",\n        \"description\": \"\"\n      }\n    },\n    {\n      \"column\": \"BURNED_AREA\",\n      \"properties\": {\n        \"dtype\": \"number\",\n        \"std\": 0.5840249136912425,\n        \"min\": 3.0,\n        \"max\": 9.0,\n        \"num_unique_values\": 535,\n        \"samples\": [\n          5.142857,\n          4.625,\n          4.44095\n        ],\n        \"semantic_type\": \"\",\n        \"description\": \"\"\n      }\n    },\n    {\n      \"column\": \"CLASS\",\n      \"properties\": {\n        \"dtype\": \"category\",\n        \"num_unique_values\": 2,\n        \"samples\": [\n          \"fire\",\n          \"no_fire\"\n        ],\n        \"semantic_type\": \"\",\n        \"description\": \"\"\n      }\n    }\n  ]\n}"
            }
          },
          "metadata": {},
          "execution_count": 34
        }
      ],
      "source": [
        "#show first 5 ligne\n",
        "dataset_interpol.head()"
      ]
    },
    {
      "cell_type": "code",
      "execution_count": 35,
      "id": "tcfXibDnCTyz",
      "metadata": {
        "colab": {
          "base_uri": "https://localhost:8080/",
          "height": 206
        },
        "id": "tcfXibDnCTyz",
        "outputId": "9f7862fe-5a4a-4cc3-c916-29ad1792b0c7"
      },
      "outputs": [
        {
          "output_type": "execute_result",
          "data": {
            "text/plain": [
              "          NDVI           LST  BURNED_AREA    CLASS\n",
              "1708  0.621721  14406.000000     5.000000  no_fire\n",
              "1709  0.709715  14330.400000     4.851852  no_fire\n",
              "1710  0.613000  14751.500000     3.000000     fire\n",
              "1711  0.614471  13611.000000     4.921053  no_fire\n",
              "1712  0.549497  14269.777778     5.000000     fire"
            ],
            "text/html": [
              "\n",
              "  <div id=\"df-38ff8705-7652-4542-a487-2dd44da95274\" class=\"colab-df-container\">\n",
              "    <div>\n",
              "<style scoped>\n",
              "    .dataframe tbody tr th:only-of-type {\n",
              "        vertical-align: middle;\n",
              "    }\n",
              "\n",
              "    .dataframe tbody tr th {\n",
              "        vertical-align: top;\n",
              "    }\n",
              "\n",
              "    .dataframe thead th {\n",
              "        text-align: right;\n",
              "    }\n",
              "</style>\n",
              "<table border=\"1\" class=\"dataframe\">\n",
              "  <thead>\n",
              "    <tr style=\"text-align: right;\">\n",
              "      <th></th>\n",
              "      <th>NDVI</th>\n",
              "      <th>LST</th>\n",
              "      <th>BURNED_AREA</th>\n",
              "      <th>CLASS</th>\n",
              "    </tr>\n",
              "  </thead>\n",
              "  <tbody>\n",
              "    <tr>\n",
              "      <th>1708</th>\n",
              "      <td>0.621721</td>\n",
              "      <td>14406.000000</td>\n",
              "      <td>5.000000</td>\n",
              "      <td>no_fire</td>\n",
              "    </tr>\n",
              "    <tr>\n",
              "      <th>1709</th>\n",
              "      <td>0.709715</td>\n",
              "      <td>14330.400000</td>\n",
              "      <td>4.851852</td>\n",
              "      <td>no_fire</td>\n",
              "    </tr>\n",
              "    <tr>\n",
              "      <th>1710</th>\n",
              "      <td>0.613000</td>\n",
              "      <td>14751.500000</td>\n",
              "      <td>3.000000</td>\n",
              "      <td>fire</td>\n",
              "    </tr>\n",
              "    <tr>\n",
              "      <th>1711</th>\n",
              "      <td>0.614471</td>\n",
              "      <td>13611.000000</td>\n",
              "      <td>4.921053</td>\n",
              "      <td>no_fire</td>\n",
              "    </tr>\n",
              "    <tr>\n",
              "      <th>1712</th>\n",
              "      <td>0.549497</td>\n",
              "      <td>14269.777778</td>\n",
              "      <td>5.000000</td>\n",
              "      <td>fire</td>\n",
              "    </tr>\n",
              "  </tbody>\n",
              "</table>\n",
              "</div>\n",
              "    <div class=\"colab-df-buttons\">\n",
              "\n",
              "  <div class=\"colab-df-container\">\n",
              "    <button class=\"colab-df-convert\" onclick=\"convertToInteractive('df-38ff8705-7652-4542-a487-2dd44da95274')\"\n",
              "            title=\"Convert this dataframe to an interactive table.\"\n",
              "            style=\"display:none;\">\n",
              "\n",
              "  <svg xmlns=\"http://www.w3.org/2000/svg\" height=\"24px\" viewBox=\"0 -960 960 960\">\n",
              "    <path d=\"M120-120v-720h720v720H120Zm60-500h600v-160H180v160Zm220 220h160v-160H400v160Zm0 220h160v-160H400v160ZM180-400h160v-160H180v160Zm440 0h160v-160H620v160ZM180-180h160v-160H180v160Zm440 0h160v-160H620v160Z\"/>\n",
              "  </svg>\n",
              "    </button>\n",
              "\n",
              "  <style>\n",
              "    .colab-df-container {\n",
              "      display:flex;\n",
              "      gap: 12px;\n",
              "    }\n",
              "\n",
              "    .colab-df-convert {\n",
              "      background-color: #E8F0FE;\n",
              "      border: none;\n",
              "      border-radius: 50%;\n",
              "      cursor: pointer;\n",
              "      display: none;\n",
              "      fill: #1967D2;\n",
              "      height: 32px;\n",
              "      padding: 0 0 0 0;\n",
              "      width: 32px;\n",
              "    }\n",
              "\n",
              "    .colab-df-convert:hover {\n",
              "      background-color: #E2EBFA;\n",
              "      box-shadow: 0px 1px 2px rgba(60, 64, 67, 0.3), 0px 1px 3px 1px rgba(60, 64, 67, 0.15);\n",
              "      fill: #174EA6;\n",
              "    }\n",
              "\n",
              "    .colab-df-buttons div {\n",
              "      margin-bottom: 4px;\n",
              "    }\n",
              "\n",
              "    [theme=dark] .colab-df-convert {\n",
              "      background-color: #3B4455;\n",
              "      fill: #D2E3FC;\n",
              "    }\n",
              "\n",
              "    [theme=dark] .colab-df-convert:hover {\n",
              "      background-color: #434B5C;\n",
              "      box-shadow: 0px 1px 3px 1px rgba(0, 0, 0, 0.15);\n",
              "      filter: drop-shadow(0px 1px 2px rgba(0, 0, 0, 0.3));\n",
              "      fill: #FFFFFF;\n",
              "    }\n",
              "  </style>\n",
              "\n",
              "    <script>\n",
              "      const buttonEl =\n",
              "        document.querySelector('#df-38ff8705-7652-4542-a487-2dd44da95274 button.colab-df-convert');\n",
              "      buttonEl.style.display =\n",
              "        google.colab.kernel.accessAllowed ? 'block' : 'none';\n",
              "\n",
              "      async function convertToInteractive(key) {\n",
              "        const element = document.querySelector('#df-38ff8705-7652-4542-a487-2dd44da95274');\n",
              "        const dataTable =\n",
              "          await google.colab.kernel.invokeFunction('convertToInteractive',\n",
              "                                                    [key], {});\n",
              "        if (!dataTable) return;\n",
              "\n",
              "        const docLinkHtml = 'Like what you see? Visit the ' +\n",
              "          '<a target=\"_blank\" href=https://colab.research.google.com/notebooks/data_table.ipynb>data table notebook</a>'\n",
              "          + ' to learn more about interactive tables.';\n",
              "        element.innerHTML = '';\n",
              "        dataTable['output_type'] = 'display_data';\n",
              "        await google.colab.output.renderOutput(dataTable, element);\n",
              "        const docLink = document.createElement('div');\n",
              "        docLink.innerHTML = docLinkHtml;\n",
              "        element.appendChild(docLink);\n",
              "      }\n",
              "    </script>\n",
              "  </div>\n",
              "\n",
              "\n",
              "<div id=\"df-daf732b6-f37d-489f-9462-62b6f8f64c1a\">\n",
              "  <button class=\"colab-df-quickchart\" onclick=\"quickchart('df-daf732b6-f37d-489f-9462-62b6f8f64c1a')\"\n",
              "            title=\"Suggest charts\"\n",
              "            style=\"display:none;\">\n",
              "\n",
              "<svg xmlns=\"http://www.w3.org/2000/svg\" height=\"24px\"viewBox=\"0 0 24 24\"\n",
              "     width=\"24px\">\n",
              "    <g>\n",
              "        <path d=\"M19 3H5c-1.1 0-2 .9-2 2v14c0 1.1.9 2 2 2h14c1.1 0 2-.9 2-2V5c0-1.1-.9-2-2-2zM9 17H7v-7h2v7zm4 0h-2V7h2v10zm4 0h-2v-4h2v4z\"/>\n",
              "    </g>\n",
              "</svg>\n",
              "  </button>\n",
              "\n",
              "<style>\n",
              "  .colab-df-quickchart {\n",
              "      --bg-color: #E8F0FE;\n",
              "      --fill-color: #1967D2;\n",
              "      --hover-bg-color: #E2EBFA;\n",
              "      --hover-fill-color: #174EA6;\n",
              "      --disabled-fill-color: #AAA;\n",
              "      --disabled-bg-color: #DDD;\n",
              "  }\n",
              "\n",
              "  [theme=dark] .colab-df-quickchart {\n",
              "      --bg-color: #3B4455;\n",
              "      --fill-color: #D2E3FC;\n",
              "      --hover-bg-color: #434B5C;\n",
              "      --hover-fill-color: #FFFFFF;\n",
              "      --disabled-bg-color: #3B4455;\n",
              "      --disabled-fill-color: #666;\n",
              "  }\n",
              "\n",
              "  .colab-df-quickchart {\n",
              "    background-color: var(--bg-color);\n",
              "    border: none;\n",
              "    border-radius: 50%;\n",
              "    cursor: pointer;\n",
              "    display: none;\n",
              "    fill: var(--fill-color);\n",
              "    height: 32px;\n",
              "    padding: 0;\n",
              "    width: 32px;\n",
              "  }\n",
              "\n",
              "  .colab-df-quickchart:hover {\n",
              "    background-color: var(--hover-bg-color);\n",
              "    box-shadow: 0 1px 2px rgba(60, 64, 67, 0.3), 0 1px 3px 1px rgba(60, 64, 67, 0.15);\n",
              "    fill: var(--button-hover-fill-color);\n",
              "  }\n",
              "\n",
              "  .colab-df-quickchart-complete:disabled,\n",
              "  .colab-df-quickchart-complete:disabled:hover {\n",
              "    background-color: var(--disabled-bg-color);\n",
              "    fill: var(--disabled-fill-color);\n",
              "    box-shadow: none;\n",
              "  }\n",
              "\n",
              "  .colab-df-spinner {\n",
              "    border: 2px solid var(--fill-color);\n",
              "    border-color: transparent;\n",
              "    border-bottom-color: var(--fill-color);\n",
              "    animation:\n",
              "      spin 1s steps(1) infinite;\n",
              "  }\n",
              "\n",
              "  @keyframes spin {\n",
              "    0% {\n",
              "      border-color: transparent;\n",
              "      border-bottom-color: var(--fill-color);\n",
              "      border-left-color: var(--fill-color);\n",
              "    }\n",
              "    20% {\n",
              "      border-color: transparent;\n",
              "      border-left-color: var(--fill-color);\n",
              "      border-top-color: var(--fill-color);\n",
              "    }\n",
              "    30% {\n",
              "      border-color: transparent;\n",
              "      border-left-color: var(--fill-color);\n",
              "      border-top-color: var(--fill-color);\n",
              "      border-right-color: var(--fill-color);\n",
              "    }\n",
              "    40% {\n",
              "      border-color: transparent;\n",
              "      border-right-color: var(--fill-color);\n",
              "      border-top-color: var(--fill-color);\n",
              "    }\n",
              "    60% {\n",
              "      border-color: transparent;\n",
              "      border-right-color: var(--fill-color);\n",
              "    }\n",
              "    80% {\n",
              "      border-color: transparent;\n",
              "      border-right-color: var(--fill-color);\n",
              "      border-bottom-color: var(--fill-color);\n",
              "    }\n",
              "    90% {\n",
              "      border-color: transparent;\n",
              "      border-bottom-color: var(--fill-color);\n",
              "    }\n",
              "  }\n",
              "</style>\n",
              "\n",
              "  <script>\n",
              "    async function quickchart(key) {\n",
              "      const quickchartButtonEl =\n",
              "        document.querySelector('#' + key + ' button');\n",
              "      quickchartButtonEl.disabled = true;  // To prevent multiple clicks.\n",
              "      quickchartButtonEl.classList.add('colab-df-spinner');\n",
              "      try {\n",
              "        const charts = await google.colab.kernel.invokeFunction(\n",
              "            'suggestCharts', [key], {});\n",
              "      } catch (error) {\n",
              "        console.error('Error during call to suggestCharts:', error);\n",
              "      }\n",
              "      quickchartButtonEl.classList.remove('colab-df-spinner');\n",
              "      quickchartButtonEl.classList.add('colab-df-quickchart-complete');\n",
              "    }\n",
              "    (() => {\n",
              "      let quickchartButtonEl =\n",
              "        document.querySelector('#df-daf732b6-f37d-489f-9462-62b6f8f64c1a button');\n",
              "      quickchartButtonEl.style.display =\n",
              "        google.colab.kernel.accessAllowed ? 'block' : 'none';\n",
              "    })();\n",
              "  </script>\n",
              "</div>\n",
              "\n",
              "    </div>\n",
              "  </div>\n"
            ],
            "application/vnd.google.colaboratory.intrinsic+json": {
              "type": "dataframe",
              "summary": "{\n  \"name\": \"dataset\",\n  \"rows\": 5,\n  \"fields\": [\n    {\n      \"column\": \"NDVI\",\n      \"properties\": {\n        \"dtype\": \"number\",\n        \"std\": 0.0572010936801037,\n        \"min\": 0.549497,\n        \"max\": 0.709715,\n        \"num_unique_values\": 5,\n        \"samples\": [\n          0.709715,\n          0.549497,\n          0.613\n        ],\n        \"semantic_type\": \"\",\n        \"description\": \"\"\n      }\n    },\n    {\n      \"column\": \"LST\",\n      \"properties\": {\n        \"dtype\": \"number\",\n        \"std\": 414.7884061495734,\n        \"min\": 13611.0,\n        \"max\": 14751.5,\n        \"num_unique_values\": 5,\n        \"samples\": [\n          14330.4,\n          14269.777778,\n          14751.5\n        ],\n        \"semantic_type\": \"\",\n        \"description\": \"\"\n      }\n    },\n    {\n      \"column\": \"BURNED_AREA\",\n      \"properties\": {\n        \"dtype\": \"number\",\n        \"std\": 0.8712333256522043,\n        \"min\": 3.0,\n        \"max\": 5.0,\n        \"num_unique_values\": 4,\n        \"samples\": [\n          4.851852,\n          4.921053,\n          5.0\n        ],\n        \"semantic_type\": \"\",\n        \"description\": \"\"\n      }\n    },\n    {\n      \"column\": \"CLASS\",\n      \"properties\": {\n        \"dtype\": \"category\",\n        \"num_unique_values\": 2,\n        \"samples\": [\n          \"fire\",\n          \"no_fire\"\n        ],\n        \"semantic_type\": \"\",\n        \"description\": \"\"\n      }\n    }\n  ]\n}"
            }
          },
          "metadata": {},
          "execution_count": 35
        }
      ],
      "source": [
        "#show last 5 ligne\n",
        "dataset_interpol.tail()"
      ]
    },
    {
      "cell_type": "code",
      "execution_count": 36,
      "id": "D2g-r-ubomf4",
      "metadata": {
        "colab": {
          "base_uri": "https://localhost:8080/",
          "height": 472
        },
        "id": "D2g-r-ubomf4",
        "outputId": "82113706-561b-4911-f3c2-efef4d013016"
      },
      "outputs": [
        {
          "output_type": "display_data",
          "data": {
            "text/plain": [
              "<Figure size 640x480 with 1 Axes>"
            ],
            "image/png": "[encoded data removed]"
          },
          "metadata": {}
        }
      ],
      "source": [
        "# plot Data\n",
        "class_counts = {'No Fire': 1327, 'Fire': 386}\n",
        "\n",
        "# Create a bar plot\n",
        "plt.bar(class_counts.keys(), class_counts.values(), color=['blue', 'red'])\n",
        "\n",
        "# Add labels and title\n",
        "plt.xlabel('Class')\n",
        "plt.ylabel('Count')\n",
        "plt.title('Distribution of Fire and No Fire Instances')\n",
        "\n",
        "# Show plot\n",
        "plt.show()"
      ]
    },
    {
      "cell_type": "code",
      "execution_count": 37,
      "id": "wC2CudtmucEj",
      "metadata": {
        "colab": {
          "base_uri": "https://localhost:8080/",
          "height": 452
        },
        "id": "wC2CudtmucEj",
        "outputId": "0213dbc2-44ff-4c31-fcd4-530706a20ccd"
      },
      "outputs": [
        {
          "output_type": "display_data",
          "data": {
            "text/plain": [
              "<Figure size 640x480 with 2 Axes>"
            ],
            "image/png": "[encoded data removed]"
          },
          "metadata": {}
        }
      ],
      "source": [
        "correlation_matrix = dataset_interpol.select_dtypes(include=[np.number]).corr()\n",
        "\n",
        "    # Affichage de la matrice de corrélation avec seaborn\n",
        "sns.heatmap(correlation_matrix, annot=True)\n",
        "plt.title('Matrice de Corrélation')\n",
        "plt.show()"
      ]
    },
    {
      "cell_type": "markdown",
      "id": "39ca0518",
      "metadata": {
        "id": "39ca0518"
      },
      "source": [
        "# **4 -- Data preprocessing :**"
      ]
    },
    {
      "cell_type": "markdown",
      "source": [
        "## **a-Detecting Missing values**\n",
        "\n",
        "\n",
        "*  Detecting missing values numerically\n",
        "---\n",
        "The first step is to detect the count/percentage of missing values in every column of the dataset. This will give an idea about the distribution of missing values.\n",
        "\n",
        "\n",
        "\n",
        "\n",
        "\n",
        "\n",
        "\n",
        "\n",
        "\n",
        "\n"
      ],
      "metadata": {
        "id": "XvCs13aTXFkz"
      },
      "id": "XvCs13aTXFkz"
    },
    {
      "cell_type": "code",
      "execution_count": 38,
      "id": "0ded3ebf",
      "metadata": {
        "colab": {
          "base_uri": "https://localhost:8080/"
        },
        "id": "0ded3ebf",
        "outputId": "5f12c5ba-3b94-476f-9a31-2daf46c503a4"
      },
      "outputs": [
        {
          "output_type": "execute_result",
          "data": {
            "text/plain": [
              "NDVI           77\n",
              "LST            45\n",
              "BURNED_AREA    46\n",
              "CLASS           0\n",
              "dtype: int64"
            ]
          },
          "metadata": {},
          "execution_count": 38
        }
      ],
      "source": [
        "#checking missing values\n",
        "dataset_interpol.isnull().sum()"
      ]
    },
    {
      "cell_type": "code",
      "source": [
        "def missing_values_table(df):\n",
        "        # Total missing values\n",
        "        mis_val = df.isnull().sum()\n",
        "\n",
        "        # Percentage of missing values\n",
        "        mis_val_percent = 100 * df.isnull().sum() / len(df)\n",
        "\n",
        "        # Make a table with the results\n",
        "        mis_val_table = pd.concat([mis_val, mis_val_percent], axis=1)\n",
        "\n",
        "        # Rename the columns\n",
        "        mis_val_table_ren_columns = mis_val_table.rename(\n",
        "        columns = {0 : 'Missing Values', 1 : '% of Total Values'})\n",
        "\n",
        "        # Sort the table by percentage of missing descending\n",
        "        mis_val_table_ren_columns = mis_val_table_ren_columns[\n",
        "            mis_val_table_ren_columns.iloc[:,1] != 0].sort_values(\n",
        "        '% of Total Values', ascending=False).round(1)\n",
        "\n",
        "        # Print some summary information\n",
        "        print (\"Your selected dataframe has \" + str(df.shape[1]) + \" columns.\\n\"\n",
        "            \"There are \" + str(mis_val_table_ren_columns.shape[0]) +\n",
        "              \" columns that have missing values.\")\n",
        "\n",
        "        # Return the dataframe with missing information\n",
        "        return mis_val_table_ren_columns"
      ],
      "metadata": {
        "id": "-tPhYrsVYsE4"
      },
      "id": "-tPhYrsVYsE4",
      "execution_count": 41,
      "outputs": []
    },
    {
      "cell_type": "code",
      "source": [
        "missingV= missing_values_table(dataset_interpol)\n",
        "missingV"
      ],
      "metadata": {
        "colab": {
          "base_uri": "https://localhost:8080/",
          "height": 178
        },
        "id": "1QkD-tbxXqNe",
        "outputId": "335eb86d-eed6-4fc8-f71e-93531f430646"
      },
      "id": "1QkD-tbxXqNe",
      "execution_count": 42,
      "outputs": [
        {
          "output_type": "stream",
          "name": "stdout",
          "text": [
            "Your selected dataframe has 4 columns.\n",
            "There are 3 columns that have missing values.\n"
          ]
        },
        {
          "output_type": "execute_result",
          "data": {
            "text/plain": [
              "             Missing Values  % of Total Values\n",
              "NDVI                     77                4.5\n",
              "BURNED_AREA              46                2.7\n",
              "LST                      45                2.6"
            ],
            "text/html": [
              "\n",
              "  <div id=\"df-0efc4240-3589-4b7d-937e-651896e4b2f2\" class=\"colab-df-container\">\n",
              "    <div>\n",
              "<style scoped>\n",
              "    .dataframe tbody tr th:only-of-type {\n",
              "        vertical-align: middle;\n",
              "    }\n",
              "\n",
              "    .dataframe tbody tr th {\n",
              "        vertical-align: top;\n",
              "    }\n",
              "\n",
              "    .dataframe thead th {\n",
              "        text-align: right;\n",
              "    }\n",
              "</style>\n",
              "<table border=\"1\" class=\"dataframe\">\n",
              "  <thead>\n",
              "    <tr style=\"text-align: right;\">\n",
              "      <th></th>\n",
              "      <th>Missing Values</th>\n",
              "      <th>% of Total Values</th>\n",
              "    </tr>\n",
              "  </thead>\n",
              "  <tbody>\n",
              "    <tr>\n",
              "      <th>NDVI</th>\n",
              "      <td>77</td>\n",
              "      <td>4.5</td>\n",
              "    </tr>\n",
              "    <tr>\n",
              "      <th>BURNED_AREA</th>\n",
              "      <td>46</td>\n",
              "      <td>2.7</td>\n",
              "    </tr>\n",
              "    <tr>\n",
              "      <th>LST</th>\n",
              "      <td>45</td>\n",
              "      <td>2.6</td>\n",
              "    </tr>\n",
              "  </tbody>\n",
              "</table>\n",
              "</div>\n",
              "    <div class=\"colab-df-buttons\">\n",
              "\n",
              "  <div class=\"colab-df-container\">\n",
              "    <button class=\"colab-df-convert\" onclick=\"convertToInteractive('df-0efc4240-3589-4b7d-937e-651896e4b2f2')\"\n",
              "            title=\"Convert this dataframe to an interactive table.\"\n",
              "            style=\"display:none;\">\n",
              "\n",
              "  <svg xmlns=\"http://www.w3.org/2000/svg\" height=\"24px\" viewBox=\"0 -960 960 960\">\n",
              "    <path d=\"M120-120v-720h720v720H120Zm60-500h600v-160H180v160Zm220 220h160v-160H400v160Zm0 220h160v-160H400v160ZM180-400h160v-160H180v160Zm440 0h160v-160H620v160ZM180-180h160v-160H180v160Zm440 0h160v-160H620v160Z\"/>\n",
              "  </svg>\n",
              "    </button>\n",
              "\n",
              "  <style>\n",
              "    .colab-df-container {\n",
              "      display:flex;\n",
              "      gap: 12px;\n",
              "    }\n",
              "\n",
              "    .colab-df-convert {\n",
              "      background-color: #E8F0FE;\n",
              "      border: none;\n",
              "      border-radius: 50%;\n",
              "      cursor: pointer;\n",
              "      display: none;\n",
              "      fill: #1967D2;\n",
              "      height: 32px;\n",
              "      padding: 0 0 0 0;\n",
              "      width: 32px;\n",
              "    }\n",
              "\n",
              "    .colab-df-convert:hover {\n",
              "      background-color: #E2EBFA;\n",
              "      box-shadow: 0px 1px 2px rgba(60, 64, 67, 0.3), 0px 1px 3px 1px rgba(60, 64, 67, 0.15);\n",
              "      fill: #174EA6;\n",
              "    }\n",
              "\n",
              "    .colab-df-buttons div {\n",
              "      margin-bottom: 4px;\n",
              "    }\n",
              "\n",
              "    [theme=dark] .colab-df-convert {\n",
              "      background-color: #3B4455;\n",
              "      fill: #D2E3FC;\n",
              "    }\n",
              "\n",
              "    [theme=dark] .colab-df-convert:hover {\n",
              "      background-color: #434B5C;\n",
              "      box-shadow: 0px 1px 3px 1px rgba(0, 0, 0, 0.15);\n",
              "      filter: drop-shadow(0px 1px 2px rgba(0, 0, 0, 0.3));\n",
              "      fill: #FFFFFF;\n",
              "    }\n",
              "  </style>\n",
              "\n",
              "    <script>\n",
              "      const buttonEl =\n",
              "        document.querySelector('#df-0efc4240-3589-4b7d-937e-651896e4b2f2 button.colab-df-convert');\n",
              "      buttonEl.style.display =\n",
              "        google.colab.kernel.accessAllowed ? 'block' : 'none';\n",
              "\n",
              "      async function convertToInteractive(key) {\n",
              "        const element = document.querySelector('#df-0efc4240-3589-4b7d-937e-651896e4b2f2');\n",
              "        const dataTable =\n",
              "          await google.colab.kernel.invokeFunction('convertToInteractive',\n",
              "                                                    [key], {});\n",
              "        if (!dataTable) return;\n",
              "\n",
              "        const docLinkHtml = 'Like what you see? Visit the ' +\n",
              "          '<a target=\"_blank\" href=https://colab.research.google.com/notebooks/data_table.ipynb>data table notebook</a>'\n",
              "          + ' to learn more about interactive tables.';\n",
              "        element.innerHTML = '';\n",
              "        dataTable['output_type'] = 'display_data';\n",
              "        await google.colab.output.renderOutput(dataTable, element);\n",
              "        const docLink = document.createElement('div');\n",
              "        docLink.innerHTML = docLinkHtml;\n",
              "        element.appendChild(docLink);\n",
              "      }\n",
              "    </script>\n",
              "  </div>\n",
              "\n",
              "\n",
              "<div id=\"df-1ae6a3eb-5001-4c43-831d-15ff06aa1f17\">\n",
              "  <button class=\"colab-df-quickchart\" onclick=\"quickchart('df-1ae6a3eb-5001-4c43-831d-15ff06aa1f17')\"\n",
              "            title=\"Suggest charts\"\n",
              "            style=\"display:none;\">\n",
              "\n",
              "<svg xmlns=\"http://www.w3.org/2000/svg\" height=\"24px\"viewBox=\"0 0 24 24\"\n",
              "     width=\"24px\">\n",
              "    <g>\n",
              "        <path d=\"M19 3H5c-1.1 0-2 .9-2 2v14c0 1.1.9 2 2 2h14c1.1 0 2-.9 2-2V5c0-1.1-.9-2-2-2zM9 17H7v-7h2v7zm4 0h-2V7h2v10zm4 0h-2v-4h2v4z\"/>\n",
              "    </g>\n",
              "</svg>\n",
              "  </button>\n",
              "\n",
              "<style>\n",
              "  .colab-df-quickchart {\n",
              "      --bg-color: #E8F0FE;\n",
              "      --fill-color: #1967D2;\n",
              "      --hover-bg-color: #E2EBFA;\n",
              "      --hover-fill-color: #174EA6;\n",
              "      --disabled-fill-color: #AAA;\n",
              "      --disabled-bg-color: #DDD;\n",
              "  }\n",
              "\n",
              "  [theme=dark] .colab-df-quickchart {\n",
              "      --bg-color: #3B4455;\n",
              "      --fill-color: #D2E3FC;\n",
              "      --hover-bg-color: #434B5C;\n",
              "      --hover-fill-color: #FFFFFF;\n",
              "      --disabled-bg-color: #3B4455;\n",
              "      --disabled-fill-color: #666;\n",
              "  }\n",
              "\n",
              "  .colab-df-quickchart {\n",
              "    background-color: var(--bg-color);\n",
              "    border: none;\n",
              "    border-radius: 50%;\n",
              "    cursor: pointer;\n",
              "    display: none;\n",
              "    fill: var(--fill-color);\n",
              "    height: 32px;\n",
              "    padding: 0;\n",
              "    width: 32px;\n",
              "  }\n",
              "\n",
              "  .colab-df-quickchart:hover {\n",
              "    background-color: var(--hover-bg-color);\n",
              "    box-shadow: 0 1px 2px rgba(60, 64, 67, 0.3), 0 1px 3px 1px rgba(60, 64, 67, 0.15);\n",
              "    fill: var(--button-hover-fill-color);\n",
              "  }\n",
              "\n",
              "  .colab-df-quickchart-complete:disabled,\n",
              "  .colab-df-quickchart-complete:disabled:hover {\n",
              "    background-color: var(--disabled-bg-color);\n",
              "    fill: var(--disabled-fill-color);\n",
              "    box-shadow: none;\n",
              "  }\n",
              "\n",
              "  .colab-df-spinner {\n",
              "    border: 2px solid var(--fill-color);\n",
              "    border-color: transparent;\n",
              "    border-bottom-color: var(--fill-color);\n",
              "    animation:\n",
              "      spin 1s steps(1) infinite;\n",
              "  }\n",
              "\n",
              "  @keyframes spin {\n",
              "    0% {\n",
              "      border-color: transparent;\n",
              "      border-bottom-color: var(--fill-color);\n",
              "      border-left-color: var(--fill-color);\n",
              "    }\n",
              "    20% {\n",
              "      border-color: transparent;\n",
              "      border-left-color: var(--fill-color);\n",
              "      border-top-color: var(--fill-color);\n",
              "    }\n",
              "    30% {\n",
              "      border-color: transparent;\n",
              "      border-left-color: var(--fill-color);\n",
              "      border-top-color: var(--fill-color);\n",
              "      border-right-color: var(--fill-color);\n",
              "    }\n",
              "    40% {\n",
              "      border-color: transparent;\n",
              "      border-right-color: var(--fill-color);\n",
              "      border-top-color: var(--fill-color);\n",
              "    }\n",
              "    60% {\n",
              "      border-color: transparent;\n",
              "      border-right-color: var(--fill-color);\n",
              "    }\n",
              "    80% {\n",
              "      border-color: transparent;\n",
              "      border-right-color: var(--fill-color);\n",
              "      border-bottom-color: var(--fill-color);\n",
              "    }\n",
              "    90% {\n",
              "      border-color: transparent;\n",
              "      border-bottom-color: var(--fill-color);\n",
              "    }\n",
              "  }\n",
              "</style>\n",
              "\n",
              "  <script>\n",
              "    async function quickchart(key) {\n",
              "      const quickchartButtonEl =\n",
              "        document.querySelector('#' + key + ' button');\n",
              "      quickchartButtonEl.disabled = true;  // To prevent multiple clicks.\n",
              "      quickchartButtonEl.classList.add('colab-df-spinner');\n",
              "      try {\n",
              "        const charts = await google.colab.kernel.invokeFunction(\n",
              "            'suggestCharts', [key], {});\n",
              "      } catch (error) {\n",
              "        console.error('Error during call to suggestCharts:', error);\n",
              "      }\n",
              "      quickchartButtonEl.classList.remove('colab-df-spinner');\n",
              "      quickchartButtonEl.classList.add('colab-df-quickchart-complete');\n",
              "    }\n",
              "    (() => {\n",
              "      let quickchartButtonEl =\n",
              "        document.querySelector('#df-1ae6a3eb-5001-4c43-831d-15ff06aa1f17 button');\n",
              "      quickchartButtonEl.style.display =\n",
              "        google.colab.kernel.accessAllowed ? 'block' : 'none';\n",
              "    })();\n",
              "  </script>\n",
              "</div>\n",
              "\n",
              "  <div id=\"id_f5dc2100-14c9-44a4-948a-13bc833a551e\">\n",
              "    <style>\n",
              "      .colab-df-generate {\n",
              "        background-color: #E8F0FE;\n",
              "        border: none;\n",
              "        border-radius: 50%;\n",
              "        cursor: pointer;\n",
              "        display: none;\n",
              "        fill: #1967D2;\n",
              "        height: 32px;\n",
              "        padding: 0 0 0 0;\n",
              "        width: 32px;\n",
              "      }\n",
              "\n",
              "      .colab-df-generate:hover {\n",
              "        background-color: #E2EBFA;\n",
              "        box-shadow: 0px 1px 2px rgba(60, 64, 67, 0.3), 0px 1px 3px 1px rgba(60, 64, 67, 0.15);\n",
              "        fill: #174EA6;\n",
              "      }\n",
              "\n",
              "      [theme=dark] .colab-df-generate {\n",
              "        background-color: #3B4455;\n",
              "        fill: #D2E3FC;\n",
              "      }\n",
              "\n",
              "      [theme=dark] .colab-df-generate:hover {\n",
              "        background-color: #434B5C;\n",
              "        box-shadow: 0px 1px 3px 1px rgba(0, 0, 0, 0.15);\n",
              "        filter: drop-shadow(0px 1px 2px rgba(0, 0, 0, 0.3));\n",
              "        fill: #FFFFFF;\n",
              "      }\n",
              "    </style>\n",
              "    <button class=\"colab-df-generate\" onclick=\"generateWithVariable('missingV')\"\n",
              "            title=\"Generate code using this dataframe.\"\n",
              "            style=\"display:none;\">\n",
              "\n",
              "  <svg xmlns=\"http://www.w3.org/2000/svg\" height=\"24px\"viewBox=\"0 0 24 24\"\n",
              "       width=\"24px\">\n",
              "    <path d=\"M7,19H8.4L18.45,9,17,7.55,7,17.6ZM5,21V16.75L18.45,3.32a2,2,0,0,1,2.83,0l1.4,1.43a1.91,1.91,0,0,1,.58,1.4,1.91,1.91,0,0,1-.58,1.4L9.25,21ZM18.45,9,17,7.55Zm-12,3A5.31,5.31,0,0,0,4.9,8.1,5.31,5.31,0,0,0,1,6.5,5.31,5.31,0,0,0,4.9,4.9,5.31,5.31,0,0,0,6.5,1,5.31,5.31,0,0,0,8.1,4.9,5.31,5.31,0,0,0,12,6.5,5.46,5.46,0,0,0,6.5,12Z\"/>\n",
              "  </svg>\n",
              "    </button>\n",
              "    <script>\n",
              "      (() => {\n",
              "      const buttonEl =\n",
              "        document.querySelector('#id_f5dc2100-14c9-44a4-948a-13bc833a551e button.colab-df-generate');\n",
              "      buttonEl.style.display =\n",
              "        google.colab.kernel.accessAllowed ? 'block' : 'none';\n",
              "\n",
              "      buttonEl.onclick = () => {\n",
              "        google.colab.notebook.generateWithVariable('missingV');\n",
              "      }\n",
              "      })();\n",
              "    </script>\n",
              "  </div>\n",
              "\n",
              "    </div>\n",
              "  </div>\n"
            ],
            "application/vnd.google.colaboratory.intrinsic+json": {
              "type": "dataframe",
              "variable_name": "missingV",
              "summary": "{\n  \"name\": \"missingV\",\n  \"rows\": 3,\n  \"fields\": [\n    {\n      \"column\": \"Missing Values\",\n      \"properties\": {\n        \"dtype\": \"number\",\n        \"std\": 18,\n        \"min\": 45,\n        \"max\": 77,\n        \"num_unique_values\": 3,\n        \"samples\": [\n          77,\n          46,\n          45\n        ],\n        \"semantic_type\": \"\",\n        \"description\": \"\"\n      }\n    },\n    {\n      \"column\": \"% of Total Values\",\n      \"properties\": {\n        \"dtype\": \"number\",\n        \"std\": 1.0692676621563626,\n        \"min\": 2.6,\n        \"max\": 4.5,\n        \"num_unique_values\": 3,\n        \"samples\": [\n          4.5,\n          2.7,\n          2.6\n        ],\n        \"semantic_type\": \"\",\n        \"description\": \"\"\n      }\n    }\n  ]\n}"
            }
          },
          "metadata": {},
          "execution_count": 42
        }
      ]
    },
    {
      "cell_type": "markdown",
      "source": [
        "*   Detecting missing data visually using Missingno library\n",
        "\n",
        "---\n",
        "To graphically analyse the missingness of the data, let's use a library called Missingno It is a package for graphical analysis of missing values. To use this library, we need to import it as follows: import missingno as msno\n"
      ],
      "metadata": {
        "id": "FPMhoYvQY7OF"
      },
      "id": "FPMhoYvQY7OF"
    },
    {
      "cell_type": "code",
      "source": [
        "import missingno as msno\n",
        "msno.bar(dataset_interpol)"
      ],
      "metadata": {
        "colab": {
          "base_uri": "https://localhost:8080/",
          "height": 567
        },
        "id": "cCue962dZJ8u",
        "outputId": "7a99ee48-6967-4e32-f4a9-f4e297a08136"
      },
      "id": "cCue962dZJ8u",
      "execution_count": 43,
      "outputs": [
        {
          "output_type": "execute_result",
          "data": {
            "text/plain": [
              "<Axes: >"
            ]
          },
          "metadata": {},
          "execution_count": 43
        },
        {
          "output_type": "display_data",
          "data": {
            "text/plain": [
              "<Figure size 2500x1000 with 3 Axes>"
            ],
            "image/png": "[encoded data removed]"
          },
          "metadata": {}
        }
      ]
    },
    {
      "cell_type": "markdown",
      "source": [
        "\n",
        "The bar chart above gives a quick graphical overview of the completeness of the dataset. We can see that BURNED_AREA, LST  and NDVI  columns have missing values. Next,it would make sense to find out the locations of the missing data.\n",
        "\n",
        "---\n",
        "\n"
      ],
      "metadata": {
        "id": "HAxwG56jZekr"
      },
      "id": "HAxwG56jZekr"
    },
    {
      "cell_type": "markdown",
      "source": [
        "\n",
        "* Visualizing the locations of the missing data\n",
        "\n",
        "\n",
        "---\n",
        "The msno.matrix nullity matrix is a data-dense display which lets you quickly visually pick out patterns in data completion."
      ],
      "metadata": {
        "id": "SEmw52eJZwO1"
      },
      "id": "SEmw52eJZwO1"
    },
    {
      "cell_type": "code",
      "source": [
        "msno.matrix(dataset_interpol)"
      ],
      "metadata": {
        "colab": {
          "base_uri": "https://localhost:8080/",
          "height": 546
        },
        "id": "0gzRCEJHZJ_3",
        "outputId": "52b784b9-5286-41f0-a706-6130e29975b4"
      },
      "id": "0gzRCEJHZJ_3",
      "execution_count": 45,
      "outputs": [
        {
          "output_type": "execute_result",
          "data": {
            "text/plain": [
              "<Axes: >"
            ]
          },
          "metadata": {},
          "execution_count": 45
        },
        {
          "output_type": "display_data",
          "data": {
            "text/plain": [
              "<Figure size 2500x1000 with 2 Axes>"
            ],
            "image/png": "[encoded data removed]"
          },
          "metadata": {}
        }
      ]
    },
    {
      "cell_type": "code",
      "source": [
        "#Finding reason for missing data using a Heatmap\n",
        "\n",
        "msno.heatmap(dataset_interpol)"
      ],
      "metadata": {
        "colab": {
          "base_uri": "https://localhost:8080/",
          "height": 784
        },
        "id": "SJOzWACXZKDr",
        "outputId": "de4f8663-fb12-413b-bf0b-852c39e6a98e"
      },
      "id": "SJOzWACXZKDr",
      "execution_count": 46,
      "outputs": [
        {
          "output_type": "execute_result",
          "data": {
            "text/plain": [
              "<Axes: >"
            ]
          },
          "metadata": {},
          "execution_count": 46
        },
        {
          "output_type": "display_data",
          "data": {
            "text/plain": [
              "<Figure size 2000x1200 with 2 Axes>"
            ],
            "image/png": "[encoded data removed]"
          },
          "metadata": {}
        }
      ]
    },
    {
      "cell_type": "code",
      "source": [
        "#Finding reason for missing data using Dendrogram\n",
        "#A dendogram is a tree diagram of missingness. It groups the highly correlated variables together.\n",
        "msno.dendrogram(dataset_interpol)"
      ],
      "metadata": {
        "colab": {
          "base_uri": "https://localhost:8080/",
          "height": 549
        },
        "id": "7ag5kv8dZKHD",
        "outputId": "43b7978a-5ce4-4c0a-ddda-aac7f65b072f"
      },
      "id": "7ag5kv8dZKHD",
      "execution_count": 50,
      "outputs": [
        {
          "output_type": "execute_result",
          "data": {
            "text/plain": [
              "<Axes: >"
            ]
          },
          "metadata": {},
          "execution_count": 50
        },
        {
          "output_type": "display_data",
          "data": {
            "text/plain": [
              "<Figure size 2500x1000 with 1 Axes>"
            ],
            "image/png": "[encoded data removed]"
          },
          "metadata": {}
        }
      ]
    },
    {
      "cell_type": "markdown",
      "source": [
        "## **b-Imputation using  Interpolation methods**"
      ],
      "metadata": {
        "id": "6uHmIPb4regV"
      },
      "id": "6uHmIPb4regV"
    },
    {
      "cell_type": "code",
      "source": [
        "import pandas as pd\n",
        "\n",
        "# Assuming your dataset is in a DataFrame named 'dataset_interpol2'\n",
        "# Replace empty strings with NaN\n",
        "dataset_interpol2.replace('', pd.NA, inplace=True)\n",
        "\n",
        "# Convert object columns to numeric\n",
        "dataset_interpol2['NDVI'] = pd.to_numeric(dataset_interpol2['NDVI'], errors='coerce')\n",
        "dataset_interpol2['LST'] = pd.to_numeric(dataset_interpol2['LST'], errors='coerce')\n",
        "dataset_interpol2['BURNED_AREA'] = pd.to_numeric(dataset_interpol2['BURNED_AREA'], errors='coerce')\n",
        "\n",
        "# Calculate correlation coefficients before interpolation\n",
        "correlation_before = dataset_interpol2[['NDVI', 'LST', 'BURNED_AREA']].corr()\n",
        "\n",
        "# Interpolate missing values using linear interpolation\n",
        "dataset_interpol2_linear = dataset_interpol2.sort_values('CLASS').interpolate(method='linear')\n",
        "\n",
        "# Interpolate missing values using spline interpolation\n",
        "dataset_interpol2_spline = dataset_interpol2.interpolate(method='spline', order=3)\n",
        "\n",
        "\n",
        "\n",
        "# Interpolate missing values using cubic interpolation\n",
        "dataset_interpol2_cubic = dataset_interpol2.sort_values('CLASS').interpolate(method='cubic')\n",
        "\n",
        "# Calculate correlation coefficients after interpolation\n",
        "correlation_linear = dataset_interpol2_linear[['NDVI', 'LST', 'BURNED_AREA']].corr()\n",
        "correlation_cubic = dataset_interpol2_cubic[['NDVI', 'LST', 'BURNED_AREA']].corr()\n",
        "# Calculate correlation coefficients after spline interpolation\n",
        "correlation_spline = dataset_interpol2_spline[['NDVI', 'LST', 'BURNED_AREA']].corr()\n",
        "\n",
        "print(\"Correlation before interpolation:\")\n",
        "print(correlation_before)\n",
        "print(\"\\nCorrelation after linear interpolation:\")\n",
        "print(correlation_linear)\n",
        "print(\"\\nCorrelation after cubic interpolation:\")\n",
        "print(correlation_cubic)\n",
        "print(\"\\nCorrelation after spline interpolation:\")\n",
        "print(correlation_spline)\n"
      ],
      "metadata": {
        "colab": {
          "base_uri": "https://localhost:8080/"
        },
        "id": "bQH0_wML1s8D",
        "outputId": "5d086415-f004-4919-ca5b-f4490d62b0a5"
      },
      "id": "bQH0_wML1s8D",
      "execution_count": 58,
      "outputs": [
        {
          "output_type": "stream",
          "name": "stdout",
          "text": [
            "Correlation before interpolation:\n",
            "                 NDVI       LST  BURNED_AREA\n",
            "NDVI         1.000000  0.082864    -0.050513\n",
            "LST          0.082864  1.000000     0.158154\n",
            "BURNED_AREA -0.050513  0.158154     1.000000\n",
            "\n",
            "Correlation after linear interpolation:\n",
            "                 NDVI       LST  BURNED_AREA\n",
            "NDVI         1.000000  0.077507    -0.043446\n",
            "LST          0.077507  1.000000     0.153010\n",
            "BURNED_AREA -0.043446  0.153010     1.000000\n",
            "\n",
            "Correlation after cubic interpolation:\n",
            "                 NDVI       LST  BURNED_AREA\n",
            "NDVI         1.000000  0.059739    -0.030035\n",
            "LST          0.059739  1.000000     0.114656\n",
            "BURNED_AREA -0.030035  0.114656     1.000000\n",
            "\n",
            "Correlation after spline interpolation:\n",
            "                 NDVI       LST  BURNED_AREA\n",
            "NDVI         1.000000  0.080734    -0.048410\n",
            "LST          0.080734  1.000000     0.150221\n",
            "BURNED_AREA -0.048410  0.150221     1.000000\n"
          ]
        }
      ]
    },
    {
      "cell_type": "code",
      "source": [
        "import matplotlib.pyplot as plt\n",
        "\n",
        "# Get indices of missing values in the original NDVI data\n",
        "missing_indices2 = dataset_interpol2['NDVI'].isnull()\n",
        "\n",
        "# Plot original and interpolated NDVI values\n",
        "plt.figure(figsize=(10, 6))\n",
        "plt.scatter(dataset_interpol2.index, dataset_interpol2['NDVI'], c='blue', label='Original')\n",
        "plt.scatter(dataset_interpol2[missing_indices2].index, dataset_interpol2_spline['NDVI'][missing_indices2], c='red', label='Interpolated (Spline)')\n",
        "plt.scatter(dataset_interpol2[missing_indices2].index, dataset_interpol2_linear['NDVI'][missing_indices2], c='green', label='Interpolated (Linear)')\n",
        "plt.scatter(dataset_interpol2[missing_indices2].index, dataset_interpol2_cubic['NDVI'][missing_indices2], c='yellow', label='Interpolated (cubic)')\n",
        "plt.title('Distribution of NDVI (Interpolated)')\n",
        "plt.xlabel('Index')\n",
        "plt.ylabel('NDVI')\n",
        "plt.legend()\n",
        "plt.grid(True)\n",
        "plt.show()\n"
      ],
      "metadata": {
        "colab": {
          "base_uri": "https://localhost:8080/",
          "height": 564
        },
        "id": "l5Wb-9kV6cP2",
        "outputId": "5ea5472a-71ea-4d13-fa92-4420421b8547"
      },
      "id": "l5Wb-9kV6cP2",
      "execution_count": 90,
      "outputs": [
        {
          "output_type": "display_data",
          "data": {
            "text/plain": [
              "<Figure size 1000x600 with 1 Axes>"
            ],
            "image/png": "[encoded data removed]"
          },
          "metadata": {}
        }
      ]
    },
    {
      "cell_type": "code",
      "source": [
        "import matplotlib.pyplot as plt\n",
        "\n",
        "# Get indices of missing values in the original NDVI data\n",
        "missing_indices2 = dataset_interpol2['BURNED_AREA'].isnull()\n",
        "\n",
        "# Plot original and interpolated BURNED_AREA values\n",
        "plt.figure(figsize=(10, 6))\n",
        "plt.scatter(dataset_interpol2.index, dataset_interpol2['BURNED_AREA'], c='blue', label='Original')\n",
        "plt.scatter(dataset_interpol2[missing_indices2].index, dataset_interpol2_spline['BURNED_AREA'][missing_indices2], c='red', label='Interpolated (Spline)')\n",
        "plt.scatter(dataset_interpol2[missing_indices2].index, dataset_interpol2_linear['BURNED_AREA'][missing_indices2], c='green', label='Interpolated (Linear)')\n",
        "plt.scatter(dataset_interpol2[missing_indices2].index, dataset_interpol2_cubic['BURNED_AREA'][missing_indices2], c='yellow', label='Interpolated (cubic)')\n",
        "plt.title('Distribution of BURNED_AREA (Interpolated)')\n",
        "plt.xlabel('Index')\n",
        "plt.ylabel('BURNED_AREA')\n",
        "plt.legend()\n",
        "plt.grid(True)\n",
        "plt.show()\n"
      ],
      "metadata": {
        "colab": {
          "base_uri": "https://localhost:8080/",
          "height": 564
        },
        "id": "Da3f_p_j8KIm",
        "outputId": "26b1dc57-a32a-4f6c-8233-d5cdb1a8a6a7"
      },
      "id": "Da3f_p_j8KIm",
      "execution_count": 91,
      "outputs": [
        {
          "output_type": "display_data",
          "data": {
            "text/plain": [
              "<Figure size 1000x600 with 1 Axes>"
            ],
            "image/png": "[encoded data removed]"
          },
          "metadata": {}
        }
      ]
    },
    {
      "cell_type": "code",
      "source": [
        "import matplotlib.pyplot as plt\n",
        "\n",
        "# Get indices of missing values in the original NDVI data\n",
        "missing_indices2 = dataset_interpol2['LST'].isnull()\n",
        "\n",
        "# Plot original and interpolated LST values\n",
        "plt.figure(figsize=(10, 6))\n",
        "plt.scatter(dataset_interpol2.index, dataset_interpol2['LST'], c='blue', label='Original')\n",
        "plt.scatter(dataset_interpol2[missing_indices2].index, dataset_interpol2_spline['LST'][missing_indices2], c='red', label='Interpolated (Spline)')\n",
        "plt.scatter(dataset_interpol2[missing_indices2].index, dataset_interpol2_linear['LST'][missing_indices2], c='green', label='Interpolated (Linear)')\n",
        "plt.scatter(dataset_interpol2[missing_indices2].index, dataset_interpol2_cubic['LST'][missing_indices2], c='yellow', label='Interpolated (cubic)')\n",
        "plt.title('Distribution of LST (Interpolated)')\n",
        "plt.xlabel('Index')\n",
        "plt.ylabel('LST')\n",
        "plt.legend()\n",
        "plt.grid(True)\n",
        "plt.show()\n"
      ],
      "metadata": {
        "colab": {
          "base_uri": "https://localhost:8080/",
          "height": 564
        },
        "id": "8S8Zwxbg9tuf",
        "outputId": "5f8f8d7b-c4fc-43e3-cde1-4ba99fbe55c6"
      },
      "id": "8S8Zwxbg9tuf",
      "execution_count": 92,
      "outputs": [
        {
          "output_type": "display_data",
          "data": {
            "text/plain": [
              "<Figure size 1000x600 with 1 Axes>"
            ],
            "image/png": "[encoded data removed]"
          },
          "metadata": {}
        }
      ]
    },
    {
      "cell_type": "markdown",
      "source": [
        "## **c-Imputation using Linear Interpolation method**\n",
        "\n",
        "---\n",
        "Linear interpolation is an imputation technique that assumes a linear relationship between data points and utilises non-missing values from adjacent data points to compute a value for a missing data point\n",
        "\n",
        "\n",
        "this method which we will use it in this project\n"
      ],
      "metadata": {
        "id": "ELe0TQXl-L2e"
      },
      "id": "ELe0TQXl-L2e"
    },
    {
      "cell_type": "code",
      "source": [
        "# Interpolate missing values using linear interpolation\n",
        "dataset_interpol_linear = dataset_interpol.interpolate(method='linear')"
      ],
      "metadata": {
        "id": "j3hATm_oZKMn"
      },
      "id": "j3hATm_oZKMn",
      "execution_count": 114,
      "outputs": []
    },
    {
      "cell_type": "code",
      "source": [
        "missingV2= missing_values_table(dataset_interpol_linear)\n",
        "missingV2"
      ],
      "metadata": {
        "colab": {
          "base_uri": "https://localhost:8080/",
          "height": 124
        },
        "id": "F8mJkJFN_OOm",
        "outputId": "df2888ce-a36b-4f35-e9b4-4e0d3bea0707"
      },
      "id": "F8mJkJFN_OOm",
      "execution_count": 115,
      "outputs": [
        {
          "output_type": "stream",
          "name": "stdout",
          "text": [
            "Your selected dataframe has 4 columns.\n",
            "There are 0 columns that have missing values.\n"
          ]
        },
        {
          "output_type": "execute_result",
          "data": {
            "text/plain": [
              "Empty DataFrame\n",
              "Columns: [Missing Values, % of Total Values]\n",
              "Index: []"
            ],
            "text/html": [
              "\n",
              "  <div id=\"df-af9d80a1-b3bf-414d-9bd5-d4521541f769\" class=\"colab-df-container\">\n",
              "    <div>\n",
              "<style scoped>\n",
              "    .dataframe tbody tr th:only-of-type {\n",
              "        vertical-align: middle;\n",
              "    }\n",
              "\n",
              "    .dataframe tbody tr th {\n",
              "        vertical-align: top;\n",
              "    }\n",
              "\n",
              "    .dataframe thead th {\n",
              "        text-align: right;\n",
              "    }\n",
              "</style>\n",
              "<table border=\"1\" class=\"dataframe\">\n",
              "  <thead>\n",
              "    <tr style=\"text-align: right;\">\n",
              "      <th></th>\n",
              "      <th>Missing Values</th>\n",
              "      <th>% of Total Values</th>\n",
              "    </tr>\n",
              "  </thead>\n",
              "  <tbody>\n",
              "  </tbody>\n",
              "</table>\n",
              "</div>\n",
              "    <div class=\"colab-df-buttons\">\n",
              "\n",
              "  <div class=\"colab-df-container\">\n",
              "    <button class=\"colab-df-convert\" onclick=\"convertToInteractive('df-af9d80a1-b3bf-414d-9bd5-d4521541f769')\"\n",
              "            title=\"Convert this dataframe to an interactive table.\"\n",
              "            style=\"display:none;\">\n",
              "\n",
              "  <svg xmlns=\"http://www.w3.org/2000/svg\" height=\"24px\" viewBox=\"0 -960 960 960\">\n",
              "    <path d=\"M120-120v-720h720v720H120Zm60-500h600v-160H180v160Zm220 220h160v-160H400v160Zm0 220h160v-160H400v160ZM180-400h160v-160H180v160Zm440 0h160v-160H620v160ZM180-180h160v-160H180v160Zm440 0h160v-160H620v160Z\"/>\n",
              "  </svg>\n",
              "    </button>\n",
              "\n",
              "  <style>\n",
              "    .colab-df-container {\n",
              "      display:flex;\n",
              "      gap: 12px;\n",
              "    }\n",
              "\n",
              "    .colab-df-convert {\n",
              "      background-color: #E8F0FE;\n",
              "      border: none;\n",
              "      border-radius: 50%;\n",
              "      cursor: pointer;\n",
              "      display: none;\n",
              "      fill: #1967D2;\n",
              "      height: 32px;\n",
              "      padding: 0 0 0 0;\n",
              "      width: 32px;\n",
              "    }\n",
              "\n",
              "    .colab-df-convert:hover {\n",
              "      background-color: #E2EBFA;\n",
              "      box-shadow: 0px 1px 2px rgba(60, 64, 67, 0.3), 0px 1px 3px 1px rgba(60, 64, 67, 0.15);\n",
              "      fill: #174EA6;\n",
              "    }\n",
              "\n",
              "    .colab-df-buttons div {\n",
              "      margin-bottom: 4px;\n",
              "    }\n",
              "\n",
              "    [theme=dark] .colab-df-convert {\n",
              "      background-color: #3B4455;\n",
              "      fill: #D2E3FC;\n",
              "    }\n",
              "\n",
              "    [theme=dark] .colab-df-convert:hover {\n",
              "      background-color: #434B5C;\n",
              "      box-shadow: 0px 1px 3px 1px rgba(0, 0, 0, 0.15);\n",
              "      filter: drop-shadow(0px 1px 2px rgba(0, 0, 0, 0.3));\n",
              "      fill: #FFFFFF;\n",
              "    }\n",
              "  </style>\n",
              "\n",
              "    <script>\n",
              "      const buttonEl =\n",
              "        document.querySelector('#df-af9d80a1-b3bf-414d-9bd5-d4521541f769 button.colab-df-convert');\n",
              "      buttonEl.style.display =\n",
              "        google.colab.kernel.accessAllowed ? 'block' : 'none';\n",
              "\n",
              "      async function convertToInteractive(key) {\n",
              "        const element = document.querySelector('#df-af9d80a1-b3bf-414d-9bd5-d4521541f769');\n",
              "        const dataTable =\n",
              "          await google.colab.kernel.invokeFunction('convertToInteractive',\n",
              "                                                    [key], {});\n",
              "        if (!dataTable) return;\n",
              "\n",
              "        const docLinkHtml = 'Like what you see? Visit the ' +\n",
              "          '<a target=\"_blank\" href=https://colab.research.google.com/notebooks/data_table.ipynb>data table notebook</a>'\n",
              "          + ' to learn more about interactive tables.';\n",
              "        element.innerHTML = '';\n",
              "        dataTable['output_type'] = 'display_data';\n",
              "        await google.colab.output.renderOutput(dataTable, element);\n",
              "        const docLink = document.createElement('div');\n",
              "        docLink.innerHTML = docLinkHtml;\n",
              "        element.appendChild(docLink);\n",
              "      }\n",
              "    </script>\n",
              "  </div>\n",
              "\n",
              "\n",
              "  <div id=\"id_4f926353-c1df-4af3-bbde-2251de4df104\">\n",
              "    <style>\n",
              "      .colab-df-generate {\n",
              "        background-color: #E8F0FE;\n",
              "        border: none;\n",
              "        border-radius: 50%;\n",
              "        cursor: pointer;\n",
              "        display: none;\n",
              "        fill: #1967D2;\n",
              "        height: 32px;\n",
              "        padding: 0 0 0 0;\n",
              "        width: 32px;\n",
              "      }\n",
              "\n",
              "      .colab-df-generate:hover {\n",
              "        background-color: #E2EBFA;\n",
              "        box-shadow: 0px 1px 2px rgba(60, 64, 67, 0.3), 0px 1px 3px 1px rgba(60, 64, 67, 0.15);\n",
              "        fill: #174EA6;\n",
              "      }\n",
              "\n",
              "      [theme=dark] .colab-df-generate {\n",
              "        background-color: #3B4455;\n",
              "        fill: #D2E3FC;\n",
              "      }\n",
              "\n",
              "      [theme=dark] .colab-df-generate:hover {\n",
              "        background-color: #434B5C;\n",
              "        box-shadow: 0px 1px 3px 1px rgba(0, 0, 0, 0.15);\n",
              "        filter: drop-shadow(0px 1px 2px rgba(0, 0, 0, 0.3));\n",
              "        fill: #FFFFFF;\n",
              "      }\n",
              "    </style>\n",
              "    <button class=\"colab-df-generate\" onclick=\"generateWithVariable('missingV2')\"\n",
              "            title=\"Generate code using this dataframe.\"\n",
              "            style=\"display:none;\">\n",
              "\n",
              "  <svg xmlns=\"http://www.w3.org/2000/svg\" height=\"24px\"viewBox=\"0 0 24 24\"\n",
              "       width=\"24px\">\n",
              "    <path d=\"M7,19H8.4L18.45,9,17,7.55,7,17.6ZM5,21V16.75L18.45,3.32a2,2,0,0,1,2.83,0l1.4,1.43a1.91,1.91,0,0,1,.58,1.4,1.91,1.91,0,0,1-.58,1.4L9.25,21ZM18.45,9,17,7.55Zm-12,3A5.31,5.31,0,0,0,4.9,8.1,5.31,5.31,0,0,0,1,6.5,5.31,5.31,0,0,0,4.9,4.9,5.31,5.31,0,0,0,6.5,1,5.31,5.31,0,0,0,8.1,4.9,5.31,5.31,0,0,0,12,6.5,5.46,5.46,0,0,0,6.5,12Z\"/>\n",
              "  </svg>\n",
              "    </button>\n",
              "    <script>\n",
              "      (() => {\n",
              "      const buttonEl =\n",
              "        document.querySelector('#id_4f926353-c1df-4af3-bbde-2251de4df104 button.colab-df-generate');\n",
              "      buttonEl.style.display =\n",
              "        google.colab.kernel.accessAllowed ? 'block' : 'none';\n",
              "\n",
              "      buttonEl.onclick = () => {\n",
              "        google.colab.notebook.generateWithVariable('missingV2');\n",
              "      }\n",
              "      })();\n",
              "    </script>\n",
              "  </div>\n",
              "\n",
              "    </div>\n",
              "  </div>\n"
            ],
            "application/vnd.google.colaboratory.intrinsic+json": {
              "type": "dataframe",
              "variable_name": "missingV2",
              "summary": "{\n  \"name\": \"missingV2\",\n  \"rows\": 0,\n  \"fields\": [\n    {\n      \"column\": \"Missing Values\",\n      \"properties\": {\n        \"dtype\": \"number\",\n        \"std\": null,\n        \"min\": null,\n        \"max\": null,\n        \"num_unique_values\": 0,\n        \"samples\": [],\n        \"semantic_type\": \"\",\n        \"description\": \"\"\n      }\n    },\n    {\n      \"column\": \"% of Total Values\",\n      \"properties\": {\n        \"dtype\": \"number\",\n        \"std\": null,\n        \"min\": null,\n        \"max\": null,\n        \"num_unique_values\": 0,\n        \"samples\": [],\n        \"semantic_type\": \"\",\n        \"description\": \"\"\n      }\n    }\n  ]\n}"
            }
          },
          "metadata": {},
          "execution_count": 115
        }
      ]
    },
    {
      "cell_type": "code",
      "source": [
        "#checking missing values\n",
        "dataset_interpol_linear.isnull().sum()"
      ],
      "metadata": {
        "colab": {
          "base_uri": "https://localhost:8080/"
        },
        "id": "zB5gSv3A_zDO",
        "outputId": "4b0c2927-7149-4218-9768-f85c1103540c"
      },
      "id": "zB5gSv3A_zDO",
      "execution_count": 116,
      "outputs": [
        {
          "output_type": "execute_result",
          "data": {
            "text/plain": [
              "NDVI           0\n",
              "LST            0\n",
              "BURNED_AREA    0\n",
              "CLASS          0\n",
              "dtype: int64"
            ]
          },
          "metadata": {},
          "execution_count": 116
        }
      ]
    },
    {
      "cell_type": "markdown",
      "source": [
        "## **d-split data**"
      ],
      "metadata": {
        "id": "xrpF99mqEaUP"
      },
      "id": "xrpF99mqEaUP"
    },
    {
      "cell_type": "code",
      "execution_count": 117,
      "id": "DgV3UVH4tKEc",
      "metadata": {
        "id": "DgV3UVH4tKEc"
      },
      "outputs": [],
      "source": [
        "# Replace class labels with 0 and 1\n",
        "dataset_interpol_linear['CLASS'] = dataset_interpol_linear['CLASS'].map({'fire': 1, 'no_fire': 0})"
      ]
    },
    {
      "cell_type": "markdown",
      "id": "aeb7d214",
      "metadata": {
        "id": "aeb7d214"
      },
      "source": [
        "separating  the  features x and target  y"
      ]
    },
    {
      "cell_type": "code",
      "execution_count": 118,
      "id": "6a88be00",
      "metadata": {
        "colab": {
          "base_uri": "https://localhost:8080/",
          "height": 206
        },
        "id": "6a88be00",
        "outputId": "a29a9829-d0ad-452c-df3f-db5bb08d5ecf"
      },
      "outputs": [
        {
          "output_type": "execute_result",
          "data": {
            "text/plain": [
              "       NDVI           LST  BURNED_AREA\n",
              "0  0.506782  14584.272727     4.692308\n",
              "1  0.522150  14655.833333     5.000000\n",
              "2  0.682284  14780.000000     5.000000\n",
              "3  0.651151  13298.500000     3.500000\n",
              "4  0.620017  14743.000000     5.000000"
            ],
            "text/html": [
              "\n",
              "  <div id=\"df-121b5b04-695b-428c-8579-d48509b47970\" class=\"colab-df-container\">\n",
              "    <div>\n",
              "<style scoped>\n",
              "    .dataframe tbody tr th:only-of-type {\n",
              "        vertical-align: middle;\n",
              "    }\n",
              "\n",
              "    .dataframe tbody tr th {\n",
              "        vertical-align: top;\n",
              "    }\n",
              "\n",
              "    .dataframe thead th {\n",
              "        text-align: right;\n",
              "    }\n",
              "</style>\n",
              "<table border=\"1\" class=\"dataframe\">\n",
              "  <thead>\n",
              "    <tr style=\"text-align: right;\">\n",
              "      <th></th>\n",
              "      <th>NDVI</th>\n",
              "      <th>LST</th>\n",
              "      <th>BURNED_AREA</th>\n",
              "    </tr>\n",
              "  </thead>\n",
              "  <tbody>\n",
              "    <tr>\n",
              "      <th>0</th>\n",
              "      <td>0.506782</td>\n",
              "      <td>14584.272727</td>\n",
              "      <td>4.692308</td>\n",
              "    </tr>\n",
              "    <tr>\n",
              "      <th>1</th>\n",
              "      <td>0.522150</td>\n",
              "      <td>14655.833333</td>\n",
              "      <td>5.000000</td>\n",
              "    </tr>\n",
              "    <tr>\n",
              "      <th>2</th>\n",
              "      <td>0.682284</td>\n",
              "      <td>14780.000000</td>\n",
              "      <td>5.000000</td>\n",
              "    </tr>\n",
              "    <tr>\n",
              "      <th>3</th>\n",
              "      <td>0.651151</td>\n",
              "      <td>13298.500000</td>\n",
              "      <td>3.500000</td>\n",
              "    </tr>\n",
              "    <tr>\n",
              "      <th>4</th>\n",
              "      <td>0.620017</td>\n",
              "      <td>14743.000000</td>\n",
              "      <td>5.000000</td>\n",
              "    </tr>\n",
              "  </tbody>\n",
              "</table>\n",
              "</div>\n",
              "    <div class=\"colab-df-buttons\">\n",
              "\n",
              "  <div class=\"colab-df-container\">\n",
              "    <button class=\"colab-df-convert\" onclick=\"convertToInteractive('df-121b5b04-695b-428c-8579-d48509b47970')\"\n",
              "            title=\"Convert this dataframe to an interactive table.\"\n",
              "            style=\"display:none;\">\n",
              "\n",
              "  <svg xmlns=\"http://www.w3.org/2000/svg\" height=\"24px\" viewBox=\"0 -960 960 960\">\n",
              "    <path d=\"M120-120v-720h720v720H120Zm60-500h600v-160H180v160Zm220 220h160v-160H400v160Zm0 220h160v-160H400v160ZM180-400h160v-160H180v160Zm440 0h160v-160H620v160ZM180-180h160v-160H180v160Zm440 0h160v-160H620v160Z\"/>\n",
              "  </svg>\n",
              "    </button>\n",
              "\n",
              "  <style>\n",
              "    .colab-df-container {\n",
              "      display:flex;\n",
              "      gap: 12px;\n",
              "    }\n",
              "\n",
              "    .colab-df-convert {\n",
              "      background-color: #E8F0FE;\n",
              "      border: none;\n",
              "      border-radius: 50%;\n",
              "      cursor: pointer;\n",
              "      display: none;\n",
              "      fill: #1967D2;\n",
              "      height: 32px;\n",
              "      padding: 0 0 0 0;\n",
              "      width: 32px;\n",
              "    }\n",
              "\n",
              "    .colab-df-convert:hover {\n",
              "      background-color: #E2EBFA;\n",
              "      box-shadow: 0px 1px 2px rgba(60, 64, 67, 0.3), 0px 1px 3px 1px rgba(60, 64, 67, 0.15);\n",
              "      fill: #174EA6;\n",
              "    }\n",
              "\n",
              "    .colab-df-buttons div {\n",
              "      margin-bottom: 4px;\n",
              "    }\n",
              "\n",
              "    [theme=dark] .colab-df-convert {\n",
              "      background-color: #3B4455;\n",
              "      fill: #D2E3FC;\n",
              "    }\n",
              "\n",
              "    [theme=dark] .colab-df-convert:hover {\n",
              "      background-color: #434B5C;\n",
              "      box-shadow: 0px 1px 3px 1px rgba(0, 0, 0, 0.15);\n",
              "      filter: drop-shadow(0px 1px 2px rgba(0, 0, 0, 0.3));\n",
              "      fill: #FFFFFF;\n",
              "    }\n",
              "  </style>\n",
              "\n",
              "    <script>\n",
              "      const buttonEl =\n",
              "        document.querySelector('#df-121b5b04-695b-428c-8579-d48509b47970 button.colab-df-convert');\n",
              "      buttonEl.style.display =\n",
              "        google.colab.kernel.accessAllowed ? 'block' : 'none';\n",
              "\n",
              "      async function convertToInteractive(key) {\n",
              "        const element = document.querySelector('#df-121b5b04-695b-428c-8579-d48509b47970');\n",
              "        const dataTable =\n",
              "          await google.colab.kernel.invokeFunction('convertToInteractive',\n",
              "                                                    [key], {});\n",
              "        if (!dataTable) return;\n",
              "\n",
              "        const docLinkHtml = 'Like what you see? Visit the ' +\n",
              "          '<a target=\"_blank\" href=https://colab.research.google.com/notebooks/data_table.ipynb>data table notebook</a>'\n",
              "          + ' to learn more about interactive tables.';\n",
              "        element.innerHTML = '';\n",
              "        dataTable['output_type'] = 'display_data';\n",
              "        await google.colab.output.renderOutput(dataTable, element);\n",
              "        const docLink = document.createElement('div');\n",
              "        docLink.innerHTML = docLinkHtml;\n",
              "        element.appendChild(docLink);\n",
              "      }\n",
              "    </script>\n",
              "  </div>\n",
              "\n",
              "\n",
              "<div id=\"df-5961836a-bed8-4373-a4a9-58cf30596a6d\">\n",
              "  <button class=\"colab-df-quickchart\" onclick=\"quickchart('df-5961836a-bed8-4373-a4a9-58cf30596a6d')\"\n",
              "            title=\"Suggest charts\"\n",
              "            style=\"display:none;\">\n",
              "\n",
              "<svg xmlns=\"http://www.w3.org/2000/svg\" height=\"24px\"viewBox=\"0 0 24 24\"\n",
              "     width=\"24px\">\n",
              "    <g>\n",
              "        <path d=\"M19 3H5c-1.1 0-2 .9-2 2v14c0 1.1.9 2 2 2h14c1.1 0 2-.9 2-2V5c0-1.1-.9-2-2-2zM9 17H7v-7h2v7zm4 0h-2V7h2v10zm4 0h-2v-4h2v4z\"/>\n",
              "    </g>\n",
              "</svg>\n",
              "  </button>\n",
              "\n",
              "<style>\n",
              "  .colab-df-quickchart {\n",
              "      --bg-color: #E8F0FE;\n",
              "      --fill-color: #1967D2;\n",
              "      --hover-bg-color: #E2EBFA;\n",
              "      --hover-fill-color: #174EA6;\n",
              "      --disabled-fill-color: #AAA;\n",
              "      --disabled-bg-color: #DDD;\n",
              "  }\n",
              "\n",
              "  [theme=dark] .colab-df-quickchart {\n",
              "      --bg-color: #3B4455;\n",
              "      --fill-color: #D2E3FC;\n",
              "      --hover-bg-color: #434B5C;\n",
              "      --hover-fill-color: #FFFFFF;\n",
              "      --disabled-bg-color: #3B4455;\n",
              "      --disabled-fill-color: #666;\n",
              "  }\n",
              "\n",
              "  .colab-df-quickchart {\n",
              "    background-color: var(--bg-color);\n",
              "    border: none;\n",
              "    border-radius: 50%;\n",
              "    cursor: pointer;\n",
              "    display: none;\n",
              "    fill: var(--fill-color);\n",
              "    height: 32px;\n",
              "    padding: 0;\n",
              "    width: 32px;\n",
              "  }\n",
              "\n",
              "  .colab-df-quickchart:hover {\n",
              "    background-color: var(--hover-bg-color);\n",
              "    box-shadow: 0 1px 2px rgba(60, 64, 67, 0.3), 0 1px 3px 1px rgba(60, 64, 67, 0.15);\n",
              "    fill: var(--button-hover-fill-color);\n",
              "  }\n",
              "\n",
              "  .colab-df-quickchart-complete:disabled,\n",
              "  .colab-df-quickchart-complete:disabled:hover {\n",
              "    background-color: var(--disabled-bg-color);\n",
              "    fill: var(--disabled-fill-color);\n",
              "    box-shadow: none;\n",
              "  }\n",
              "\n",
              "  .colab-df-spinner {\n",
              "    border: 2px solid var(--fill-color);\n",
              "    border-color: transparent;\n",
              "    border-bottom-color: var(--fill-color);\n",
              "    animation:\n",
              "      spin 1s steps(1) infinite;\n",
              "  }\n",
              "\n",
              "  @keyframes spin {\n",
              "    0% {\n",
              "      border-color: transparent;\n",
              "      border-bottom-color: var(--fill-color);\n",
              "      border-left-color: var(--fill-color);\n",
              "    }\n",
              "    20% {\n",
              "      border-color: transparent;\n",
              "      border-left-color: var(--fill-color);\n",
              "      border-top-color: var(--fill-color);\n",
              "    }\n",
              "    30% {\n",
              "      border-color: transparent;\n",
              "      border-left-color: var(--fill-color);\n",
              "      border-top-color: var(--fill-color);\n",
              "      border-right-color: var(--fill-color);\n",
              "    }\n",
              "    40% {\n",
              "      border-color: transparent;\n",
              "      border-right-color: var(--fill-color);\n",
              "      border-top-color: var(--fill-color);\n",
              "    }\n",
              "    60% {\n",
              "      border-color: transparent;\n",
              "      border-right-color: var(--fill-color);\n",
              "    }\n",
              "    80% {\n",
              "      border-color: transparent;\n",
              "      border-right-color: var(--fill-color);\n",
              "      border-bottom-color: var(--fill-color);\n",
              "    }\n",
              "    90% {\n",
              "      border-color: transparent;\n",
              "      border-bottom-color: var(--fill-color);\n",
              "    }\n",
              "  }\n",
              "</style>\n",
              "\n",
              "  <script>\n",
              "    async function quickchart(key) {\n",
              "      const quickchartButtonEl =\n",
              "        document.querySelector('#' + key + ' button');\n",
              "      quickchartButtonEl.disabled = true;  // To prevent multiple clicks.\n",
              "      quickchartButtonEl.classList.add('colab-df-spinner');\n",
              "      try {\n",
              "        const charts = await google.colab.kernel.invokeFunction(\n",
              "            'suggestCharts', [key], {});\n",
              "      } catch (error) {\n",
              "        console.error('Error during call to suggestCharts:', error);\n",
              "      }\n",
              "      quickchartButtonEl.classList.remove('colab-df-spinner');\n",
              "      quickchartButtonEl.classList.add('colab-df-quickchart-complete');\n",
              "    }\n",
              "    (() => {\n",
              "      let quickchartButtonEl =\n",
              "        document.querySelector('#df-5961836a-bed8-4373-a4a9-58cf30596a6d button');\n",
              "      quickchartButtonEl.style.display =\n",
              "        google.colab.kernel.accessAllowed ? 'block' : 'none';\n",
              "    })();\n",
              "  </script>\n",
              "</div>\n",
              "\n",
              "    </div>\n",
              "  </div>\n"
            ],
            "application/vnd.google.colaboratory.intrinsic+json": {
              "type": "dataframe",
              "variable_name": "x",
              "summary": "{\n  \"name\": \"x\",\n  \"rows\": 1713,\n  \"fields\": [\n    {\n      \"column\": \"NDVI\",\n      \"properties\": {\n        \"dtype\": \"number\",\n        \"std\": 0.09311538452896072,\n        \"min\": 0.030735,\n        \"max\": 0.781723,\n        \"num_unique_values\": 1462,\n        \"samples\": [\n          0.612828,\n          0.547632,\n          0.467505\n        ],\n        \"semantic_type\": \"\",\n        \"description\": \"\"\n      }\n    },\n    {\n      \"column\": \"LST\",\n      \"properties\": {\n        \"dtype\": \"number\",\n        \"std\": 363.075819839698,\n        \"min\": 13137.0,\n        \"max\": 15611.570513,\n        \"num_unique_values\": 1369,\n        \"samples\": [\n          14800.125,\n          14396.75541,\n          14778.5\n        ],\n        \"semantic_type\": \"\",\n        \"description\": \"\"\n      }\n    },\n    {\n      \"column\": \"BURNED_AREA\",\n      \"properties\": {\n        \"dtype\": \"number\",\n        \"std\": 0.5876240946642626,\n        \"min\": 3.0,\n        \"max\": 9.0,\n        \"num_unique_values\": 561,\n        \"samples\": [\n          4.9624,\n          4.72093,\n          4.535484\n        ],\n        \"semantic_type\": \"\",\n        \"description\": \"\"\n      }\n    }\n  ]\n}"
            }
          },
          "metadata": {},
          "execution_count": 118
        }
      ],
      "source": [
        "#separating  the  features and target\n",
        "#x = dataset.drop('CLASS',axis = 1)\n",
        "#y = dataset.CLASS\n",
        "\n",
        "#we can also use this forms:\n",
        "x = dataset_interpol_linear[[\"NDVI\", \"LST\", \"BURNED_AREA\"]]\n",
        "y = dataset_interpol_linear[\"CLASS\"]\n",
        "\n",
        "#or\n",
        "#x = dataset.iloc[:,:-1]\n",
        "#y = dataset.iloc[:,-1]\n",
        "\n",
        "x.head()"
      ]
    },
    {
      "cell_type": "code",
      "execution_count": 119,
      "id": "aZ3EiGVlM5yS",
      "metadata": {
        "colab": {
          "base_uri": "https://localhost:8080/"
        },
        "id": "aZ3EiGVlM5yS",
        "outputId": "83e80101-49c3-48c4-87a0-2539dd58c862"
      },
      "outputs": [
        {
          "output_type": "execute_result",
          "data": {
            "text/plain": [
              "0    0\n",
              "1    0\n",
              "2    1\n",
              "3    0\n",
              "4    0\n",
              "Name: CLASS, dtype: int64"
            ]
          },
          "metadata": {},
          "execution_count": 119
        }
      ],
      "source": [
        "y.head()"
      ]
    },
    {
      "cell_type": "code",
      "execution_count": null,
      "id": "c219f5a9",
      "metadata": {
        "id": "c219f5a9"
      },
      "outputs": [],
      "source": [
        "# Scale features\n",
        "scaler = StandardScaler()\n",
        "X = scaler.fit_transform(x)"
      ]
    },
    {
      "cell_type": "code",
      "execution_count": null,
      "id": "7de11f47",
      "metadata": {
        "colab": {
          "base_uri": "https://localhost:8080/"
        },
        "id": "7de11f47",
        "outputId": "06d6a7b2-e9a0-4696-b120-cff245bb98bf"
      },
      "outputs": [
        {
          "name": "stdout",
          "output_type": "stream",
          "text": [
            "dimension of X (1713, 3)\n",
            "dimension of y (1713,)\n",
            " "
          ]
        }
      ],
      "source": [
        "print('dimension of X',X.shape)\n",
        "print('dimension of y',y.shape ,end = '\\n ')"
      ]
    },
    {
      "cell_type": "markdown",
      "id": "c566c12a",
      "metadata": {
        "id": "c566c12a"
      },
      "source": [
        "4.Data division: here we will  divided Data to  training data  and test data  \n"
      ]
    },
    {
      "cell_type": "code",
      "execution_count": null,
      "id": "a6386b34",
      "metadata": {
        "id": "a6386b34"
      },
      "outputs": [],
      "source": [
        "x_train, x_test, y_train, y_test = train_test_split(X, y,test_size=0.35,random_state=4)"
      ]
    },
    {
      "cell_type": "code",
      "execution_count": null,
      "id": "b4357142",
      "metadata": {
        "colab": {
          "base_uri": "https://localhost:8080/"
        },
        "id": "b4357142",
        "outputId": "d65fe0c3-c294-4811-d011-bb083434a05e"
      },
      "outputs": [
        {
          "name": "stdout",
          "output_type": "stream",
          "text": [
            "(1199, 3)\n",
            "(514, 3)\n",
            "(1199,)\n",
            "(514,)\n"
          ]
        }
      ],
      "source": [
        "print(x_train.shape)\n",
        "print(x_test.shape)\n",
        "print(y_train.shape)\n",
        "print(y_test.shape)"
      ]
    },
    {
      "cell_type": "markdown",
      "id": "db6ddded",
      "metadata": {
        "id": "db6ddded"
      },
      "source": [
        "# **5 -- Creation of  models :**"
      ]
    },
    {
      "cell_type": "code",
      "execution_count": null,
      "id": "41aee55b",
      "metadata": {
        "id": "41aee55b"
      },
      "outputs": [],
      "source": []
    },
    {
      "cell_type": "code",
      "execution_count": null,
      "id": "SAnIpqZ-CPgU",
      "metadata": {
        "id": "SAnIpqZ-CPgU"
      },
      "outputs": [],
      "source": [
        "performance_Accuracy ={}\n",
        "def test_algorithm(model, x_train, y_train, x_test, y_test):\n",
        "\n",
        "    # Train the model\n",
        "    model.fit(x_train, y_train)\n",
        "\n",
        "    # Predict on test set\n",
        "    y_pred = model.predict(x_test)\n",
        "\n",
        "    # Calculate performance metrics\n",
        "    print(\"évaluer  performance: \\n\")\n",
        "\n",
        "    acc = accuracy_score(y_test, y_pred)\n",
        "    print(f\"Accuracy: {acc} \\n\")\n",
        "\n",
        "    prec = precision_score(y_test, y_pred)\n",
        "    print(f\"Precision: {prec} \\n\")\n",
        "\n",
        "    rec = recall_score(y_test, y_pred)\n",
        "    print(f\"Recall: {rec} \\n\")\n",
        "\n",
        "    f1 = f1_score(y_test, y_pred)\n",
        "    print(f\"F1 Score: {f1} \\n\")\n",
        "\n",
        "    cm = confusion_matrix(y_test, y_pred)\n",
        "    print(f\"Confusion Matrix: {cm} \\n\")\n",
        "\n",
        "    fn,fp, tn, tp = cm.ravel()\n",
        "    print(f\"True Positive : {tp} ; False Negative:  {fn} ; True Negative : {tn} ; False Positive : {fp}\")\n",
        "\n",
        "    print(\"\\n\")\n",
        "    cm_display = metrics.ConfusionMatrixDisplay(confusion_matrix = cm , display_labels = [False, True])\n",
        "    cm_display.plot()\n",
        "    plt.show()\n",
        "\n",
        "    print(\"\\n\")\n",
        "    report = classification_report(y_test, y_pred)\n",
        "    print(f\"Classification Report: {report} \\n\")\n",
        "\n",
        "    # Create a dictionary to store performance metrics\n",
        "    performance_Accuracy[model]=acc\n",
        "\n",
        "\n"
      ]
    },
    {
      "cell_type": "markdown",
      "id": "DM5SILX_uhQM",
      "metadata": {
        "id": "DM5SILX_uhQM"
      },
      "source": [
        "### **1- Arbres de décision (J48)**"
      ]
    },
    {
      "cell_type": "code",
      "execution_count": null,
      "id": "e6da92ac",
      "metadata": {
        "id": "e6da92ac"
      },
      "outputs": [],
      "source": [
        "DecisionTree = DecisionTreeClassifier()"
      ]
    },
    {
      "cell_type": "code",
      "execution_count": null,
      "id": "KyFkNBTsHu88",
      "metadata": {
        "colab": {
          "base_uri": "https://localhost:8080/",
          "height": 970
        },
        "id": "KyFkNBTsHu88",
        "outputId": "467f54f4-b750-4956-8840-6103018010fa"
      },
      "outputs": [
        {
          "name": "stdout",
          "output_type": "stream",
          "text": [
            " Decision Tree :\n",
            "\n",
            "évaluer  performance: \n",
            "\n",
            "Accuracy: 0.7762645914396887 \n",
            "\n",
            "Precision: 0.48717948717948717 \n",
            "\n",
            "Recall: 0.5089285714285714 \n",
            "\n",
            "F1 Score: 0.4978165938864628 \n",
            "\n",
            "Confusion Matrix: [[342  60]\n",
            " [ 55  57]] \n",
            "\n",
            "True Positive : 57 ; False Negative:  342 ; True Negative : 55 ; False Positive : 60\n",
            "\n",
            "\n"
          ]
        },
        {
          "data": {
            "image/png": "[encoded data removed]",
            "text/plain": [
              "<Figure size 640x480 with 2 Axes>"
            ]
          },
          "metadata": {},
          "output_type": "display_data"
        },
        {
          "name": "stdout",
          "output_type": "stream",
          "text": [
            "\n",
            "\n",
            "Classification Report:               precision    recall  f1-score   support\n",
            "\n",
            "           0       0.86      0.85      0.86       402\n",
            "           1       0.49      0.51      0.50       112\n",
            "\n",
            "    accuracy                           0.78       514\n",
            "   macro avg       0.67      0.68      0.68       514\n",
            "weighted avg       0.78      0.78      0.78       514\n",
            " \n",
            "\n"
          ]
        }
      ],
      "source": [
        "# Display performance metrics\n",
        "print(\" Decision Tree :\\n\")\n",
        "test_algorithm(DecisionTree,x_train, y_train, x_test, y_test)"
      ]
    },
    {
      "cell_type": "markdown",
      "id": "W0jPQ7A6YB0d",
      "metadata": {
        "id": "W0jPQ7A6YB0d"
      },
      "source": [
        "### **2- Forêts aléatoires (Random Forest)**"
      ]
    },
    {
      "cell_type": "code",
      "execution_count": null,
      "id": "71f724a4",
      "metadata": {
        "id": "71f724a4"
      },
      "outputs": [],
      "source": [
        "RandomForest = RandomForestClassifier()"
      ]
    },
    {
      "cell_type": "code",
      "execution_count": null,
      "id": "8941d315",
      "metadata": {
        "colab": {
          "base_uri": "https://localhost:8080/",
          "height": 970
        },
        "id": "8941d315",
        "outputId": "a2acb83f-012e-49e1-dd1a-9dfebc47ddeb"
      },
      "outputs": [
        {
          "name": "stdout",
          "output_type": "stream",
          "text": [
            " Random Forest :\n",
            "\n",
            "évaluer  performance: \n",
            "\n",
            "Accuracy: 0.8326848249027238 \n",
            "\n",
            "Precision: 0.6805555555555556 \n",
            "\n",
            "Recall: 0.4375 \n",
            "\n",
            "F1 Score: 0.532608695652174 \n",
            "\n",
            "Confusion Matrix: [[379  23]\n",
            " [ 63  49]] \n",
            "\n",
            "True Positive : 49 ; False Negative:  379 ; True Negative : 63 ; False Positive : 23\n",
            "\n",
            "\n"
          ]
        },
        {
          "data": {
            "image/png": "[encoded data removed]",
            "text/plain": [
              "<Figure size 640x480 with 2 Axes>"
            ]
          },
          "metadata": {},
          "output_type": "display_data"
        },
        {
          "name": "stdout",
          "output_type": "stream",
          "text": [
            "\n",
            "\n",
            "Classification Report:               precision    recall  f1-score   support\n",
            "\n",
            "           0       0.86      0.94      0.90       402\n",
            "           1       0.68      0.44      0.53       112\n",
            "\n",
            "    accuracy                           0.83       514\n",
            "   macro avg       0.77      0.69      0.72       514\n",
            "weighted avg       0.82      0.83      0.82       514\n",
            " \n",
            "\n"
          ]
        }
      ],
      "source": [
        "# Display performance metrics\n",
        "print(\" Random Forest :\\n\")\n",
        "test_algorithm(RandomForest,x_train, y_train, x_test, y_test)"
      ]
    },
    {
      "cell_type": "markdown",
      "id": "0kh0pfxOb2Zh",
      "metadata": {
        "id": "0kh0pfxOb2Zh"
      },
      "source": [
        "### **3- k plus proches voisins (k-NN)**"
      ]
    },
    {
      "cell_type": "code",
      "execution_count": null,
      "id": "c9ce3a12",
      "metadata": {
        "id": "c9ce3a12"
      },
      "outputs": [],
      "source": [
        "kNN = KNeighborsClassifier()"
      ]
    },
    {
      "cell_type": "code",
      "execution_count": null,
      "id": "c89518c2",
      "metadata": {
        "colab": {
          "base_uri": "https://localhost:8080/",
          "height": 970
        },
        "id": "c89518c2",
        "outputId": "1057ea3f-883a-4853-a0ac-eef1f9c68af1"
      },
      "outputs": [
        {
          "name": "stdout",
          "output_type": "stream",
          "text": [
            " k plus proches voisins :\n",
            "\n",
            "évaluer  performance: \n",
            "\n",
            "Accuracy: 0.7626459143968871 \n",
            "\n",
            "Precision: 0.4358974358974359 \n",
            "\n",
            "Recall: 0.30357142857142855 \n",
            "\n",
            "F1 Score: 0.35789473684210527 \n",
            "\n",
            "Confusion Matrix: [[358  44]\n",
            " [ 78  34]] \n",
            "\n",
            "True Positive : 34 ; False Negative:  358 ; True Negative : 78 ; False Positive : 44\n",
            "\n",
            "\n"
          ]
        },
        {
          "data": {
            "image/png": "[encoded data removed]",
            "text/plain": [
              "<Figure size 640x480 with 2 Axes>"
            ]
          },
          "metadata": {},
          "output_type": "display_data"
        },
        {
          "name": "stdout",
          "output_type": "stream",
          "text": [
            "\n",
            "\n",
            "Classification Report:               precision    recall  f1-score   support\n",
            "\n",
            "           0       0.82      0.89      0.85       402\n",
            "           1       0.44      0.30      0.36       112\n",
            "\n",
            "    accuracy                           0.76       514\n",
            "   macro avg       0.63      0.60      0.61       514\n",
            "weighted avg       0.74      0.76      0.75       514\n",
            " \n",
            "\n"
          ]
        }
      ],
      "source": [
        "# Display performance metrics\n",
        "print(\" k plus proches voisins :\\n\")\n",
        "test_algorithm(kNN,x_train, y_train, x_test, y_test)"
      ]
    },
    {
      "cell_type": "markdown",
      "id": "dEmWZqyqcgdn",
      "metadata": {
        "id": "dEmWZqyqcgdn"
      },
      "source": [
        "### **4- Naive Bayes**"
      ]
    },
    {
      "cell_type": "code",
      "execution_count": null,
      "id": "a2003030",
      "metadata": {
        "id": "a2003030"
      },
      "outputs": [],
      "source": [
        "NaiveBayes=GaussianNB()"
      ]
    },
    {
      "cell_type": "code",
      "execution_count": null,
      "id": "hg0xb92ndrEo",
      "metadata": {
        "colab": {
          "base_uri": "https://localhost:8080/",
          "height": 970
        },
        "id": "hg0xb92ndrEo",
        "outputId": "7848e520-f081-4e7b-9402-7697e35d599d"
      },
      "outputs": [
        {
          "name": "stdout",
          "output_type": "stream",
          "text": [
            " Naive Bayes :\n",
            "\n",
            "évaluer  performance: \n",
            "\n",
            "Accuracy: 0.7704280155642024 \n",
            "\n",
            "Precision: 0.3125 \n",
            "\n",
            "Recall: 0.044642857142857144 \n",
            "\n",
            "F1 Score: 0.078125 \n",
            "\n",
            "Confusion Matrix: [[391  11]\n",
            " [107   5]] \n",
            "\n",
            "True Positive : 5 ; False Negative:  391 ; True Negative : 107 ; False Positive : 11\n",
            "\n",
            "\n"
          ]
        },
        {
          "data": {
            "image/png": "[encoded data removed]",
            "text/plain": [
              "<Figure size 640x480 with 2 Axes>"
            ]
          },
          "metadata": {},
          "output_type": "display_data"
        },
        {
          "name": "stdout",
          "output_type": "stream",
          "text": [
            "\n",
            "\n",
            "Classification Report:               precision    recall  f1-score   support\n",
            "\n",
            "           0       0.79      0.97      0.87       402\n",
            "           1       0.31      0.04      0.08       112\n",
            "\n",
            "    accuracy                           0.77       514\n",
            "   macro avg       0.55      0.51      0.47       514\n",
            "weighted avg       0.68      0.77      0.70       514\n",
            " \n",
            "\n"
          ]
        }
      ],
      "source": [
        "# Display performance metrics\n",
        "print(\" Naive Bayes :\\n\")\n",
        "test_algorithm(NaiveBayes,x_train, y_train, x_test, y_test)"
      ]
    },
    {
      "cell_type": "markdown",
      "id": "ocWxX_dEoeeP",
      "metadata": {
        "id": "ocWxX_dEoeeP"
      },
      "source": [
        "### **5-Machines à vecteurs de support (SVM)**"
      ]
    },
    {
      "cell_type": "code",
      "execution_count": null,
      "id": "OfHt-aA2oOjH",
      "metadata": {
        "id": "OfHt-aA2oOjH"
      },
      "outputs": [],
      "source": [
        "SVM = SVC()"
      ]
    },
    {
      "cell_type": "code",
      "execution_count": null,
      "id": "QBapXNWhmTLx",
      "metadata": {
        "colab": {
          "base_uri": "https://localhost:8080/",
          "height": 976
        },
        "id": "QBapXNWhmTLx",
        "outputId": "fa992f21-b4c4-431b-fe51-177628fa548c"
      },
      "outputs": [
        {
          "name": "stdout",
          "output_type": "stream",
          "text": [
            "  support vecteurs  Machines:\n",
            "\n",
            "évaluer  performance: \n",
            "\n",
            "Accuracy: 0.791828793774319 \n",
            "\n",
            "Precision: 0.7777777777777778 \n",
            "\n",
            "Recall: 0.0625 \n",
            "\n",
            "F1 Score: 0.11570247933884298 \n",
            "\n",
            "Confusion Matrix: [[400   2]\n",
            " [105   7]] \n",
            "\n",
            "True Positive : 7 ; False Negative:  400 ; True Negative : 105 ; False Positive : 2\n",
            "\n",
            "\n"
          ]
        },
        {
          "data": {
            "image/png": "[encoded data removed]",
            "text/plain": [
              "<Figure size 640x480 with 2 Axes>"
            ]
          },
          "metadata": {},
          "output_type": "display_data"
        },
        {
          "name": "stdout",
          "output_type": "stream",
          "text": [
            "\n",
            "\n",
            "Classification Report:               precision    recall  f1-score   support\n",
            "\n",
            "           0       0.79      1.00      0.88       402\n",
            "           1       0.78      0.06      0.12       112\n",
            "\n",
            "    accuracy                           0.79       514\n",
            "   macro avg       0.78      0.53      0.50       514\n",
            "weighted avg       0.79      0.79      0.72       514\n",
            " \n",
            "\n"
          ]
        }
      ],
      "source": [
        "# Display performance metrics\n",
        "print(\"  support vecteurs  Machines:\\n\")\n",
        "test_algorithm(SVM,x_train, y_train, x_test, y_test)"
      ]
    },
    {
      "cell_type": "markdown",
      "id": "_z3JaLEjeFdg",
      "metadata": {
        "id": "_z3JaLEjeFdg"
      },
      "source": [
        "### **6-Réseaux de neurones artificiels (Multilayer Perceptron)**\n"
      ]
    },
    {
      "cell_type": "code",
      "execution_count": null,
      "id": "FBsTYYT-otm1",
      "metadata": {
        "id": "FBsTYYT-otm1"
      },
      "outputs": [],
      "source": [
        "MLP= MLPClassifier()"
      ]
    },
    {
      "cell_type": "code",
      "execution_count": null,
      "id": "j67La5TNo14f",
      "metadata": {
        "colab": {
          "base_uri": "https://localhost:8080/",
          "height": 1000
        },
        "id": "j67La5TNo14f",
        "outputId": "4c2b8a21-d3d5-4e1f-9678-13b970b1979c"
      },
      "outputs": [
        {
          "name": "stdout",
          "output_type": "stream",
          "text": [
            " Réseaux de neurones artificiels :\n",
            "\n",
            "évaluer  performance: \n",
            "\n",
            "Accuracy: 0.791828793774319 \n",
            "\n",
            "Precision: 0.5862068965517241 \n",
            "\n",
            "Recall: 0.15178571428571427 \n",
            "\n",
            "F1 Score: 0.2411347517730496 \n",
            "\n",
            "Confusion Matrix: [[390  12]\n",
            " [ 95  17]] \n",
            "\n",
            "True Positive : 17 ; False Negative:  390 ; True Negative : 95 ; False Positive : 12\n",
            "\n",
            "\n"
          ]
        },
        {
          "name": "stderr",
          "output_type": "stream",
          "text": [
            "C:\\Users\\smi\\anaconda4\\Lib\\site-packages\\sklearn\\neural_network\\_multilayer_perceptron.py:691: ConvergenceWarning: Stochastic Optimizer: Maximum iterations (200) reached and the optimization hasn't converged yet.\n",
            "  warnings.warn(\n"
          ]
        },
        {
          "data": {
            "image/png": "[encoded data removed]",
            "text/plain": [
              "<Figure size 640x480 with 2 Axes>"
            ]
          },
          "metadata": {},
          "output_type": "display_data"
        },
        {
          "name": "stdout",
          "output_type": "stream",
          "text": [
            "\n",
            "\n",
            "Classification Report:               precision    recall  f1-score   support\n",
            "\n",
            "           0       0.80      0.97      0.88       402\n",
            "           1       0.59      0.15      0.24       112\n",
            "\n",
            "    accuracy                           0.79       514\n",
            "   macro avg       0.70      0.56      0.56       514\n",
            "weighted avg       0.76      0.79      0.74       514\n",
            " \n",
            "\n"
          ]
        }
      ],
      "source": [
        "# Display performance metrics\n",
        "print(\" Réseaux de neurones artificiels :\\n\")\n",
        "test_algorithm(MLP,x_train, y_train, x_test, y_test)"
      ]
    },
    {
      "cell_type": "markdown",
      "id": "ZusU4aYwtvdb",
      "metadata": {
        "id": "ZusU4aYwtvdb"
      },
      "source": [
        "## **E-meilleures performances**"
      ]
    },
    {
      "cell_type": "code",
      "execution_count": null,
      "id": "tlXowChguHBD",
      "metadata": {
        "colab": {
          "base_uri": "https://localhost:8080/"
        },
        "id": "tlXowChguHBD",
        "outputId": "6c3f751f-0ab4-452c-ef3c-7ee9ff816a9e"
      },
      "outputs": [
        {
          "name": "stdout",
          "output_type": "stream",
          "text": [
            "DecisionTreeClassifier() 0.7762645914396887\n",
            "RandomForestClassifier() 0.8326848249027238\n",
            "KNeighborsClassifier() 0.7626459143968871\n",
            "GaussianNB() 0.7704280155642024\n",
            "SVC() 0.791828793774319\n",
            "MLPClassifier() 0.791828793774319\n"
          ]
        }
      ],
      "source": [
        "for x,y in performance_Accuracy.items():\n",
        "   print(x,y)"
      ]
    },
    {
      "cell_type": "code",
      "execution_count": null,
      "id": "958a93d0",
      "metadata": {
        "id": "958a93d0",
        "outputId": "7e4539f8-425b-4273-ef3d-af49c033c76c"
      },
      "outputs": [
        {
          "data": {
            "text/plain": [
              "0.7762645914396887"
            ]
          },
          "execution_count": 283,
          "metadata": {},
          "output_type": "execute_result"
        }
      ],
      "source": [
        "performance_Accuracy[DecisionTree]"
      ]
    },
    {
      "cell_type": "code",
      "execution_count": null,
      "id": "8oxQMngArpfB",
      "metadata": {
        "colab": {
          "base_uri": "https://localhost:8080/",
          "height": 607
        },
        "id": "8oxQMngArpfB",
        "outputId": "2be854f5-9f8a-4344-d5d4-c6badf27c3bc"
      },
      "outputs": [
        {
          "data": {
            "image/png": "[encoded data removed]",
            "text/plain": [
              "<Figure size 1000x600 with 1 Axes>"
            ]
          },
          "metadata": {},
          "output_type": "display_data"
        }
      ],
      "source": [
        "# Ensure that models contains single string values\n",
        "models = [str(model) for model in performance_Accuracy.keys()]\n",
        "\n",
        "# Extract accuracies\n",
        "accuracies = list(performance_Accuracy.values())\n",
        "\n",
        "# Plot the results\n",
        "plt.figure(figsize=(10, 6))\n",
        "plt.bar(models, accuracies, color='skyblue')\n",
        "plt.xlabel('Classifier')\n",
        "plt.ylabel('Accuracy')\n",
        "plt.title('Comparison of Classifier Accuracies')\n",
        "plt.xticks(rotation=45, ha='right')  # Rotate x-axis labels for better readability\n",
        "\n",
        "# Set y-axis limits and ticks\n",
        "plt.ylim(0, 1.0)  # Set the y-axis limits\n",
        "plt.yticks(np.arange(0, 1.1, 0.1))  # Set y-axis ticks from 0 to 1 with step 0.1\n",
        "plt.gca().set_yticklabels(['{:.0f}%'.format(x*100) for x in np.arange(0, 1.1, 0.1)])  # Format y-axis ticks as percentages\n",
        "\n",
        "plt.tight_layout()\n",
        "plt.show()\n"
      ]
    },
    {
      "cell_type": "markdown",
      "id": "gDhok-onfP1b",
      "metadata": {
        "id": "gDhok-onfP1b"
      },
      "source": [
        "# **6-- Appliquez la validation croisée pour évaluer la stabilité des modèles.**\n",
        "\n",
        "\n"
      ]
    },
    {
      "cell_type": "code",
      "execution_count": null,
      "id": "QFgyHONrq9QK",
      "metadata": {
        "id": "QFgyHONrq9QK"
      },
      "outputs": [],
      "source": [
        "import time\n",
        "\n",
        "def cross_validation_with_time(X, y, model2, cv):\n",
        "    \"\"\"\n",
        "    Parameters:\n",
        "        X: Features .\n",
        "        y : Target or class.\n",
        "        cv : Determines the cross-validation splitting strategy.\n",
        "    \"\"\"\n",
        "\n",
        "    # Start timing\n",
        "    start_time = time.time()\n",
        "\n",
        "    # Calculate cross-validation scores\n",
        "    cv_scores = cross_val_score(model2, X, y, cv=cv)\n",
        "\n",
        "\n",
        "    # Calculate average score across all folds\n",
        "    avg = np.mean(cv_scores)\n",
        "\n",
        "    # End timing\n",
        "    end_time = time.time()\n",
        "\n",
        "    # Calculate time taken\n",
        "    cv_time = end_time - start_time\n",
        "\n",
        "    # Print average score and time\n",
        "    print(\"All Scores :\", cv_scores)\n",
        "\n",
        "    # Print average score and time\n",
        "    print(\"Average Score:\", avg)\n",
        "    print(\"Time taken for cross-validation:\", cv_time)"
      ]
    },
    {
      "cell_type": "code",
      "execution_count": null,
      "id": "vGSlGsFh_u0g",
      "metadata": {
        "id": "vGSlGsFh_u0g"
      },
      "outputs": [],
      "source": [
        "#separating  the  features and\n",
        "\n",
        "x_full = dataset[[\"NDVI\", \"LST\", \"BURNED_AREA\"]]\n",
        "y_full = dataset[\"CLASS\"]\n",
        "\n",
        "# Scale features\n",
        "scaler = StandardScaler()\n",
        "x_full = scaler.fit_transform(x_full)\n",
        "\n",
        "\n",
        "\n",
        "X_train, X_test, Y_train, Y_test = train_test_split(x_full, y_full,test_size=0.25,random_state=42,shuffle=True)"
      ]
    },
    {
      "cell_type": "markdown",
      "id": "-PBga2W3sjmS",
      "metadata": {
        "id": "-PBga2W3sjmS"
      },
      "source": [
        "### **A- Arbres de décision (J48)**"
      ]
    },
    {
      "cell_type": "code",
      "execution_count": null,
      "id": "BkRcSA08MQOk",
      "metadata": {
        "colab": {
          "base_uri": "https://localhost:8080/"
        },
        "id": "BkRcSA08MQOk",
        "outputId": "2a63e2a5-8805-4d7c-efef-5fbd4424c3cc"
      },
      "outputs": [
        {
          "name": "stdout",
          "output_type": "stream",
          "text": [
            "All Scores : [0.79883382 0.81632653 0.81049563 0.78362573 0.78070175]\n",
            "Average Score: 0.7979966924113004\n",
            "Time taken for cross-validation: 0.055619239807128906\n"
          ]
        }
      ],
      "source": [
        "# Define KFold cross-validation with 5 splits\n",
        "k_folds = KFold(n_splits=5)\n",
        "\n",
        "#create model\n",
        "DecisionTree_cross = DecisionTreeClassifier()\n",
        "\n",
        "# Perform cross-validation and get average score and time\n",
        "cross_validation_with_time(x_full,y_full,DecisionTree_cross,k_folds)"
      ]
    },
    {
      "cell_type": "markdown",
      "id": "TZ3XPrKpuI8p",
      "metadata": {
        "id": "TZ3XPrKpuI8p"
      },
      "source": [
        "### **B- Forêts aléatoires (Random Forest)**"
      ]
    },
    {
      "cell_type": "code",
      "execution_count": null,
      "id": "fkbUFEIfq71Y",
      "metadata": {
        "colab": {
          "base_uri": "https://localhost:8080/"
        },
        "id": "fkbUFEIfq71Y",
        "outputId": "29723a8d-5191-46bb-ac8e-40446c53b16f"
      },
      "outputs": [
        {
          "name": "stdout",
          "output_type": "stream",
          "text": [
            "All Scores : [0.8483965  0.8483965  0.85131195 0.84210526 0.83333333]\n",
            "Average Score: 0.8447087105518898\n",
            "Time taken for cross-validation: 2.0820817947387695\n"
          ]
        }
      ],
      "source": [
        "# Perform cross-validation and get average score and time\n",
        "RandomForest_cross = RandomForestClassifier()\n",
        "cross_validation_with_time(x_full,y_full,RandomForest_cross,k_folds)"
      ]
    },
    {
      "cell_type": "markdown",
      "id": "p398hLFApzBC",
      "metadata": {
        "id": "p398hLFApzBC"
      },
      "source": [
        "### **C- k plus proches voisins (k-NN)**"
      ]
    },
    {
      "cell_type": "code",
      "execution_count": null,
      "id": "liF4JiUIpxNJ",
      "metadata": {
        "colab": {
          "base_uri": "https://localhost:8080/"
        },
        "id": "liF4JiUIpxNJ",
        "outputId": "20c8c9ce-b33b-4a99-d42b-0e48b54f8dc9"
      },
      "outputs": [
        {
          "name": "stdout",
          "output_type": "stream",
          "text": [
            "All Scores : [0.7755102  0.75801749 0.79591837 0.80994152 0.74269006]\n",
            "Average Score: 0.7764155286174621\n",
            "Time taken for cross-validation: 0.1338200569152832\n"
          ]
        }
      ],
      "source": [
        "# Perform cross-validation and get average score and times\n",
        "kNN_cross = KNeighborsClassifier()\n",
        "cross_validation_with_time(x_full,y_full, kNN_cross, k_folds)"
      ]
    },
    {
      "cell_type": "markdown",
      "id": "7conLJTnEhdx",
      "metadata": {
        "id": "7conLJTnEhdx"
      },
      "source": [
        "### **D- Naive Bayes**"
      ]
    },
    {
      "cell_type": "code",
      "execution_count": null,
      "id": "cuJGCIEGEN9b",
      "metadata": {
        "colab": {
          "base_uri": "https://localhost:8080/"
        },
        "id": "cuJGCIEGEN9b",
        "outputId": "750154be-db78-4cda-ca20-1627704fd7e0"
      },
      "outputs": [
        {
          "name": "stdout",
          "output_type": "stream",
          "text": [
            "All Scores : [0.78134111 0.75218659 0.7696793  0.78654971 0.79532164]\n",
            "Average Score: 0.7770156684227575\n",
            "Time taken for cross-validation: 0.013504266738891602\n"
          ]
        }
      ],
      "source": [
        "# Perform cross-validation and get average score and times\n",
        "NaiveBayes_cross=GaussianNB()\n",
        "cross_validation_with_time(x_full,y_full, NaiveBayes_cross, k_folds)"
      ]
    },
    {
      "cell_type": "markdown",
      "id": "QxdfWLheE4IR",
      "metadata": {
        "id": "QxdfWLheE4IR"
      },
      "source": [
        "### **E -Machines à vecteurs de support (SVM)**"
      ]
    },
    {
      "cell_type": "code",
      "execution_count": null,
      "id": "OplKgDkkE9i5",
      "metadata": {
        "colab": {
          "base_uri": "https://localhost:8080/"
        },
        "id": "OplKgDkkE9i5",
        "outputId": "67b0e961-e12f-4a1d-e986-43266c65c987"
      },
      "outputs": [
        {
          "name": "stdout",
          "output_type": "stream",
          "text": [
            "All Scores : [0.79008746 0.75218659 0.78717201 0.80409357 0.78947368]\n",
            "Average Score: 0.7846026631203861\n",
            "Time taken for cross-validation: 0.42667126655578613\n"
          ]
        }
      ],
      "source": [
        "# Perform cross-validation and get average score and times\n",
        "SVM_cross = SVC()\n",
        "cross_validation_with_time(x_full,y_full, SVM_cross, k_folds)"
      ]
    },
    {
      "cell_type": "markdown",
      "id": "-BID7eUAE6li",
      "metadata": {
        "id": "-BID7eUAE6li"
      },
      "source": [
        "### **F -Réseaux de neurones artificiels (Multilayer Perceptron)**"
      ]
    },
    {
      "cell_type": "code",
      "execution_count": null,
      "id": "XMSq2Nh5E_yA",
      "metadata": {
        "colab": {
          "base_uri": "https://localhost:8080/"
        },
        "id": "XMSq2Nh5E_yA",
        "outputId": "b69b53dc-805c-4409-97ea-3714b86a918c"
      },
      "outputs": [
        {
          "name": "stderr",
          "output_type": "stream",
          "text": [
            "C:\\Users\\smi\\anaconda4\\Lib\\site-packages\\sklearn\\neural_network\\_multilayer_perceptron.py:691: ConvergenceWarning: Stochastic Optimizer: Maximum iterations (200) reached and the optimization hasn't converged yet.\n",
            "  warnings.warn(\n",
            "C:\\Users\\smi\\anaconda4\\Lib\\site-packages\\sklearn\\neural_network\\_multilayer_perceptron.py:691: ConvergenceWarning: Stochastic Optimizer: Maximum iterations (200) reached and the optimization hasn't converged yet.\n",
            "  warnings.warn(\n",
            "C:\\Users\\smi\\anaconda4\\Lib\\site-packages\\sklearn\\neural_network\\_multilayer_perceptron.py:691: ConvergenceWarning: Stochastic Optimizer: Maximum iterations (200) reached and the optimization hasn't converged yet.\n",
            "  warnings.warn(\n"
          ]
        },
        {
          "name": "stdout",
          "output_type": "stream",
          "text": [
            "All Scores : [0.79591837 0.76676385 0.80758017 0.80409357 0.80701754]\n",
            "Average Score: 0.796274700356333\n",
            "Time taken for cross-validation: 4.842599630355835\n"
          ]
        },
        {
          "name": "stderr",
          "output_type": "stream",
          "text": [
            "C:\\Users\\smi\\anaconda4\\Lib\\site-packages\\sklearn\\neural_network\\_multilayer_perceptron.py:691: ConvergenceWarning: Stochastic Optimizer: Maximum iterations (200) reached and the optimization hasn't converged yet.\n",
            "  warnings.warn(\n"
          ]
        }
      ],
      "source": [
        "# Perform cross-validation and get average score and times\n",
        "MLP_cross= MLPClassifier()\n",
        "cross_validation_with_time(x_full,y_full, MLP_cross, k_folds)"
      ]
    },
    {
      "cell_type": "markdown",
      "id": "OtIuebAyFI2R",
      "metadata": {
        "id": "OtIuebAyFI2R"
      },
      "source": [
        "## **7- Perform a setting of the hyperparameter of each algorithm**"
      ]
    },
    {
      "cell_type": "markdown",
      "id": "z0e-uKhnZsfM",
      "metadata": {
        "id": "z0e-uKhnZsfM"
      },
      "source": [
        "### **A- Arbres de décision (J48)**"
      ]
    },
    {
      "cell_type": "code",
      "execution_count": null,
      "id": "8vuQbQsmZ-k2",
      "metadata": {
        "id": "8vuQbQsmZ-k2"
      },
      "outputs": [],
      "source": [
        "# Define the models\n",
        "DecisionTree_grid = DecisionTreeClassifier()"
      ]
    },
    {
      "cell_type": "code",
      "execution_count": null,
      "id": "DAJVYEvyaKIP",
      "metadata": {
        "id": "DAJVYEvyaKIP"
      },
      "outputs": [],
      "source": [
        "# Define hyperparameters grid for each model\n",
        "param_grid_DecisionTree = {\n",
        "    'criterion': ['gini', 'entropy'],\n",
        "    'max_depth': [None, 5, 10,30],\n",
        "    'min_samples_split': [2, 10,50],\n",
        "    'max_features': ['sqrt', 'log2'],\n",
        "    'max_leaf_nodes': [None, 10, 30,40,50],\n",
        "    'min_impurity_decrease': [ 0.1, 0.2],\n",
        "    'splitter': ['best', 'random'],\n",
        "}"
      ]
    },
    {
      "cell_type": "code",
      "execution_count": null,
      "id": "8vOVb33hFiNN",
      "metadata": {
        "id": "8vOVb33hFiNN"
      },
      "outputs": [],
      "source": [
        "# Create GridSearchCV object\n",
        "DecisionTree_grid_model = GridSearchCV(DecisionTree_grid, param_grid_DecisionTree, cv=5)"
      ]
    },
    {
      "cell_type": "code",
      "execution_count": null,
      "id": "wqWna1acFqrV",
      "metadata": {
        "colab": {
          "base_uri": "https://localhost:8080/"
        },
        "id": "wqWna1acFqrV",
        "outputId": "e096b1ba-cacf-40d6-b68b-0b887cd56580"
      },
      "outputs": [
        {
          "name": "stdout",
          "output_type": "stream",
          "text": [
            "Best Hyperparameters: {'criterion': 'gini', 'max_depth': None, 'max_features': 'sqrt', 'max_leaf_nodes': None, 'min_impurity_decrease': 0.1, 'min_samples_split': 2, 'splitter': 'best'}\n"
          ]
        }
      ],
      "source": [
        "# Fit the grid search to the data\n",
        "DecisionTree_grid_model.fit(X_train, Y_train)\n",
        "\n",
        "# Get the best hyperparameters\n",
        "best_params = DecisionTree_grid_model.best_params_\n",
        "print(\"Best Hyperparameters:\", best_params)"
      ]
    },
    {
      "cell_type": "code",
      "execution_count": null,
      "id": "ilKkzs5WG0ik",
      "metadata": {
        "colab": {
          "base_uri": "https://localhost:8080/"
        },
        "id": "ilKkzs5WG0ik",
        "outputId": "9fa6e4f8-26f1-4dfa-8916-49510c129dce"
      },
      "outputs": [
        {
          "name": "stdout",
          "output_type": "stream",
          "text": [
            "              precision    recall  f1-score   support\n",
            "\n",
            "           0       0.79      1.00      0.89       341\n",
            "           1       0.00      0.00      0.00        88\n",
            "\n",
            "    accuracy                           0.79       429\n",
            "   macro avg       0.40      0.50      0.44       429\n",
            "weighted avg       0.63      0.79      0.70       429\n",
            "\n"
          ]
        },
        {
          "name": "stderr",
          "output_type": "stream",
          "text": [
            "C:\\Users\\smi\\anaconda4\\Lib\\site-packages\\sklearn\\metrics\\_classification.py:1469: UndefinedMetricWarning: Precision and F-score are ill-defined and being set to 0.0 in labels with no predicted samples. Use `zero_division` parameter to control this behavior.\n",
            "  _warn_prf(average, modifier, msg_start, len(result))\n",
            "C:\\Users\\smi\\anaconda4\\Lib\\site-packages\\sklearn\\metrics\\_classification.py:1469: UndefinedMetricWarning: Precision and F-score are ill-defined and being set to 0.0 in labels with no predicted samples. Use `zero_division` parameter to control this behavior.\n",
            "  _warn_prf(average, modifier, msg_start, len(result))\n",
            "C:\\Users\\smi\\anaconda4\\Lib\\site-packages\\sklearn\\metrics\\_classification.py:1469: UndefinedMetricWarning: Precision and F-score are ill-defined and being set to 0.0 in labels with no predicted samples. Use `zero_division` parameter to control this behavior.\n",
            "  _warn_prf(average, modifier, msg_start, len(result))\n"
          ]
        }
      ],
      "source": [
        "grid_predictions_DecisionTree= DecisionTree_grid_model.predict(X_test)\n",
        "# print classification report\n",
        "print(classification_report(Y_test,grid_predictions_DecisionTree))"
      ]
    },
    {
      "cell_type": "code",
      "execution_count": null,
      "id": "BCasaupJHG-D",
      "metadata": {
        "colab": {
          "base_uri": "https://localhost:8080/"
        },
        "id": "BCasaupJHG-D",
        "outputId": "6d8ecbaa-aaaa-4e94-b0a4-94462014ce8d"
      },
      "outputs": [
        {
          "name": "stdout",
          "output_type": "stream",
          "text": [
            "[[341   0]\n",
            " [ 88   0]]\n",
            " "
          ]
        },
        {
          "data": {
            "text/plain": [
              "0.7948717948717948"
            ]
          },
          "execution_count": 251,
          "metadata": {},
          "output_type": "execute_result"
        }
      ],
      "source": [
        "cf_matrix_DecisionTree = confusion_matrix(Y_test,grid_predictions_DecisionTree)\n",
        "print(cf_matrix_DecisionTree, end ='\\n ')\n",
        "\n",
        "accuracy_score(Y_test,grid_predictions_DecisionTree)"
      ]
    },
    {
      "cell_type": "markdown",
      "id": "GWHkz0LcZuFV",
      "metadata": {
        "id": "GWHkz0LcZuFV"
      },
      "source": [
        "### **B- Forêts aléatoires (Random Forest)**"
      ]
    },
    {
      "cell_type": "code",
      "execution_count": null,
      "id": "nI_h68r2Z_io",
      "metadata": {
        "id": "nI_h68r2Z_io"
      },
      "outputs": [],
      "source": [
        "# Define the models\n",
        "RandomForest_grid = RandomForestClassifier()"
      ]
    },
    {
      "cell_type": "code",
      "execution_count": null,
      "id": "Ep3ByCdyaLL8",
      "metadata": {
        "id": "Ep3ByCdyaLL8"
      },
      "outputs": [],
      "source": [
        "# Define hyperparameters grid for each model\n",
        "\n",
        "param_grid_RandomForest = {\n",
        "         'n_estimators': [None,100],\n",
        "         'criterion': ['gini', 'entropy'],\n",
        "         'max_features': ['sqrt', 'log2'],\n",
        "\n",
        "\n",
        "\n",
        "   #### 'n_estimators': [100],\n",
        "      ###  'criterion': ['gini'],\n",
        "      #  'max_depth': [None, 10, 20],\n",
        "     ##   'min_weight_fraction_leaf': [0.0],\n",
        "      #  'max_features': [ 'log2'],\n",
        "      #  'max_leaf_nodes': [None, 10],\n",
        "      ##  'min_impurity_decrease': [0.0, 0.1],    84.04\n",
        "       # 'bootstrap': [True, False],\n",
        "       # 'oob_score': [True, False],\n",
        "       # 'class_weight': [None, 'balanced', 'balanced_subsample']\n",
        "\n",
        "\n",
        "\n",
        "   # 'n_estimators': [None,100],\n",
        "   # 'criterion': ['gini', 'entropy'],\n",
        "   # 'max_features': ['sqrt', 'log2'],\n",
        "\n",
        "\n",
        "#'n_estimators': [50, 100],\n",
        " #   'criterion': ['gini', 'entropy'],\n",
        " #   'min_samples_split': [5,2,0,9],\n",
        "  #  'min_samples_leaf': [5,2,0,9],\n",
        "  #  'max_features': ['sqrt', 'log2', None], 83.46\n",
        "}"
      ]
    },
    {
      "cell_type": "code",
      "execution_count": null,
      "id": "J7zJfSCgJKtD",
      "metadata": {
        "id": "J7zJfSCgJKtD"
      },
      "outputs": [],
      "source": [
        "# Create GridSearchCV object\n",
        "grid_RandomForest_model = GridSearchCV(RandomForest_grid, param_grid_RandomForest, cv=5)"
      ]
    },
    {
      "cell_type": "code",
      "execution_count": null,
      "id": "U279SNaaJPuj",
      "metadata": {
        "colab": {
          "base_uri": "https://localhost:8080/"
        },
        "id": "U279SNaaJPuj",
        "outputId": "dbb7e6af-c377-430d-ead9-0eedf7a7ed5f"
      },
      "outputs": [
        {
          "name": "stderr",
          "output_type": "stream",
          "text": [
            "C:\\Users\\smi\\anaconda4\\Lib\\site-packages\\sklearn\\model_selection\\_validation.py:425: FitFailedWarning: \n",
            "20 fits failed out of a total of 40.\n",
            "The score on these train-test partitions for these parameters will be set to nan.\n",
            "If these failures are not expected, you can try to debug them by setting error_score='raise'.\n",
            "\n",
            "Below are more details about the failures:\n",
            "--------------------------------------------------------------------------------\n",
            "20 fits failed with the following error:\n",
            "Traceback (most recent call last):\n",
            "  File \"C:\\Users\\smi\\anaconda4\\Lib\\site-packages\\sklearn\\model_selection\\_validation.py\", line 732, in _fit_and_score\n",
            "    estimator.fit(X_train, y_train, **fit_params)\n",
            "  File \"C:\\Users\\smi\\anaconda4\\Lib\\site-packages\\sklearn\\base.py\", line 1144, in wrapper\n",
            "    estimator._validate_params()\n",
            "  File \"C:\\Users\\smi\\anaconda4\\Lib\\site-packages\\sklearn\\base.py\", line 637, in _validate_params\n",
            "    validate_parameter_constraints(\n",
            "  File \"C:\\Users\\smi\\anaconda4\\Lib\\site-packages\\sklearn\\utils\\_param_validation.py\", line 95, in validate_parameter_constraints\n",
            "    raise InvalidParameterError(\n",
            "sklearn.utils._param_validation.InvalidParameterError: The 'n_estimators' parameter of RandomForestClassifier must be an int in the range [1, inf). Got None instead.\n",
            "\n",
            "  warnings.warn(some_fits_failed_message, FitFailedWarning)\n",
            "C:\\Users\\smi\\anaconda4\\Lib\\site-packages\\sklearn\\model_selection\\_search.py:976: UserWarning: One or more of the test scores are non-finite: [       nan 0.81695039        nan 0.82008451        nan 0.82241002\n",
            "        nan 0.82240698]\n",
            "  warnings.warn(\n"
          ]
        },
        {
          "name": "stdout",
          "output_type": "stream",
          "text": [
            "Best Hyperparameters: {'criterion': 'entropy', 'max_features': 'sqrt', 'n_estimators': 100}\n"
          ]
        }
      ],
      "source": [
        "# Fit the grid search to the data\n",
        "grid_RandomForest_model.fit(X_train, Y_train)\n",
        "\n",
        "# Get the best hyperparameters\n",
        "best_param_RandomForest = grid_RandomForest_model.best_params_\n",
        "print(\"Best Hyperparameters:\", best_param_RandomForest)"
      ]
    },
    {
      "cell_type": "code",
      "execution_count": null,
      "id": "9tlKia64JQyL",
      "metadata": {
        "colab": {
          "base_uri": "https://localhost:8080/"
        },
        "id": "9tlKia64JQyL",
        "outputId": "6eb8d3b8-3701-49bd-9150-7cd661acf74d"
      },
      "outputs": [
        {
          "name": "stdout",
          "output_type": "stream",
          "text": [
            "              precision    recall  f1-score   support\n",
            "\n",
            "           0       0.87      0.96      0.91       341\n",
            "           1       0.72      0.44      0.55        88\n",
            "\n",
            "    accuracy                           0.85       429\n",
            "   macro avg       0.80      0.70      0.73       429\n",
            "weighted avg       0.84      0.85      0.84       429\n",
            "\n"
          ]
        }
      ],
      "source": [
        "grid_predictions_RandomForest= grid_RandomForest_model.predict(X_test)\n",
        "# print classification report\n",
        "print(classification_report(Y_test,grid_predictions_RandomForest))"
      ]
    },
    {
      "cell_type": "code",
      "execution_count": null,
      "id": "6dcB4EeoJYwC",
      "metadata": {
        "colab": {
          "base_uri": "https://localhost:8080/"
        },
        "id": "6dcB4EeoJYwC",
        "outputId": "d766c5fb-fba0-4a4f-9360-e9e9dbea4dbf"
      },
      "outputs": [
        {
          "name": "stdout",
          "output_type": "stream",
          "text": [
            "[[326  15]\n",
            " [ 49  39]]\n",
            " "
          ]
        },
        {
          "data": {
            "text/plain": [
              "0.8508158508158508"
            ]
          },
          "execution_count": 257,
          "metadata": {},
          "output_type": "execute_result"
        }
      ],
      "source": [
        "cf_matrix_RandomForest = confusion_matrix(Y_test,grid_predictions_RandomForest)\n",
        "print(cf_matrix_RandomForest, end ='\\n ')\n",
        "\n",
        "accuracy_score(Y_test,grid_predictions_RandomForest)"
      ]
    },
    {
      "cell_type": "markdown",
      "id": "yafmKFo4ZxKe",
      "metadata": {
        "id": "yafmKFo4ZxKe"
      },
      "source": [
        "### **C- k plus proches voisins (k-NN)**"
      ]
    },
    {
      "cell_type": "code",
      "execution_count": null,
      "id": "g8t1OEYuaAAn",
      "metadata": {
        "id": "g8t1OEYuaAAn"
      },
      "outputs": [],
      "source": [
        "# Define the models\n",
        "kNN_grid = KNeighborsClassifier()"
      ]
    },
    {
      "cell_type": "code",
      "execution_count": null,
      "id": "zx9ppFdKaNPH",
      "metadata": {
        "id": "zx9ppFdKaNPH"
      },
      "outputs": [],
      "source": [
        "# Define hyperparameters grid for each model\n",
        "\n",
        "param_grid_kNN = {\n",
        "    'n_neighbors': [3, 5, 7, 6,8,9, 11,13],\n",
        "    'weights': ['uniform', 'distance'],\n",
        "    'algorithm': ['auto', 'ball_tree', 'kd_tree', 'brute'],\n",
        "    'p': [1, 2]\n",
        "}"
      ]
    },
    {
      "cell_type": "code",
      "execution_count": null,
      "id": "yRtmfsTbNhwd",
      "metadata": {
        "id": "yRtmfsTbNhwd"
      },
      "outputs": [],
      "source": [
        "# Create GridSearchCV object\n",
        "grid_kNN_model = GridSearchCV(kNN_grid, param_grid_kNN, cv=5)"
      ]
    },
    {
      "cell_type": "code",
      "execution_count": null,
      "id": "2v-2h9koNmFD",
      "metadata": {
        "colab": {
          "base_uri": "https://localhost:8080/"
        },
        "id": "2v-2h9koNmFD",
        "outputId": "ca07df25-2045-4a7c-d959-6d38250f29c8"
      },
      "outputs": [
        {
          "name": "stdout",
          "output_type": "stream",
          "text": [
            "Best Hyperparameters: {'algorithm': 'auto', 'n_neighbors': 11, 'p': 2, 'weights': 'distance'}\n"
          ]
        }
      ],
      "source": [
        "# Fit the grid search to the data\n",
        "grid_kNN_model.fit(X_train, Y_train)\n",
        "\n",
        "# Get the best hyperparameters\n",
        "best_param_kNN = grid_kNN_model.best_params_\n",
        "print(\"Best Hyperparameters:\", best_param_kNN)"
      ]
    },
    {
      "cell_type": "code",
      "execution_count": null,
      "id": "2iB8vjrTNtCq",
      "metadata": {
        "colab": {
          "base_uri": "https://localhost:8080/"
        },
        "id": "2iB8vjrTNtCq",
        "outputId": "265e7e20-70c4-4140-fc19-da9784bcf1bf"
      },
      "outputs": [
        {
          "name": "stdout",
          "output_type": "stream",
          "text": [
            "              precision    recall  f1-score   support\n",
            "\n",
            "           0       0.85      0.95      0.90       341\n",
            "           1       0.66      0.35      0.46        88\n",
            "\n",
            "    accuracy                           0.83       429\n",
            "   macro avg       0.76      0.65      0.68       429\n",
            "weighted avg       0.81      0.83      0.81       429\n",
            "\n"
          ]
        }
      ],
      "source": [
        "grid_predictions_kNN= grid_kNN_model.predict(X_test)\n",
        "# print classification report\n",
        "print(classification_report(Y_test,grid_predictions_kNN))"
      ]
    },
    {
      "cell_type": "code",
      "execution_count": null,
      "id": "31YvHQoANwGC",
      "metadata": {
        "colab": {
          "base_uri": "https://localhost:8080/"
        },
        "id": "31YvHQoANwGC",
        "outputId": "638babaf-f905-4fde-ae6f-b2d78c0000f2"
      },
      "outputs": [
        {
          "name": "stdout",
          "output_type": "stream",
          "text": [
            "[[325  16]\n",
            " [ 57  31]]\n",
            " "
          ]
        },
        {
          "data": {
            "text/plain": [
              "0.8298368298368298"
            ]
          },
          "execution_count": 263,
          "metadata": {},
          "output_type": "execute_result"
        }
      ],
      "source": [
        "cf_matrix_kNN = confusion_matrix(Y_test,grid_predictions_kNN)\n",
        "print(cf_matrix_kNN, end ='\\n ')\n",
        "\n",
        "accuracy_score(Y_test,grid_predictions_kNN)"
      ]
    },
    {
      "cell_type": "markdown",
      "id": "gw1TIF3DZ6I7",
      "metadata": {
        "id": "gw1TIF3DZ6I7"
      },
      "source": [
        "### **D -Machines à vecteurs de support (SVM)**"
      ]
    },
    {
      "cell_type": "code",
      "execution_count": null,
      "id": "vXcKr5HKaE0e",
      "metadata": {
        "id": "vXcKr5HKaE0e"
      },
      "outputs": [],
      "source": [
        "# Define the models\n",
        "SVM_grid = SVC()"
      ]
    },
    {
      "cell_type": "code",
      "execution_count": null,
      "id": "iWSUcpA-aOGF",
      "metadata": {
        "id": "iWSUcpA-aOGF"
      },
      "outputs": [],
      "source": [
        "# Define hyperparameters grid for each model\n",
        "\n",
        "param_grid_SVM = {\n",
        "    'C': [0.1,20,100],\n",
        "    'kernel': ['linear', 'poly', 'rbf', 'sigmoid'],\n",
        "    'gamma': ['scale'],\n",
        "}"
      ]
    },
    {
      "cell_type": "code",
      "execution_count": null,
      "id": "lRb3HdpMOON1",
      "metadata": {
        "id": "lRb3HdpMOON1"
      },
      "outputs": [],
      "source": [
        "# Create GridSearchCV object\n",
        "grid_SVM_model = GridSearchCV(SVM_grid, param_grid_SVM , cv=5)"
      ]
    },
    {
      "cell_type": "code",
      "execution_count": null,
      "id": "bK7JWEyjOMRH",
      "metadata": {
        "colab": {
          "base_uri": "https://localhost:8080/"
        },
        "id": "bK7JWEyjOMRH",
        "outputId": "fc9d2540-56a6-4b6a-de35-1bbba57c85f7"
      },
      "outputs": [
        {
          "name": "stdout",
          "output_type": "stream",
          "text": [
            "Best Hyperparameters: {'C': 100, 'gamma': 'scale', 'kernel': 'rbf'}\n"
          ]
        }
      ],
      "source": [
        "# Fit the grid search to the data\n",
        "grid_SVM_model.fit(X_train, Y_train)\n",
        "\n",
        "# Get the best hyperparameters\n",
        "best_param_SVM = grid_SVM_model.best_params_\n",
        "print(\"Best Hyperparameters:\", best_param_SVM)"
      ]
    },
    {
      "cell_type": "code",
      "execution_count": null,
      "id": "X8UmHPWAOG07",
      "metadata": {
        "colab": {
          "base_uri": "https://localhost:8080/"
        },
        "id": "X8UmHPWAOG07",
        "outputId": "f949ac7f-74f4-4813-ef9b-f9e18292480a"
      },
      "outputs": [
        {
          "name": "stdout",
          "output_type": "stream",
          "text": [
            "              precision    recall  f1-score   support\n",
            "\n",
            "           0       0.81      0.98      0.89       341\n",
            "           1       0.58      0.12      0.21        88\n",
            "\n",
            "    accuracy                           0.80       429\n",
            "   macro avg       0.70      0.55      0.55       429\n",
            "weighted avg       0.76      0.80      0.75       429\n",
            "\n"
          ]
        }
      ],
      "source": [
        "grid_predictions_SVM= grid_SVM_model.predict(X_test)\n",
        "# print classification report\n",
        "print(classification_report(Y_test,grid_predictions_SVM))"
      ]
    },
    {
      "cell_type": "code",
      "execution_count": null,
      "id": "YciYj7WEOJI3",
      "metadata": {
        "colab": {
          "base_uri": "https://localhost:8080/"
        },
        "id": "YciYj7WEOJI3",
        "outputId": "173812f2-bfa4-48c9-8a5c-2686cf054705"
      },
      "outputs": [
        {
          "name": "stdout",
          "output_type": "stream",
          "text": [
            "[[333   8]\n",
            " [ 77  11]]\n",
            " "
          ]
        },
        {
          "data": {
            "text/plain": [
              "0.8018648018648019"
            ]
          },
          "execution_count": 274,
          "metadata": {},
          "output_type": "execute_result"
        }
      ],
      "source": [
        "cf_matrix_SVM = confusion_matrix(Y_test,grid_predictions_SVM)\n",
        "print(cf_matrix_SVM, end ='\\n ')\n",
        "\n",
        "accuracy_score(Y_test,grid_predictions_SVM)"
      ]
    },
    {
      "cell_type": "markdown",
      "id": "BYTGbAn5Zyli",
      "metadata": {
        "id": "BYTGbAn5Zyli"
      },
      "source": [
        "### **E -Réseaux de neurones artificiels (Multilayer Perceptron)** **bold text**"
      ]
    },
    {
      "cell_type": "code",
      "execution_count": null,
      "id": "_yJpMYpzaBNB",
      "metadata": {
        "id": "_yJpMYpzaBNB"
      },
      "outputs": [],
      "source": [
        "# Define the models\n",
        "MLP_grid= MLPClassifier()"
      ]
    },
    {
      "cell_type": "code",
      "execution_count": null,
      "id": "iZMZddYGaPH3",
      "metadata": {
        "id": "iZMZddYGaPH3"
      },
      "outputs": [],
      "source": [
        "# Define hyperparameters grid for each model\n",
        "param_grid_MLP = {\n",
        "    'hidden_layer_sizes': [(100,), (50, 50)],\n",
        "    'activation': ['identity', 'logistic', 'tanh', 'relu'],\n",
        "\n",
        "    'alpha': [0.0001, 0.001, 0.01],\n",
        "\n",
        "}"
      ]
    },
    {
      "cell_type": "code",
      "execution_count": null,
      "id": "I3pMdt22OSaF",
      "metadata": {
        "id": "I3pMdt22OSaF"
      },
      "outputs": [],
      "source": [
        "# Create GridSearchCV object\n",
        "grid_MLP_model = GridSearchCV(MLP_grid, param_grid_MLP, cv=5)"
      ]
    },
    {
      "cell_type": "code",
      "execution_count": null,
      "id": "Mwau2G6ROSlo",
      "metadata": {
        "colab": {
          "background_save": true,
          "base_uri": "https://localhost:8080/"
        },
        "id": "Mwau2G6ROSlo",
        "outputId": "35bb29e1-5154-4ae4-c0d7-1566e0fd1d1c"
      },
      "outputs": [
        {
          "name": "stderr",
          "output_type": "stream",
          "text": [
            "C:\\Users\\smi\\anaconda4\\Lib\\site-packages\\sklearn\\neural_network\\_multilayer_perceptron.py:691: ConvergenceWarning: Stochastic Optimizer: Maximum iterations (200) reached and the optimization hasn't converged yet.\n",
            "  warnings.warn(\n",
            "C:\\Users\\smi\\anaconda4\\Lib\\site-packages\\sklearn\\neural_network\\_multilayer_perceptron.py:691: ConvergenceWarning: Stochastic Optimizer: Maximum iterations (200) reached and the optimization hasn't converged yet.\n",
            "  warnings.warn(\n",
            "C:\\Users\\smi\\anaconda4\\Lib\\site-packages\\sklearn\\neural_network\\_multilayer_perceptron.py:691: ConvergenceWarning: Stochastic Optimizer: Maximum iterations (200) reached and the optimization hasn't converged yet.\n",
            "  warnings.warn(\n",
            "C:\\Users\\smi\\anaconda4\\Lib\\site-packages\\sklearn\\neural_network\\_multilayer_perceptron.py:691: ConvergenceWarning: Stochastic Optimizer: Maximum iterations (200) reached and the optimization hasn't converged yet.\n",
            "  warnings.warn(\n",
            "C:\\Users\\smi\\anaconda4\\Lib\\site-packages\\sklearn\\neural_network\\_multilayer_perceptron.py:691: ConvergenceWarning: Stochastic Optimizer: Maximum iterations (200) reached and the optimization hasn't converged yet.\n",
            "  warnings.warn(\n",
            "C:\\Users\\smi\\anaconda4\\Lib\\site-packages\\sklearn\\neural_network\\_multilayer_perceptron.py:691: ConvergenceWarning: Stochastic Optimizer: Maximum iterations (200) reached and the optimization hasn't converged yet.\n",
            "  warnings.warn(\n",
            "C:\\Users\\smi\\anaconda4\\Lib\\site-packages\\sklearn\\neural_network\\_multilayer_perceptron.py:691: ConvergenceWarning: Stochastic Optimizer: Maximum iterations (200) reached and the optimization hasn't converged yet.\n",
            "  warnings.warn(\n",
            "C:\\Users\\smi\\anaconda4\\Lib\\site-packages\\sklearn\\neural_network\\_multilayer_perceptron.py:691: ConvergenceWarning: Stochastic Optimizer: Maximum iterations (200) reached and the optimization hasn't converged yet.\n",
            "  warnings.warn(\n",
            "C:\\Users\\smi\\anaconda4\\Lib\\site-packages\\sklearn\\neural_network\\_multilayer_perceptron.py:691: ConvergenceWarning: Stochastic Optimizer: Maximum iterations (200) reached and the optimization hasn't converged yet.\n",
            "  warnings.warn(\n",
            "C:\\Users\\smi\\anaconda4\\Lib\\site-packages\\sklearn\\neural_network\\_multilayer_perceptron.py:691: ConvergenceWarning: Stochastic Optimizer: Maximum iterations (200) reached and the optimization hasn't converged yet.\n",
            "  warnings.warn(\n",
            "C:\\Users\\smi\\anaconda4\\Lib\\site-packages\\sklearn\\neural_network\\_multilayer_perceptron.py:691: ConvergenceWarning: Stochastic Optimizer: Maximum iterations (200) reached and the optimization hasn't converged yet.\n",
            "  warnings.warn(\n",
            "C:\\Users\\smi\\anaconda4\\Lib\\site-packages\\sklearn\\neural_network\\_multilayer_perceptron.py:691: ConvergenceWarning: Stochastic Optimizer: Maximum iterations (200) reached and the optimization hasn't converged yet.\n",
            "  warnings.warn(\n",
            "C:\\Users\\smi\\anaconda4\\Lib\\site-packages\\sklearn\\neural_network\\_multilayer_perceptron.py:691: ConvergenceWarning: Stochastic Optimizer: Maximum iterations (200) reached and the optimization hasn't converged yet.\n",
            "  warnings.warn(\n",
            "C:\\Users\\smi\\anaconda4\\Lib\\site-packages\\sklearn\\neural_network\\_multilayer_perceptron.py:691: ConvergenceWarning: Stochastic Optimizer: Maximum iterations (200) reached and the optimization hasn't converged yet.\n",
            "  warnings.warn(\n",
            "C:\\Users\\smi\\anaconda4\\Lib\\site-packages\\sklearn\\neural_network\\_multilayer_perceptron.py:691: ConvergenceWarning: Stochastic Optimizer: Maximum iterations (200) reached and the optimization hasn't converged yet.\n",
            "  warnings.warn(\n",
            "C:\\Users\\smi\\anaconda4\\Lib\\site-packages\\sklearn\\neural_network\\_multilayer_perceptron.py:691: ConvergenceWarning: Stochastic Optimizer: Maximum iterations (200) reached and the optimization hasn't converged yet.\n",
            "  warnings.warn(\n",
            "C:\\Users\\smi\\anaconda4\\Lib\\site-packages\\sklearn\\neural_network\\_multilayer_perceptron.py:691: ConvergenceWarning: Stochastic Optimizer: Maximum iterations (200) reached and the optimization hasn't converged yet.\n",
            "  warnings.warn(\n",
            "C:\\Users\\smi\\anaconda4\\Lib\\site-packages\\sklearn\\neural_network\\_multilayer_perceptron.py:691: ConvergenceWarning: Stochastic Optimizer: Maximum iterations (200) reached and the optimization hasn't converged yet.\n",
            "  warnings.warn(\n",
            "C:\\Users\\smi\\anaconda4\\Lib\\site-packages\\sklearn\\neural_network\\_multilayer_perceptron.py:691: ConvergenceWarning: Stochastic Optimizer: Maximum iterations (200) reached and the optimization hasn't converged yet.\n",
            "  warnings.warn(\n",
            "C:\\Users\\smi\\anaconda4\\Lib\\site-packages\\sklearn\\neural_network\\_multilayer_perceptron.py:691: ConvergenceWarning: Stochastic Optimizer: Maximum iterations (200) reached and the optimization hasn't converged yet.\n",
            "  warnings.warn(\n",
            "C:\\Users\\smi\\anaconda4\\Lib\\site-packages\\sklearn\\neural_network\\_multilayer_perceptron.py:691: ConvergenceWarning: Stochastic Optimizer: Maximum iterations (200) reached and the optimization hasn't converged yet.\n",
            "  warnings.warn(\n",
            "C:\\Users\\smi\\anaconda4\\Lib\\site-packages\\sklearn\\neural_network\\_multilayer_perceptron.py:691: ConvergenceWarning: Stochastic Optimizer: Maximum iterations (200) reached and the optimization hasn't converged yet.\n",
            "  warnings.warn(\n",
            "C:\\Users\\smi\\anaconda4\\Lib\\site-packages\\sklearn\\neural_network\\_multilayer_perceptron.py:691: ConvergenceWarning: Stochastic Optimizer: Maximum iterations (200) reached and the optimization hasn't converged yet.\n",
            "  warnings.warn(\n",
            "C:\\Users\\smi\\anaconda4\\Lib\\site-packages\\sklearn\\neural_network\\_multilayer_perceptron.py:691: ConvergenceWarning: Stochastic Optimizer: Maximum iterations (200) reached and the optimization hasn't converged yet.\n",
            "  warnings.warn(\n",
            "C:\\Users\\smi\\anaconda4\\Lib\\site-packages\\sklearn\\neural_network\\_multilayer_perceptron.py:691: ConvergenceWarning: Stochastic Optimizer: Maximum iterations (200) reached and the optimization hasn't converged yet.\n",
            "  warnings.warn(\n",
            "C:\\Users\\smi\\anaconda4\\Lib\\site-packages\\sklearn\\neural_network\\_multilayer_perceptron.py:691: ConvergenceWarning: Stochastic Optimizer: Maximum iterations (200) reached and the optimization hasn't converged yet.\n",
            "  warnings.warn(\n",
            "C:\\Users\\smi\\anaconda4\\Lib\\site-packages\\sklearn\\neural_network\\_multilayer_perceptron.py:691: ConvergenceWarning: Stochastic Optimizer: Maximum iterations (200) reached and the optimization hasn't converged yet.\n",
            "  warnings.warn(\n",
            "C:\\Users\\smi\\anaconda4\\Lib\\site-packages\\sklearn\\neural_network\\_multilayer_perceptron.py:691: ConvergenceWarning: Stochastic Optimizer: Maximum iterations (200) reached and the optimization hasn't converged yet.\n",
            "  warnings.warn(\n",
            "C:\\Users\\smi\\anaconda4\\Lib\\site-packages\\sklearn\\neural_network\\_multilayer_perceptron.py:691: ConvergenceWarning: Stochastic Optimizer: Maximum iterations (200) reached and the optimization hasn't converged yet.\n",
            "  warnings.warn(\n",
            "C:\\Users\\smi\\anaconda4\\Lib\\site-packages\\sklearn\\neural_network\\_multilayer_perceptron.py:691: ConvergenceWarning: Stochastic Optimizer: Maximum iterations (200) reached and the optimization hasn't converged yet.\n",
            "  warnings.warn(\n",
            "C:\\Users\\smi\\anaconda4\\Lib\\site-packages\\sklearn\\neural_network\\_multilayer_perceptron.py:691: ConvergenceWarning: Stochastic Optimizer: Maximum iterations (200) reached and the optimization hasn't converged yet.\n",
            "  warnings.warn(\n",
            "C:\\Users\\smi\\anaconda4\\Lib\\site-packages\\sklearn\\neural_network\\_multilayer_perceptron.py:691: ConvergenceWarning: Stochastic Optimizer: Maximum iterations (200) reached and the optimization hasn't converged yet.\n",
            "  warnings.warn(\n",
            "C:\\Users\\smi\\anaconda4\\Lib\\site-packages\\sklearn\\neural_network\\_multilayer_perceptron.py:691: ConvergenceWarning: Stochastic Optimizer: Maximum iterations (200) reached and the optimization hasn't converged yet.\n",
            "  warnings.warn(\n",
            "C:\\Users\\smi\\anaconda4\\Lib\\site-packages\\sklearn\\neural_network\\_multilayer_perceptron.py:691: ConvergenceWarning: Stochastic Optimizer: Maximum iterations (200) reached and the optimization hasn't converged yet.\n",
            "  warnings.warn(\n",
            "C:\\Users\\smi\\anaconda4\\Lib\\site-packages\\sklearn\\neural_network\\_multilayer_perceptron.py:691: ConvergenceWarning: Stochastic Optimizer: Maximum iterations (200) reached and the optimization hasn't converged yet.\n",
            "  warnings.warn(\n",
            "C:\\Users\\smi\\anaconda4\\Lib\\site-packages\\sklearn\\neural_network\\_multilayer_perceptron.py:691: ConvergenceWarning: Stochastic Optimizer: Maximum iterations (200) reached and the optimization hasn't converged yet.\n",
            "  warnings.warn(\n",
            "C:\\Users\\smi\\anaconda4\\Lib\\site-packages\\sklearn\\neural_network\\_multilayer_perceptron.py:691: ConvergenceWarning: Stochastic Optimizer: Maximum iterations (200) reached and the optimization hasn't converged yet.\n",
            "  warnings.warn(\n",
            "C:\\Users\\smi\\anaconda4\\Lib\\site-packages\\sklearn\\neural_network\\_multilayer_perceptron.py:691: ConvergenceWarning: Stochastic Optimizer: Maximum iterations (200) reached and the optimization hasn't converged yet.\n",
            "  warnings.warn(\n",
            "C:\\Users\\smi\\anaconda4\\Lib\\site-packages\\sklearn\\neural_network\\_multilayer_perceptron.py:691: ConvergenceWarning: Stochastic Optimizer: Maximum iterations (200) reached and the optimization hasn't converged yet.\n",
            "  warnings.warn(\n"
          ]
        },
        {
          "name": "stdout",
          "output_type": "stream",
          "text": [
            "Best Hyperparameters: {'activation': 'relu', 'alpha': 0.0001, 'hidden_layer_sizes': (50, 50)}\n"
          ]
        },
        {
          "name": "stderr",
          "output_type": "stream",
          "text": [
            "C:\\Users\\smi\\anaconda4\\Lib\\site-packages\\sklearn\\neural_network\\_multilayer_perceptron.py:691: ConvergenceWarning: Stochastic Optimizer: Maximum iterations (200) reached and the optimization hasn't converged yet.\n",
            "  warnings.warn(\n"
          ]
        }
      ],
      "source": [
        "# Fit the grid search to the data\n",
        "grid_MLP_model.fit(X_train, Y_train)\n",
        "\n",
        "# Get the best hyperparameters\n",
        "best_param_MLP = grid_MLP_model.best_params_\n",
        "print(\"Best Hyperparameters:\", best_param_MLP)"
      ]
    },
    {
      "cell_type": "code",
      "execution_count": null,
      "id": "gtCmq1SHOS1E",
      "metadata": {
        "id": "gtCmq1SHOS1E",
        "outputId": "87473560-bc4f-4133-b194-90935f16d06c"
      },
      "outputs": [
        {
          "name": "stdout",
          "output_type": "stream",
          "text": [
            "              precision    recall  f1-score   support\n",
            "\n",
            "           0       0.82      0.96      0.88       341\n",
            "           1       0.50      0.17      0.25        88\n",
            "\n",
            "    accuracy                           0.79       429\n",
            "   macro avg       0.66      0.56      0.57       429\n",
            "weighted avg       0.75      0.79      0.75       429\n",
            "\n"
          ]
        }
      ],
      "source": [
        "grid_predictions_MLP= grid_MLP_model.predict(X_test)\n",
        "# print classification report\n",
        "print(classification_report(Y_test,grid_predictions_MLP))"
      ]
    },
    {
      "cell_type": "code",
      "execution_count": null,
      "id": "mUnZmoupOSsI",
      "metadata": {
        "id": "mUnZmoupOSsI",
        "outputId": "c6f483ba-bcb9-48e0-c32a-ecc04ee725ed"
      },
      "outputs": [
        {
          "name": "stdout",
          "output_type": "stream",
          "text": [
            "[[326  15]\n",
            " [ 73  15]]\n",
            " "
          ]
        },
        {
          "data": {
            "text/plain": [
              "0.7948717948717948"
            ]
          },
          "execution_count": 282,
          "metadata": {},
          "output_type": "execute_result"
        }
      ],
      "source": [
        "cf_matrix_MLP = confusion_matrix(Y_test,grid_predictions_MLP)\n",
        "print(cf_matrix_MLP, end ='\\n ')\n",
        "\n",
        "accuracy_score(Y_test,grid_predictions_MLP)"
      ]
    },
    {
      "cell_type": "markdown",
      "id": "6c3f611e",
      "metadata": {
        "id": "6c3f611e"
      },
      "source": [
        "## 8- Compare the performance of the models before and after the optimization of the hyperparameters."
      ]
    },
    {
      "cell_type": "code",
      "execution_count": null,
      "id": "hF4C65Y9Pbik",
      "metadata": {
        "id": "hF4C65Y9Pbik",
        "outputId": "468c02ac-8bda-4433-d503-ae663961944f"
      },
      "outputs": [
        {
          "data": {
            "image/png": "[encoded data removed]",
            "text/plain": [
              "<Figure size 1000x600 with 1 Axes>"
            ]
          },
          "metadata": {},
          "output_type": "display_data"
        }
      ],
      "source": [
        "import matplotlib.pyplot as plt\n",
        "import numpy as np\n",
        "\n",
        "\n",
        "# Model names and their scores before and after tuning\n",
        "models_scores = {\n",
        "    'DecisionTree': {'Before tuning':0.776 , 'After tuning': 0.795},\n",
        "    'KNN': {'Before tuning':0.7626 , 'After tuning': 0.8298},\n",
        "    'SVM': {'Before tuning':0.7918 , 'After tuning': 0.802},\n",
        "    'Random Forest': {'Before tuning':0.8326 , 'After tuning':0.8508},\n",
        "    'MLP': {'Before tuning': 0.791, 'After tuning': 0.795}\n",
        "}\n",
        "\n",
        "\n",
        "\n",
        "# Extract model names and scores\n",
        "model_names = list(models_scores.keys())\n",
        "scores_before = [models_scores[model]['Before tuning'] for model in model_names]\n",
        "scores_after = [models_scores[model]['After tuning'] for model in model_names]\n",
        "\n",
        "# Plotting\n",
        "plt.figure(figsize=(10, 6))\n",
        "\n",
        "# Plot scores before tuning\n",
        "bars_before = plt.bar(np.arange(len(model_names)) - 0.2, scores_before, width=0.4, label='Before Tuning', color='b')\n",
        "\n",
        "# Plot scores after tuning\n",
        "bars_after = plt.bar(np.arange(len(model_names)) + 0.2, scores_after, width=0.4, label='After Tuning', color='g')\n",
        "\n",
        "# Adding text annotations\n",
        "for bar in bars_before:\n",
        "    yval = bar.get_height()\n",
        "    plt.text(bar.get_x() + bar.get_width()/2, yval + 0.01, round(yval, 2), ha='center', va='bottom')\n",
        "\n",
        "for bar in bars_after:\n",
        "    yval = bar.get_height()\n",
        "    plt.text(bar.get_x() + bar.get_width()/2, yval + 0.01, round(yval, 2), ha='center', va='bottom')\n",
        "\n",
        "# Adding labels and titles\n",
        "plt.xticks(np.arange(len(model_names)), model_names)\n",
        "plt.ylabel('Accuracy')\n",
        "plt.title('Model Accuracy Before and After Tuning')\n",
        "plt.ylim(0, 1)\n",
        "plt.legend()\n",
        "plt.tight_layout()\n",
        "plt.show()"
      ]
    }
  ],
  "metadata": {
    "colab": {
      "provenance": []
    },
    "kernelspec": {
      "display_name": "Python 3 (ipykernel)",
      "language": "python",
      "name": "python3"
    },
    "language_info": {
      "codemirror_mode": {
        "name": "ipython",
        "version": 3
      },
      "file_extension": ".py",
      "mimetype": "text/x-python",
      "name": "python",
      "nbconvert_exporter": "python",
      "pygments_lexer": "ipython3",
      "version": "3.10.9"
    }
  },
  "nbformat": 4,
  "nbformat_minor": 5
}